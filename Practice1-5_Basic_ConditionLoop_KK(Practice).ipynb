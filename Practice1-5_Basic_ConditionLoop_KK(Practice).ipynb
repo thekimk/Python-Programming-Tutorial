{
 "cells": [
  {
   "cell_type": "code",
   "execution_count": 1,
   "metadata": {
    "ExecuteTime": {
     "end_time": "2022-04-04T04:08:39.255453Z",
     "start_time": "2022-04-04T04:08:39.221453Z"
    }
   },
   "outputs": [
    {
     "name": "stdout",
     "output_type": "stream",
     "text": [
      "Intel64 Family 6 Model 158 Stepping 10, GenuineIntel\n",
      "48(GB)\n",
      "Windows\n",
      "10.0.22000\n",
      "C:\\DataScience\\Lecture\\[DataScience]\n",
      "2022-03-21 01:44:14.436007\n",
      "2022-04-04 13:02:29.471007\n",
      "2022-04-04 13:02:29.471007\n",
      "2022-04-04 13:08:39.243454\n",
      "다음 출력을 파일명으로 설정하고 제출하시오: 김경원_20211011_비즈니스혁신을위한데이터사이언스응용_1반_ConditionLoop\n"
     ]
    }
   ],
   "source": [
    "# 반드시 이 cell을 실행하시오\n",
    "# 실행하지 않을 시 직접 하지 않은 것으로 간주\n",
    "# 마지막 줄 출력으로 파일명을 설정하고 제출 필수\n",
    "import platform, psutil, os, datetime\n",
    "print(platform.processor())\n",
    "print(str(round(psutil.virtual_memory().total / (1024.0 **3)))+\"(GB)\")\n",
    "print(platform.system())\n",
    "print(platform.version())\n",
    "print(os.getcwd())\n",
    "print(datetime.datetime.fromtimestamp(os.path.getctime(os.getcwd())))\n",
    "print(datetime.datetime.fromtimestamp(os.path.getmtime(os.getcwd())))\n",
    "print(datetime.datetime.fromtimestamp(os.path.getatime(os.getcwd())))\n",
    "print(datetime.datetime.now())\n",
    "title = 'ConditionLoop'    # 고정값\n",
    "name = '김경원'    # 본인 이름을 작성\n",
    "studentid = '20211011'    # 본인 학번을 작성\n",
    "course = '비즈니스혁신을위한데이터사이언스응용'    # 'E정보시스템', 'E데이터베이스', '빅데이터', \n",
    "                          # '비즈니스혁신을위한데이터사이언스응용', '인공지능활용디지털경제플랫폼연구'\n",
    "course_number = '1반'    #  학수번호 끝자리\n",
    "                         # E데이터베이스 (0003854001) => 1반\n",
    "                         # E데이터베이스 (0003854002) => 2반\n",
    "                         # 빅데이터 (0006718001) => 1반\n",
    "                         # 비즈니스혁신을위한데이터사이언스응용 (1002667001) => 1반\n",
    "print('다음 출력을 파일명으로 설정하고 제출하시오:', name + '_' + studentid + '_' + course + '_' + course_number + '_' + title)"
   ]
  },
  {
   "cell_type": "markdown",
   "metadata": {},
   "source": [
    "# **파이썬 조건문(Condition Statements): 조건에 따라 어떻게 행동할지 결정하자**\n",
    "\n",
    "[![Open in Colab](http://colab.research.google.com/assets/colab-badge.svg)](https://colab.research.google.com/github/cheonbi/ProgrammingPython/blob/main/Practice1-5_Basic_ConditionLoop_KK(Practice).ipynb)\n",
    "\n",
    "- **목적:** 입력을 하거나 데이터를 처리 및 출력할 때, 특정 조건인 경우 실행되게 하는 기능\n",
    "\n",
    "> - 조건이 참(True) 또는 거짓(False)으로 나뉨\n",
    "> - 주로 논리 연산자와 산술 연산자와 함께 사용\n",
    "> - 조건문 뒤에 만드시 콜론(:) 붙이는 것이 문법\n",
    ">> - 콜론이 등장하면 그 다음 줄부터 무조건 들여쓰기 함\n",
    "> - 다른 프로그래밍과의 차이는 괄호로 묶여 구분하지 않고 들여쓰기로 영역 구분\n",
    "> - 조건에 따라 해당 조건에 맞는 상황을 실행 할 수 있게 됨\n",
    "\n",
    "## if / elif / else\n",
    "\n",
    "> **\"만약 x가 10이면, '10입니다.'를 출력하라!\"**\n",
    "<center><img src='Image/Condition_Structure.png' width='600'></center>\n",
    "\n",
    "```python\n",
    "if 조건식:\n",
    "    실행할 명령\n",
    "```\n",
    "\n",
    "---\n",
    "\n",
    "```python\n",
    "if 내일 비가 온다:\n",
    "    집에서 TV본다\n",
    "```"
   ]
  },
  {
   "cell_type": "code",
   "execution_count": 1,
   "metadata": {
    "ExecuteTime": {
     "end_time": "2022-04-03T14:27:48.911069Z",
     "start_time": "2022-04-03T14:27:48.902072Z"
    }
   },
   "outputs": [
    {
     "name": "stdout",
     "output_type": "stream",
     "text": [
      "돈이 500원 이상 있습니다.\n"
     ]
    }
   ],
   "source": [
    "money = 1000\n",
    "\n",
    "if money >= 500: \n",
    "    print(\"돈이 500원 이상 있습니다.\")"
   ]
  },
  {
   "cell_type": "code",
   "execution_count": 2,
   "metadata": {
    "ExecuteTime": {
     "end_time": "2022-04-03T14:27:48.926079Z",
     "start_time": "2022-04-03T14:27:48.912083Z"
    }
   },
   "outputs": [],
   "source": [
    "money = 100\n",
    "\n",
    "if money >= 500: \n",
    "    print(\"돈이 500원 이상 있습니다.\")"
   ]
  },
  {
   "cell_type": "code",
   "execution_count": 3,
   "metadata": {
    "ExecuteTime": {
     "end_time": "2022-04-03T14:27:48.941076Z",
     "start_time": "2022-04-03T14:27:48.927045Z"
    }
   },
   "outputs": [
    {
     "data": {
      "text/plain": [
       "False"
      ]
     },
     "execution_count": 3,
     "metadata": {},
     "output_type": "execute_result"
    }
   ],
   "source": [
    "money >= 500"
   ]
  },
  {
   "cell_type": "markdown",
   "metadata": {},
   "source": [
    "> **\"만약 x가 10이면, '10입니다.'를 출력하라!\"**    \n",
    "> **\"아니면 '10이 아닙니다.'를 출력하라!\"**\n",
    "> ```python\n",
    "if x == 10:\n",
    "    print('10입니다.')\n",
    "else:\n",
    "    print('10이 아닙니다.')\n",
    "\n",
    "---\n",
    "\n",
    "```python\n",
    "if 조건식:\n",
    "    실행할 명령1\n",
    "else:\n",
    "    실행할 명령2\n",
    "```\n",
    "\n",
    "---\n",
    "\n",
    "```python\n",
    "if 내일 비가 온다:\n",
    "    집에서 TV본다\n",
    "else:\n",
    "    밖에서 산택한다\n",
    "```"
   ]
  },
  {
   "cell_type": "code",
   "execution_count": 4,
   "metadata": {
    "ExecuteTime": {
     "end_time": "2022-04-03T14:27:48.956044Z",
     "start_time": "2022-04-03T14:27:48.943046Z"
    }
   },
   "outputs": [
    {
     "name": "stdout",
     "output_type": "stream",
     "text": [
      "돈이 500원 미만 입니다.\n"
     ]
    }
   ],
   "source": [
    "# 돈이 100원일 때 \"돈이 500원 미만 입니다.\" 출력하기\n"
   ]
  },
  {
   "cell_type": "code",
   "execution_count": 5,
   "metadata": {
    "ExecuteTime": {
     "end_time": "2022-04-03T14:27:48.971079Z",
     "start_time": "2022-04-03T14:27:48.957044Z"
    }
   },
   "outputs": [],
   "source": [
    "# # 명령어 사용 후 들여쓰기 기준 할당 내용이 없으면 오류\n"
   ]
  },
  {
   "cell_type": "code",
   "execution_count": 6,
   "metadata": {
    "ExecuteTime": {
     "end_time": "2022-04-03T14:27:48.986077Z",
     "start_time": "2022-04-03T14:27:48.972042Z"
    }
   },
   "outputs": [
    {
     "name": "stdout",
     "output_type": "stream",
     "text": [
      "돈이 500원 미만 입니다.\n",
      "허허..\n"
     ]
    }
   ],
   "source": [
    "money = 100\n",
    "\n",
    "if money >= 500: \n",
    "    print(\"돈이 500원 이상 있습니다.\")\n",
    "else:\n",
    "    print(\"돈이 500원 미만 입니다.\")\n",
    "print(\"허허..\")"
   ]
  },
  {
   "cell_type": "code",
   "execution_count": 7,
   "metadata": {
    "ExecuteTime": {
     "end_time": "2022-04-03T14:27:49.001070Z",
     "start_time": "2022-04-03T14:27:48.987080Z"
    }
   },
   "outputs": [
    {
     "name": "stdout",
     "output_type": "stream",
     "text": [
      "돈이 500원 이상 있습니다.\n",
      "허허..\n"
     ]
    }
   ],
   "source": [
    "money = 500\n",
    "\n",
    "if money >= 500: \n",
    "    print(\"돈이 500원 이상 있습니다.\")\n",
    "else:\n",
    "    print(\"돈이 500원 미만 입니다.\")\n",
    "print(\"허허..\")"
   ]
  },
  {
   "cell_type": "code",
   "execution_count": 8,
   "metadata": {
    "ExecuteTime": {
     "end_time": "2022-04-03T14:27:49.016043Z",
     "start_time": "2022-04-03T14:27:49.002044Z"
    }
   },
   "outputs": [
    {
     "name": "stdout",
     "output_type": "stream",
     "text": [
      "돈이 500원 이상 있습니다.\n"
     ]
    }
   ],
   "source": [
    "# 돈이 500일때와 아닐때를 실행해서 비교\n"
   ]
  },
  {
   "cell_type": "markdown",
   "metadata": {},
   "source": [
    "> **\"if ~ elif ~ else\"**\n",
    "> - if와 else는 한번만 사용할 수 있지만, elif는 여러번 사용 가능\n",
    "> - elif는 단독으로 사용할 수 없고 if와 else 사이에만 와야 함\n",
    "> - else와 elif는 if 없이 혼자 쓸 수 없음\n",
    "\n",
    "```python\n",
    "if 조건식1:\n",
    "    실행할 명령1\n",
    "elif (조건1은 거짓인데) 조건식2:\n",
    "    실행할 명령2\n",
    "else: (조건 1,2 모두 거짓이면)\n",
    "    실행할 명령3\n",
    "```\n",
    "\n",
    "---\n",
    "\n",
    "```python\n",
    "if 내일 비가 온다:\n",
    "    집에서 TV본다\n",
    "elif (비는 안오는데) 내일 덥다:\n",
    "    집에서 에어컨 켜고 TV본다\n",
    "else: (비도 안오고 안더우면)\n",
    "    밖에서 산택한다\n",
    "```"
   ]
  },
  {
   "cell_type": "code",
   "execution_count": 9,
   "metadata": {
    "ExecuteTime": {
     "end_time": "2022-04-03T14:27:49.031042Z",
     "start_time": "2022-04-03T14:27:49.017067Z"
    }
   },
   "outputs": [],
   "source": [
    "# 돈이 500원이 있을 때 \"돈이 딱 500원 있습니다.\" 출력하기\n"
   ]
  },
  {
   "cell_type": "code",
   "execution_count": 10,
   "metadata": {
    "ExecuteTime": {
     "end_time": "2022-04-03T14:27:49.046077Z",
     "start_time": "2022-04-03T14:27:49.033043Z"
    }
   },
   "outputs": [
    {
     "data": {
      "text/plain": [
       "False"
      ]
     },
     "execution_count": 10,
     "metadata": {},
     "output_type": "execute_result"
    }
   ],
   "source": [
    "money > 500"
   ]
  },
  {
   "cell_type": "code",
   "execution_count": 11,
   "metadata": {
    "ExecuteTime": {
     "end_time": "2022-04-03T14:27:49.061079Z",
     "start_time": "2022-04-03T14:27:49.047046Z"
    }
   },
   "outputs": [
    {
     "name": "stdout",
     "output_type": "stream",
     "text": [
      "돈이 500원 미만 입니다.\n"
     ]
    }
   ],
   "source": [
    "# 들여쓰기 위치에 따른 출력 확인\n"
   ]
  },
  {
   "cell_type": "code",
   "execution_count": 12,
   "metadata": {
    "ExecuteTime": {
     "end_time": "2022-04-03T14:27:49.076076Z",
     "start_time": "2022-04-03T14:27:49.062049Z"
    }
   },
   "outputs": [
    {
     "name": "stdout",
     "output_type": "stream",
     "text": [
      "돈이 딱 500원 있습니다.\n"
     ]
    }
   ],
   "source": [
    "money = 500\n",
    "\n",
    "if money > 500: \n",
    "    print(\"돈이 500원 이상 있습니다.\")\n",
    "if money == 500:\n",
    "    print(\"돈이 딱 500원 있습니다.\")\n",
    "else:    # money != 500\n",
    "    print(\"돈이 500원 미만 입니다.\")"
   ]
  },
  {
   "cell_type": "code",
   "execution_count": 13,
   "metadata": {
    "ExecuteTime": {
     "end_time": "2022-04-03T14:27:49.091074Z",
     "start_time": "2022-04-03T14:27:49.077042Z"
    }
   },
   "outputs": [
    {
     "name": "stdout",
     "output_type": "stream",
     "text": [
      "돈이 500원 이상 있습니다.\n",
      "돈이 500원 미만 입니다.\n"
     ]
    }
   ],
   "source": [
    "# 동일 들여쓰기 위치에 if문이 있으면 반복적으로 if문 실행\n"
   ]
  },
  {
   "cell_type": "code",
   "execution_count": 14,
   "metadata": {
    "ExecuteTime": {
     "end_time": "2022-04-03T14:27:49.106076Z",
     "start_time": "2022-04-03T14:27:49.092065Z"
    }
   },
   "outputs": [
    {
     "name": "stdout",
     "output_type": "stream",
     "text": [
      "돈이 500원 이상 있습니다.\n"
     ]
    }
   ],
   "source": [
    "# if ~ elif ~ else 사용하여 돈이 5000원 있을 때 \"돈이 500원 이상 있습니다.\" 출력하기\n"
   ]
  },
  {
   "cell_type": "code",
   "execution_count": 15,
   "metadata": {
    "ExecuteTime": {
     "end_time": "2022-04-03T14:27:49.121075Z",
     "start_time": "2022-04-03T14:27:49.107047Z"
    }
   },
   "outputs": [
    {
     "name": "stdout",
     "output_type": "stream",
     "text": [
      "돈이 딱 500원 있습니다.\n"
     ]
    }
   ],
   "source": [
    "# if ~ elif ~ else 사용하여 돈이 500원 있을 때 \"돈이 딱 500원 있습니다.\" 출력하기\n"
   ]
  },
  {
   "cell_type": "code",
   "execution_count": 16,
   "metadata": {
    "ExecuteTime": {
     "end_time": "2022-04-03T14:27:49.136080Z",
     "start_time": "2022-04-03T14:27:49.122045Z"
    }
   },
   "outputs": [
    {
     "name": "stdout",
     "output_type": "stream",
     "text": [
      "돈이 500원 미만 입니다.\n"
     ]
    }
   ],
   "source": [
    "# if ~ elif ~ else 사용하여 돈이 50원 있을 때 \"돈이 500원 미만 입니다.\" 출력하기\n"
   ]
  },
  {
   "cell_type": "code",
   "execution_count": 17,
   "metadata": {
    "ExecuteTime": {
     "end_time": "2022-04-03T14:27:49.152082Z",
     "start_time": "2022-04-03T14:27:49.137077Z"
    }
   },
   "outputs": [
    {
     "name": "stdout",
     "output_type": "stream",
     "text": [
      "돈이 딱 500원 있습니다.\n"
     ]
    }
   ],
   "source": [
    "# elif를 사용하지 않고 돈이 500원 있을 때 \"돈이 딱 500원 있습니다.\" 출력하기\n",
    "# 위에 있는 코드를 동일하게 복제\n"
   ]
  },
  {
   "cell_type": "code",
   "execution_count": 18,
   "metadata": {
    "ExecuteTime": {
     "end_time": "2022-04-03T14:27:49.167079Z",
     "start_time": "2022-04-03T14:27:49.153043Z"
    }
   },
   "outputs": [],
   "source": [
    "# # elif로 시작할 수 없음\n"
   ]
  },
  {
   "cell_type": "code",
   "execution_count": 19,
   "metadata": {
    "ExecuteTime": {
     "end_time": "2022-04-03T14:27:49.182061Z",
     "start_time": "2022-04-03T14:27:49.168087Z"
    }
   },
   "outputs": [],
   "source": [
    "# # 조건문 사용 후 명령이 없으면 오류\n"
   ]
  },
  {
   "cell_type": "code",
   "execution_count": 20,
   "metadata": {
    "ExecuteTime": {
     "end_time": "2022-04-03T14:27:49.197076Z",
     "start_time": "2022-04-03T14:27:49.183043Z"
    }
   },
   "outputs": [],
   "source": [
    "# 조건문 사용 후 명령이 없거나 나중에 반영하고 싶을 때 pass 사용하면 오류 미발생\n"
   ]
  },
  {
   "cell_type": "code",
   "execution_count": 21,
   "metadata": {
    "ExecuteTime": {
     "end_time": "2022-04-03T14:27:49.212074Z",
     "start_time": "2022-04-03T14:27:49.198076Z"
    }
   },
   "outputs": [],
   "source": [
    "# 예시\n"
   ]
  },
  {
   "cell_type": "code",
   "execution_count": 22,
   "metadata": {
    "ExecuteTime": {
     "end_time": "2022-04-03T14:27:49.227042Z",
     "start_time": "2022-04-03T14:27:49.213046Z"
    }
   },
   "outputs": [
    {
     "name": "stdout",
     "output_type": "stream",
     "text": [
      "5000은 아닌가벼!\n"
     ]
    }
   ],
   "source": [
    "# 예시\n"
   ]
  },
  {
   "cell_type": "code",
   "execution_count": 23,
   "metadata": {
    "ExecuteTime": {
     "end_time": "2022-04-03T14:27:49.242044Z",
     "start_time": "2022-04-03T14:27:49.228077Z"
    }
   },
   "outputs": [
    {
     "name": "stdout",
     "output_type": "stream",
     "text": [
      "5000은 아닌가벼!\n"
     ]
    }
   ],
   "source": [
    "# 조건문과 명령을 한줄에 줄여서 사용해도 실행은 가능\n",
    "# (초급인경우) 실사용은 권장하지 않음\n"
   ]
  },
  {
   "cell_type": "code",
   "execution_count": 24,
   "metadata": {
    "ExecuteTime": {
     "end_time": "2022-04-03T14:27:49.257042Z",
     "start_time": "2022-04-03T14:27:49.243047Z"
    }
   },
   "outputs": [],
   "source": [
    "# # 진행할 명령어도 없는데 들여쓰기를 하면 에러 발생\n"
   ]
  },
  {
   "cell_type": "code",
   "execution_count": 25,
   "metadata": {
    "ExecuteTime": {
     "end_time": "2022-04-03T14:27:49.272041Z",
     "start_time": "2022-04-03T14:27:49.258042Z"
    }
   },
   "outputs": [
    {
     "name": "stdout",
     "output_type": "stream",
     "text": [
      "x에 들어있는 숫자는\n",
      "10입니다.\n"
     ]
    }
   ],
   "source": [
    "# 조건문 이하 명령은 여러줄 실행 가능\n"
   ]
  },
  {
   "cell_type": "code",
   "execution_count": 26,
   "metadata": {
    "ExecuteTime": {
     "end_time": "2022-04-03T14:27:49.287041Z",
     "start_time": "2022-04-03T14:27:49.273044Z"
    }
   },
   "outputs": [
    {
     "name": "stdout",
     "output_type": "stream",
     "text": [
      "x에 들어있는 숫자는\n",
      "10입니다.\n"
     ]
    }
   ],
   "source": [
    "# 조건문이 관할하는 명령문은 오로지 들여쓰기 기준으로만 판단\n"
   ]
  },
  {
   "cell_type": "code",
   "execution_count": 27,
   "metadata": {
    "ExecuteTime": {
     "end_time": "2022-04-03T14:27:49.302077Z",
     "start_time": "2022-04-03T14:27:49.288042Z"
    }
   },
   "outputs": [
    {
     "name": "stdout",
     "output_type": "stream",
     "text": [
      "10입니다.\n"
     ]
    }
   ],
   "source": [
    "# 예시\n"
   ]
  },
  {
   "cell_type": "markdown",
   "metadata": {},
   "source": [
    "- **Question:** 아래 코드에서 x의 값이 10이 아닐때 `ok`가 출력되도록 하시오\n",
    "\n",
    "```python\n",
    "x = 5\n",
    "\n",
    "if __________:\n",
    "    print(____)\n",
    "```"
   ]
  },
  {
   "cell_type": "code",
   "execution_count": null,
   "metadata": {
    "ExecuteTime": {
     "end_time": "2021-10-06T06:26:32.706250Z",
     "start_time": "2021-10-06T06:26:32.695862Z"
    }
   },
   "outputs": [],
   "source": [
    "\n"
   ]
  },
  {
   "cell_type": "markdown",
   "metadata": {},
   "source": [
    "- if, elif는 여러개 있더라도 하나만 참인 경우만 실행되며, elif는 같은 if절로 취급\n",
    "\n",
    "```python\n",
    "if 조건문1:\n",
    "    실행할 명령11\n",
    "    실행할 명령21\n",
    "elif 조건문2:\n",
    "    실행할 명령21\n",
    "    실행할 명령22\n",
    "elif 조건문3:\n",
    "    실행할 명령31\n",
    "    실행할 명령32\n",
    "else:\n",
    "    실행할 명령41\n",
    "    실행할 명령42\n",
    "```"
   ]
  },
  {
   "cell_type": "code",
   "execution_count": 28,
   "metadata": {
    "ExecuteTime": {
     "end_time": "2022-04-03T14:27:49.318075Z",
     "start_time": "2022-04-03T14:27:49.306075Z"
    }
   },
   "outputs": [
    {
     "name": "stdout",
     "output_type": "stream",
     "text": [
      "10\n",
      "20\n",
      "30\n"
     ]
    }
   ],
   "source": [
    "# if문을 동일 들여쓰기에서 반복하면 모두 실행됨\n"
   ]
  },
  {
   "cell_type": "code",
   "execution_count": 29,
   "metadata": {
    "ExecuteTime": {
     "end_time": "2022-04-03T14:27:49.333044Z",
     "start_time": "2022-04-03T14:27:49.319078Z"
    }
   },
   "outputs": [
    {
     "name": "stdout",
     "output_type": "stream",
     "text": [
      "10\n"
     ]
    }
   ],
   "source": [
    "# elif는 여러번 사용가능\n"
   ]
  },
  {
   "cell_type": "code",
   "execution_count": 30,
   "metadata": {
    "ExecuteTime": {
     "end_time": "2022-04-03T14:27:49.348074Z",
     "start_time": "2022-04-03T14:27:49.334044Z"
    }
   },
   "outputs": [
    {
     "name": "stdout",
     "output_type": "stream",
     "text": [
      "20\n"
     ]
    }
   ],
   "source": [
    "# 예시\n"
   ]
  },
  {
   "cell_type": "markdown",
   "metadata": {},
   "source": [
    "## 조건식의 특수경우"
   ]
  },
  {
   "cell_type": "code",
   "execution_count": 31,
   "metadata": {
    "ExecuteTime": {
     "end_time": "2022-04-03T14:27:49.363078Z",
     "start_time": "2022-04-03T14:27:49.349045Z"
    }
   },
   "outputs": [
    {
     "name": "stdout",
     "output_type": "stream",
     "text": [
      "참\n",
      "거짓\n",
      "거짓\n"
     ]
    }
   ],
   "source": [
    "# 조건식에 True / False에 대응되는 불리언 사용가능\n"
   ]
  },
  {
   "cell_type": "code",
   "execution_count": 32,
   "metadata": {
    "ExecuteTime": {
     "end_time": "2022-04-03T14:27:49.378076Z",
     "start_time": "2022-04-03T14:27:49.364044Z"
    }
   },
   "outputs": [
    {
     "data": {
      "text/plain": [
       "False"
      ]
     },
     "execution_count": 32,
     "metadata": {},
     "output_type": "execute_result"
    }
   ],
   "source": [
    "# 예시\n"
   ]
  },
  {
   "cell_type": "markdown",
   "metadata": {},
   "source": [
    "- 0이면 `거짓`, 0이 아닌 수는 `참`"
   ]
  },
  {
   "cell_type": "code",
   "execution_count": 33,
   "metadata": {
    "ExecuteTime": {
     "end_time": "2022-04-03T14:27:49.393077Z",
     "start_time": "2022-04-03T14:27:49.379077Z"
    }
   },
   "outputs": [
    {
     "name": "stdout",
     "output_type": "stream",
     "text": [
      "거짓\n",
      "참\n",
      "참\n",
      "참\n",
      "참\n"
     ]
    }
   ],
   "source": [
    "# 조건식에 True / False에 대응되는 숫자 사용가능\n"
   ]
  },
  {
   "cell_type": "markdown",
   "metadata": {},
   "source": [
    "- 빈 문자열은 `거짓`, 그렇지 않으면 모두 `참`"
   ]
  },
  {
   "cell_type": "code",
   "execution_count": 34,
   "metadata": {
    "ExecuteTime": {
     "end_time": "2022-04-03T14:27:49.408077Z",
     "start_time": "2022-04-03T14:27:49.394042Z"
    }
   },
   "outputs": [
    {
     "name": "stdout",
     "output_type": "stream",
     "text": [
      "참\n",
      "참\n",
      "거짓\n"
     ]
    }
   ],
   "source": [
    "# 조건식에 True / False에 대응되는 문자열 사용가능\n"
   ]
  },
  {
   "cell_type": "markdown",
   "metadata": {},
   "source": [
    "- **(주의) `0, None, ''`은 False로 취급하므로 else가 동작할 수 있음!**"
   ]
  },
  {
   "cell_type": "code",
   "execution_count": 35,
   "metadata": {
    "ExecuteTime": {
     "end_time": "2022-04-03T14:27:49.423076Z",
     "start_time": "2022-04-03T14:27:49.409045Z"
    }
   },
   "outputs": [
    {
     "name": "stdout",
     "output_type": "stream",
     "text": [
      "참\n",
      "참\n",
      "참\n"
     ]
    }
   ],
   "source": [
    "if not 0:    # not A\n",
    "    print('참')    # not 0은 참\n",
    " \n",
    "if not None:\n",
    "    print('참')    # None은 참\n",
    " \n",
    "if not '':\n",
    "    print('참')    # not 빈 문자열은 참"
   ]
  },
  {
   "cell_type": "markdown",
   "metadata": {},
   "source": [
    "- **요약:** `False`로 취급하는 것들\n",
    "\n",
    "> 1. None\n",
    "> 2. False\n",
    "> 3. 0인 숫자: 0, 0.0, 0j\n",
    "> 4. 비어있는 문자열/리스트/튜플/세트/딕셔너리: '', \"\", [], (), set(), {}\n",
    "> 5. __bool__(), __len__() 등의 함수가 False 또는 0을 반환하는 경우들"
   ]
  },
  {
   "cell_type": "markdown",
   "metadata": {},
   "source": [
    "## 여러개의 조건식 결합"
   ]
  },
  {
   "cell_type": "code",
   "execution_count": 36,
   "metadata": {
    "ExecuteTime": {
     "end_time": "2022-04-03T14:27:49.438044Z",
     "start_time": "2022-04-03T14:27:49.424074Z"
    }
   },
   "outputs": [
    {
     "name": "stdout",
     "output_type": "stream",
     "text": [
      "참\n"
     ]
    }
   ],
   "source": [
    "# 조건식은 여러개를 사용하여 판단케 할 수 있음\n"
   ]
  },
  {
   "cell_type": "code",
   "execution_count": 37,
   "metadata": {
    "ExecuteTime": {
     "end_time": "2022-04-03T14:27:49.453074Z",
     "start_time": "2022-04-03T14:27:49.439046Z"
    }
   },
   "outputs": [
    {
     "name": "stdout",
     "output_type": "stream",
     "text": [
      "20보다 작은 양수입니다.\n"
     ]
    }
   ],
   "source": [
    "# if문을 반복적용하여 예시 생성\n"
   ]
  },
  {
   "cell_type": "code",
   "execution_count": 38,
   "metadata": {
    "ExecuteTime": {
     "end_time": "2022-04-03T14:27:49.468076Z",
     "start_time": "2022-04-03T14:27:49.454055Z"
    }
   },
   "outputs": [
    {
     "name": "stdout",
     "output_type": "stream",
     "text": [
      "20보다 작은 양수입니다.\n"
     ]
    }
   ],
   "source": [
    "# if문만 사용해서 위 코드를 변환\n"
   ]
  },
  {
   "cell_type": "code",
   "execution_count": 39,
   "metadata": {
    "ExecuteTime": {
     "end_time": "2022-04-03T14:27:49.483048Z",
     "start_time": "2022-04-03T14:27:49.469043Z"
    }
   },
   "outputs": [
    {
     "name": "stdout",
     "output_type": "stream",
     "text": [
      "20보다 작은 양수입니다.\n"
     ]
    }
   ],
   "source": [
    "# if문만 사용해서 위 코드를 변환\n",
    "# 다른 언어와 달리 부등호 여러개 동시에 적용 가능\n"
   ]
  },
  {
   "cell_type": "markdown",
   "metadata": {},
   "source": [
    "- **Question:** 필기 시험 점수가 80점 이상이며 동시에 코딩 시험을 통과(True)하면 합격인 아래의 조건식을 완성하여 합격/불합격 여부를 출력하시오\n",
    "\n",
    "```python\n",
    "written_test = 75\n",
    "coding_test = True\n",
    "\n",
    "if ________________:\n",
    "    print('합격')\n",
    "else:\n",
    "    print('불합격')\n",
    "```"
   ]
  },
  {
   "cell_type": "code",
   "execution_count": 40,
   "metadata": {
    "ExecuteTime": {
     "end_time": "2022-04-03T14:27:49.498077Z",
     "start_time": "2022-04-03T14:27:49.484044Z"
    }
   },
   "outputs": [],
   "source": [
    "written_test = 75\n",
    "coding_test = True\n",
    "\n",
    "# 불합격 출력\n",
    "\n"
   ]
  },
  {
   "cell_type": "markdown",
   "metadata": {},
   "source": [
    "- **Question:** 변수 x가 11과 20 사이면 `11~20`, 21과 30 사이면, `21~30`, 어디도 해당하지 않으면 `아무것도 해당하지 않음`을 출력하는 조건문을 만들어 아래의 변수값에 따른 결과를 출력하시오"
   ]
  },
  {
   "cell_type": "code",
   "execution_count": 41,
   "metadata": {
    "ExecuteTime": {
     "end_time": "2022-04-03T14:27:49.513042Z",
     "start_time": "2022-04-03T14:27:49.499042Z"
    }
   },
   "outputs": [],
   "source": [
    "x = 5\n",
    "\n",
    "# 조건문 작성 및 결과 출력\n",
    "\n"
   ]
  },
  {
   "cell_type": "code",
   "execution_count": 42,
   "metadata": {
    "ExecuteTime": {
     "end_time": "2022-04-03T14:27:49.528043Z",
     "start_time": "2022-04-03T14:27:49.515043Z"
    }
   },
   "outputs": [],
   "source": [
    "x = 15\n",
    "\n",
    "# 조건문 작성 및 결과 출력\n",
    "\n"
   ]
  },
  {
   "cell_type": "code",
   "execution_count": 43,
   "metadata": {
    "ExecuteTime": {
     "end_time": "2022-04-03T14:27:49.543068Z",
     "start_time": "2022-04-03T14:27:49.529044Z"
    }
   },
   "outputs": [],
   "source": [
    "x = 25\n",
    "\n",
    "# 조건문 작성 및 결과 출력\n",
    "\n"
   ]
  },
  {
   "cell_type": "markdown",
   "metadata": {},
   "source": [
    "- **Question:** 조건문을 사용하여 1~9999 까지의 숫자 중 하나가 입력(`input` 함수 사용)되면, 몇 자리의 숫자인지 판별하는 App 프로그램을 만들어 보시오. 1) 테스트로 셀을 실행 후 10을 입력하였을 때 `두 자리 숫자입니다`를 출력하고, 2) 셀을 실행 후 999를 입력하였을 때 `세 자리 숫자입니다`를 출력하시오\n",
    "\n",
    "```python\n",
    "# 예시\n",
    "# input 함수를 사용해서 10을 입력\n",
    "num = \n",
    "\n",
    "# 프로그램\n",
    "\n",
    "# 출력\n",
    "`두 자리 숫자입니다`\n",
    "```"
   ]
  },
  {
   "cell_type": "code",
   "execution_count": 44,
   "metadata": {
    "ExecuteTime": {
     "end_time": "2022-04-03T14:27:49.558077Z",
     "start_time": "2022-04-03T14:27:49.544044Z"
    }
   },
   "outputs": [],
   "source": [
    "# 1)\n",
    "\n"
   ]
  },
  {
   "cell_type": "code",
   "execution_count": 45,
   "metadata": {
    "ExecuteTime": {
     "end_time": "2022-04-03T14:27:49.573074Z",
     "start_time": "2022-04-03T14:27:49.559064Z"
    }
   },
   "outputs": [],
   "source": [
    "# 2)\n",
    "\n"
   ]
  },
  {
   "cell_type": "markdown",
   "metadata": {},
   "source": [
    "- **Question:** 시험점수가 90점 이상인 학생에게는 `A`, 80점 이상인 학생에게는 `B`, 59점 이하인 학생에게는 `F`를 부여합니다. 이 모든 경우에 해당하지 않는 경우는 `C`를 부여하는 성적 출력 App 프로그램을 만들고 아래 예시처럼 실행하여 어떤 학점이 출력되는지 확인하시오\n",
    "\n",
    "```python\n",
    "# 예시\n",
    "# input 함수를 사용해서 75점을 입력\n",
    "score = \n",
    "\n",
    "# 프로그램\n",
    "\n",
    "# 출력\n",
    "'A' or 'B' or 'C' or 'F'\n",
    "```"
   ]
  },
  {
   "cell_type": "code",
   "execution_count": null,
   "metadata": {},
   "outputs": [],
   "source": [
    "\n"
   ]
  },
  {
   "cell_type": "markdown",
   "metadata": {},
   "source": [
    "# **파이썬 반복문(Loop): 반복행동을 처리하자**\n",
    "\n",
    "- 비슷한 작업을 반복해야 한다면 **`반복문`** 을 사용할 것\n",
    "> **반복문:** 어떤 범위 안에서 특정 명령을 반복하는 구문\n",
    ">\n",
    ">\n",
    "> - **while문:** 조건을 만족할 동안만 반복 (조건문이 참/거짓 여부에 따라 반복)\n",
    "> - **break/continue문:** 반복문을 제어하기\n",
    "> - **for문:** 일정한 횟수만 반복 (값이나 요소를 하나씩 가져오면서 반복)"
   ]
  },
  {
   "cell_type": "markdown",
   "metadata": {},
   "source": [
    "## while문\n",
    "\n",
    "> - 조건식을 품고 있으며, 조건식이 참이면 명령을 반복하고 그렇지 않으면 반복문을 빠져나옴\n",
    "> - if문을 반복적으로 수행하는 것이 while문\n",
    "> - 조건을 만족하는 동안 명령을 **`계속 반복`** 해야 할 떄 사용\n",
    "\n",
    "```python\n",
    "if 조건식:\n",
    "    실행할 명령\n",
    "```\n",
    "\n",
    "```python\n",
    "while 조건식:\n",
    "    실행할 명령\n",
    "```\n",
    "\n",
    "```python\n",
    "초기식\n",
    "while 조건식:\n",
    "    실행할 명령\n",
    "    변화식\n",
    "```\n",
    "\n",
    "---\n",
    "\n",
    "- **물이 100도 미만이면 `한번만` 물을 가열해**\n",
    "```python\n",
    "if 물 < 100:\n",
    "    가열해\n",
    "```\n",
    "\n",
    "- **물이 100도 미만이면 `계속` 물을 가열해 = 물이 100도 미만 동안(while) 물을 가열해**\n",
    "```python\n",
    "while 물 < 100:\n",
    "    가열해\n",
    "```\n",
    "\n",
    "- **물이 100도 미만이면 `계속` 물을 가열하고 `온도` 를 체크해**\n",
    "```python\n",
    "온도 = 0\n",
    "while 물 < 100:\n",
    "    가열해\n",
    "    온도 = 온도 + 1\n",
    "```\n"
   ]
  },
  {
   "cell_type": "code",
   "execution_count": 46,
   "metadata": {
    "ExecuteTime": {
     "end_time": "2022-04-03T14:27:49.588077Z",
     "start_time": "2022-04-03T14:27:49.574074Z"
    }
   },
   "outputs": [
    {
     "name": "stdout",
     "output_type": "stream",
     "text": [
      "Hello, world!\n",
      "Hello, world!\n",
      "Hello, world!\n",
      "Hello, world!\n",
      "Hello, world!\n",
      "Hello, world!\n",
      "Hello, world!\n",
      "Hello, world!\n",
      "Hello, world!\n",
      "Hello, world!\n"
     ]
    }
   ],
   "source": [
    "i = 0                     # 초기식\n",
    "while i < 10:             # while 조건식\n",
    "     print('Hello, world!')    # 반복할 코드\n",
    "     i = i + 1                    # 변화식"
   ]
  },
  {
   "cell_type": "markdown",
   "metadata": {},
   "source": [
    "| i | 조건식 | 조건판단 | 수행 문장 | while문 |\n",
    "|---|---|---|---|---|\n",
    "| 0 | 0 < 10 | 참 | Hello, world! | 반복 |\n",
    "| 1 | 1 < 10 | 참 | Hello, world! | 반복 |\n",
    "| 2 | 2 < 10 | 참 | Hello, world! | 반복 |\n",
    "| 3 | 3 < 10 | 참 | Hello, world! | 반복 |\n",
    "| 4 | 4 < 10 | 참 | Hello, world! | 반복 |\n",
    "| 5 | 5 < 10 | 참 | Hello, world! | 반복 |\n",
    "| 6 | 6 < 10 | 참 | Hello, world! | 반복 |\n",
    "| 7 | 7 < 10 | 참 | Hello, world! | 반복 |\n",
    "| 8 | 8 < 10 | 참 | Hello, world! | 반복 |\n",
    "| 9 | 9 < 10 | 참 | Hello, world! | 반복 |\n",
    "| 10 | 10 < 10 | 거짓 |  | 종료 |"
   ]
  },
  {
   "cell_type": "code",
   "execution_count": 47,
   "metadata": {
    "ExecuteTime": {
     "end_time": "2022-04-03T14:27:49.603081Z",
     "start_time": "2022-04-03T14:27:49.589044Z"
    }
   },
   "outputs": [
    {
     "name": "stdout",
     "output_type": "stream",
     "text": [
      "Hello, world! 1\n",
      "Hello, world! 2\n",
      "Hello, world! 3\n",
      "Hello, world! 4\n",
      "Hello, world! 5\n",
      "Hello, world! 6\n",
      "Hello, world! 7\n",
      "Hello, world! 8\n",
      "Hello, world! 9\n"
     ]
    }
   ],
   "source": [
    "# 반복할 명령과 반복변수 동시 출력\n"
   ]
  },
  {
   "cell_type": "code",
   "execution_count": 48,
   "metadata": {
    "ExecuteTime": {
     "end_time": "2022-04-03T14:27:49.618074Z",
     "start_time": "2022-04-03T14:27:49.604044Z"
    }
   },
   "outputs": [
    {
     "name": "stdout",
     "output_type": "stream",
     "text": [
      "Hello, world! 9\n",
      "Hello, world! 8\n",
      "Hello, world! 7\n",
      "Hello, world! 6\n",
      "Hello, world! 5\n",
      "Hello, world! 4\n",
      "Hello, world! 3\n",
      "Hello, world! 2\n",
      "Hello, world! 1\n"
     ]
    }
   ],
   "source": [
    "# 반복할 명령과 반복변수 동시 출력\n"
   ]
  },
  {
   "cell_type": "code",
   "execution_count": 49,
   "metadata": {
    "ExecuteTime": {
     "end_time": "2022-04-03T14:27:49.634042Z",
     "start_time": "2022-04-03T14:27:49.619045Z"
    }
   },
   "outputs": [],
   "source": [
    "# # 변수를 입력받아 반복문 사용 가능\n"
   ]
  },
  {
   "cell_type": "code",
   "execution_count": 50,
   "metadata": {
    "ExecuteTime": {
     "end_time": "2022-04-03T14:27:49.649074Z",
     "start_time": "2022-04-03T14:27:49.635044Z"
    }
   },
   "outputs": [],
   "source": [
    "# # 변수를 입력받아 반복문 사용 가능\n"
   ]
  },
  {
   "cell_type": "markdown",
   "metadata": {},
   "source": [
    "## while문의 유용한 케이스"
   ]
  },
  {
   "cell_type": "markdown",
   "metadata": {},
   "source": [
    "- 일반적으로 while문은 반복 횟수는 정해지지 않은 경우 유용 -> **`무한루프`**\n",
    "- 우리가 사용하는 프로그램 중 **`무한루프`** 개념을 사용하지 않는 프로그램은 거의 없음(ex. 자판기)"
   ]
  },
  {
   "cell_type": "code",
   "execution_count": 51,
   "metadata": {
    "ExecuteTime": {
     "end_time": "2022-04-03T14:27:49.664074Z",
     "start_time": "2022-04-03T14:27:49.650045Z"
    }
   },
   "outputs": [],
   "source": [
    "import random    # random 모듈을 가져옴"
   ]
  },
  {
   "cell_type": "code",
   "execution_count": 52,
   "metadata": {
    "ExecuteTime": {
     "end_time": "2022-04-03T14:27:49.679042Z",
     "start_time": "2022-04-03T14:27:49.665044Z"
    }
   },
   "outputs": [
    {
     "data": {
      "text/plain": [
       "5"
      ]
     },
     "execution_count": 52,
     "metadata": {},
     "output_type": "execute_result"
    }
   ],
   "source": [
    "# 1과 6사이의 랜덤한 수 하나를 출력하며 실행할때마다 랜덤하게 출력\n"
   ]
  },
  {
   "cell_type": "code",
   "execution_count": 53,
   "metadata": {
    "ExecuteTime": {
     "end_time": "2022-04-03T14:27:49.694042Z",
     "start_time": "2022-04-03T14:27:49.680045Z"
    }
   },
   "outputs": [
    {
     "name": "stdout",
     "output_type": "stream",
     "text": [
      "2\n",
      "2\n",
      "6\n",
      "5\n",
      "5\n",
      "5\n",
      "4\n",
      "6\n",
      "6\n",
      "6\n",
      "6\n",
      "2\n",
      "3\n"
     ]
    }
   ],
   "source": [
    "# 랜덤 값이 3이 나올때까지 멈추지 않는 반복문 실행\n"
   ]
  },
  {
   "cell_type": "code",
   "execution_count": 54,
   "metadata": {
    "ExecuteTime": {
     "end_time": "2022-04-03T14:27:49.709040Z",
     "start_time": "2022-04-03T14:27:49.695043Z"
    },
    "scrolled": true
   },
   "outputs": [],
   "source": [
    "# # 무한루프 실행 가능 (무한루프는 대부분의 전자기기에 필수)\n"
   ]
  },
  {
   "cell_type": "code",
   "execution_count": 55,
   "metadata": {
    "ExecuteTime": {
     "end_time": "2022-04-03T14:27:49.724042Z",
     "start_time": "2022-04-03T14:27:49.710042Z"
    }
   },
   "outputs": [],
   "source": [
    "# # True에 대응되는 숫자 사용가능\n"
   ]
  },
  {
   "cell_type": "code",
   "execution_count": 56,
   "metadata": {
    "ExecuteTime": {
     "end_time": "2022-04-03T14:27:49.739042Z",
     "start_time": "2022-04-03T14:27:49.725045Z"
    }
   },
   "outputs": [],
   "source": [
    "# # True에 대응되는 문자 사용가능\n"
   ]
  },
  {
   "cell_type": "markdown",
   "metadata": {
    "ExecuteTime": {
     "end_time": "2021-03-09T14:07:26.623572Z",
     "start_time": "2021-03-09T14:07:26.613601Z"
    }
   },
   "source": [
    "- **Question:** 2개의 변수 x와 y를 변화시키는 반복문을 작성하시오. 출력되는 결과는 아래와 같고 x와 y가 함께 출력되어야 합니다.\n",
    "\n",
    "```python\n",
    "# 입력\n",
    "x = 2\n",
    "y = 5\n",
    "\n",
    "# 프로그램\n",
    "___________ or ______:\n",
    "    print(x, y)\n",
    "    __________\n",
    "    __________\n",
    "\n",
    "# 출력\n",
    "2 5\n",
    "4 4\n",
    "8 3\n",
    "16 2\n",
    "32 1\n",
    "```"
   ]
  },
  {
   "cell_type": "code",
   "execution_count": 57,
   "metadata": {
    "ExecuteTime": {
     "end_time": "2022-04-03T14:27:49.754042Z",
     "start_time": "2022-04-03T14:27:49.740042Z"
    }
   },
   "outputs": [],
   "source": [
    "x = 2\n",
    "y = 5\n",
    "\n",
    "# while \n"
   ]
  },
  {
   "cell_type": "markdown",
   "metadata": {},
   "source": [
    "## break/continue문\n",
    "\n",
    "- **break:** 반복문을 제어/중단 시키고 반복문을 빠져나옴, **`무한루프 강제종료`** 제격\n",
    "- **continue:** 조건식 기반 반복으로 명령을 실행하다, continue를 만나면 아래 명령을 건너뛰고 조건식으로 올라감"
   ]
  },
  {
   "cell_type": "code",
   "execution_count": 58,
   "metadata": {
    "ExecuteTime": {
     "end_time": "2022-04-03T14:27:49.769044Z",
     "start_time": "2022-04-03T14:27:49.755042Z"
    }
   },
   "outputs": [
    {
     "name": "stdout",
     "output_type": "stream",
     "text": [
      "0\n",
      "1\n",
      "2\n",
      "3\n",
      "4\n",
      "5\n",
      "6\n",
      "7\n",
      "8\n",
      "9\n"
     ]
    }
   ],
   "source": [
    "i = 0\n",
    "while True:    # 무한 루프\n",
    "    print(i)\n",
    "    i = i + 1          # i를 1씩 증가시킴\n",
    "    if i == 10:     # i가 10일 때\n",
    "        break       # 반복문을 끝냄. while의 제어흐름을 벗어남"
   ]
  },
  {
   "cell_type": "code",
   "execution_count": 59,
   "metadata": {
    "ExecuteTime": {
     "end_time": "2022-04-03T14:27:49.784043Z",
     "start_time": "2022-04-03T14:27:49.771043Z"
    }
   },
   "outputs": [
    {
     "name": "stdout",
     "output_type": "stream",
     "text": [
      "1\n",
      "3\n",
      "5\n",
      "7\n",
      "9\n"
     ]
    }
   ],
   "source": [
    "i = 0\n",
    "while i < 10:         # i가 10보다 작을 때 반복. 0부터 9까지 증가하면서 10번 반복\n",
    "    i = i + 1            # i를 1씩 증가시킴\n",
    "    if i % 2 == 0:    # i를 2로 나누었을 때 나머지가 0이면 짝수\n",
    "        continue      # 아래 코드를 실행하지 않고 조건식 이하를 건너뜀\n",
    "    print(i)"
   ]
  },
  {
   "cell_type": "code",
   "execution_count": 60,
   "metadata": {
    "ExecuteTime": {
     "end_time": "2022-04-03T14:27:49.800045Z",
     "start_time": "2022-04-03T14:27:49.785043Z"
    }
   },
   "outputs": [],
   "source": [
    "# # 멈추기 위해서는 kernel - interrupt\n"
   ]
  },
  {
   "cell_type": "code",
   "execution_count": 61,
   "metadata": {
    "ExecuteTime": {
     "end_time": "2022-04-03T14:27:49.815074Z",
     "start_time": "2022-04-03T14:27:49.801046Z"
    }
   },
   "outputs": [],
   "source": [
    "# i = 1\n",
    "# while i:         # i가 10보다 작을 때 반복. 0부터 9까지 증가하면서 10번 반복\n",
    "#     i = i + 1            # i를 1씩 증가시킴\n",
    "#     continue      # 아래 코드를 실행하지 않고 조건식 이하를 건너뜀\n",
    "#     print(i)"
   ]
  },
  {
   "cell_type": "code",
   "execution_count": 62,
   "metadata": {
    "ExecuteTime": {
     "end_time": "2022-04-03T14:27:49.830078Z",
     "start_time": "2022-04-03T14:27:49.816074Z"
    }
   },
   "outputs": [],
   "source": [
    "# # 반복횟수를 입력받아 i를 출력하시오\n"
   ]
  },
  {
   "cell_type": "markdown",
   "metadata": {},
   "source": [
    "- **Question:** 입력한 숫자까지 해당하는 홀수를 출력하시오\n",
    "\n",
    "```python\n",
    "count = int(input('반복할 횟수를 입력하세요: '))\n",
    " \n",
    "i = 0\n",
    "while True:\n",
    "    i = i + 1\n",
    "    __________\n",
    "        ______\n",
    "    __________\n",
    "        ______     \n",
    "```"
   ]
  },
  {
   "cell_type": "code",
   "execution_count": null,
   "metadata": {
    "ExecuteTime": {
     "end_time": "2021-10-06T06:50:25.872758Z",
     "start_time": "2021-10-06T06:50:23.150409Z"
    }
   },
   "outputs": [],
   "source": [
    "\n"
   ]
  },
  {
   "cell_type": "markdown",
   "metadata": {
    "ExecuteTime": {
     "end_time": "2021-10-01T15:02:16.156210Z",
     "start_time": "2021-10-01T14:58:41.842Z"
    }
   },
   "source": [
    "- **Question:** 0과 100사이의 숫자 중 끝자리가 6으로 끝나는 숫자만 출력하시오\n",
    "\n",
    "```python\n",
    "i = 0\n",
    "while True:\n",
    "    if __________\n",
    "        __________\n",
    "        continue\n",
    "    if __________\n",
    "        break\n",
    "    print(i)\n",
    "    ____________\n",
    "```"
   ]
  },
  {
   "cell_type": "code",
   "execution_count": null,
   "metadata": {
    "ExecuteTime": {
     "end_time": "2021-10-06T06:54:26.610927Z",
     "start_time": "2021-10-06T06:54:26.600368Z"
    }
   },
   "outputs": [],
   "source": []
  },
  {
   "cell_type": "code",
   "execution_count": 63,
   "metadata": {
    "ExecuteTime": {
     "end_time": "2022-04-03T14:27:49.846040Z",
     "start_time": "2022-04-03T14:27:49.831043Z"
    }
   },
   "outputs": [],
   "source": [
    "# 무인자판기 생성 \n",
    "# 커피 10잔이 판매되면 자동 종료\n",
    "# 커피 1잔은 300원\n",
    "# 잔돈 계산까지 진행\n",
    "\n"
   ]
  },
  {
   "cell_type": "markdown",
   "metadata": {},
   "source": [
    "## for문\n",
    "\n",
    "- 일반적으로 for문은 **`반복 횟수`** 가 정해진 경우 사용\n",
    "- **`반복 횟수`** 는 시퀀스 데이터 형을 사용\n",
    "- 조건식이 없는 유한개의 횟수만큼 **`명령`** 을 실행\n",
    "\n",
    "```python\n",
    "for 변수 in 반복횟수:\n",
    "    실행할 명령\n",
    "```\n",
    "\n",
    "<center><img src='Image/Condition_For.png' width='600'></center>\n",
    "\n",
    "- **`변수`** 는 정해진 이름이 없이 아무거나 사용 가능\n",
    "- while문과 비슷하지만 직관적이며 문장 구조가 심플한 편\n"
   ]
  },
  {
   "cell_type": "code",
   "execution_count": 64,
   "metadata": {
    "ExecuteTime": {
     "end_time": "2022-04-03T14:27:49.861043Z",
     "start_time": "2022-04-03T14:27:49.847044Z"
    }
   },
   "outputs": [
    {
     "name": "stdout",
     "output_type": "stream",
     "text": [
      "Hello, world!\n",
      "Hello, world!\n",
      "Hello, world!\n",
      "Hello, world!\n",
      "Hello, world!\n",
      "Hello, world!\n",
      "Hello, world!\n",
      "Hello, world!\n",
      "Hello, world!\n",
      "Hello, world!\n"
     ]
    }
   ],
   "source": [
    "# range 시퀀스 내장함수를 사용하여 'Hello, world!' 10회 출력\n"
   ]
  },
  {
   "cell_type": "code",
   "execution_count": 65,
   "metadata": {
    "ExecuteTime": {
     "end_time": "2022-04-03T14:27:49.876043Z",
     "start_time": "2022-04-03T14:27:49.862045Z"
    }
   },
   "outputs": [
    {
     "name": "stdout",
     "output_type": "stream",
     "text": [
      "Hello, world! 0\n",
      "Hello, world! 1\n",
      "Hello, world! 2\n",
      "Hello, world! 3\n",
      "Hello, world! 4\n",
      "Hello, world! 5\n",
      "Hello, world! 6\n",
      "Hello, world! 7\n",
      "Hello, world! 8\n",
      "Hello, world! 9\n"
     ]
    }
   ],
   "source": [
    "# range 시퀀스 내장함수를 사용하여 'Hello, world!'와 반복횟수 출력\n"
   ]
  },
  {
   "cell_type": "code",
   "execution_count": 66,
   "metadata": {
    "ExecuteTime": {
     "end_time": "2022-04-03T14:27:49.892044Z",
     "start_time": "2022-04-03T14:27:49.878044Z"
    }
   },
   "outputs": [
    {
     "name": "stdout",
     "output_type": "stream",
     "text": [
      "Hello, world! 5\n",
      "Hello, world! 6\n",
      "Hello, world! 7\n",
      "Hello, world! 8\n",
      "Hello, world! 9\n"
     ]
    }
   ],
   "source": [
    "# 5이상 10미만 회 'Hello, world!'와 반복횟수 출력\n"
   ]
  },
  {
   "cell_type": "code",
   "execution_count": 67,
   "metadata": {
    "ExecuteTime": {
     "end_time": "2022-04-03T14:27:49.908041Z",
     "start_time": "2022-04-03T14:27:49.895043Z"
    }
   },
   "outputs": [
    {
     "name": "stdout",
     "output_type": "stream",
     "text": [
      "Hello, world! 0\n",
      "Hello, world! 2\n",
      "Hello, world! 4\n",
      "Hello, world! 6\n",
      "Hello, world! 8\n"
     ]
    }
   ],
   "source": [
    "# 0이상 10미만 2간격 'Hello, world!'와 반복횟수 출력\n"
   ]
  },
  {
   "cell_type": "code",
   "execution_count": 68,
   "metadata": {
    "ExecuteTime": {
     "end_time": "2022-04-03T14:27:49.923041Z",
     "start_time": "2022-04-03T14:27:49.910043Z"
    }
   },
   "outputs": [],
   "source": [
    "# range 함수의 간격은 증가가 기본이기 때문에 미실행\n"
   ]
  },
  {
   "cell_type": "code",
   "execution_count": 69,
   "metadata": {
    "ExecuteTime": {
     "end_time": "2022-04-03T14:27:49.938042Z",
     "start_time": "2022-04-03T14:27:49.925044Z"
    }
   },
   "outputs": [
    {
     "name": "stdout",
     "output_type": "stream",
     "text": [
      "Hello, world! 10\n",
      "Hello, world! 9\n",
      "Hello, world! 8\n",
      "Hello, world! 7\n",
      "Hello, world! 6\n",
      "Hello, world! 5\n",
      "Hello, world! 4\n",
      "Hello, world! 3\n",
      "Hello, world! 2\n",
      "Hello, world! 1\n"
     ]
    }
   ],
   "source": [
    "# 10이상 0미만 -1간격 'Hello, world!'와 반복횟수 출력\n"
   ]
  },
  {
   "cell_type": "code",
   "execution_count": 70,
   "metadata": {
    "ExecuteTime": {
     "end_time": "2022-04-03T14:27:49.954042Z",
     "start_time": "2022-04-03T14:27:49.939042Z"
    }
   },
   "outputs": [
    {
     "name": "stdout",
     "output_type": "stream",
     "text": [
      "Hello, world! 9\n",
      "Hello, world! 8\n",
      "Hello, world! 7\n",
      "Hello, world! 6\n",
      "Hello, world! 5\n",
      "Hello, world! 4\n",
      "Hello, world! 3\n",
      "Hello, world! 2\n",
      "Hello, world! 1\n",
      "Hello, world! 0\n"
     ]
    }
   ],
   "source": [
    "# 9이상 -1미만 -1간격 'Hello, world!'와 반복횟수 출력\n"
   ]
  },
  {
   "cell_type": "code",
   "execution_count": 71,
   "metadata": {
    "ExecuteTime": {
     "end_time": "2022-04-03T14:27:49.969043Z",
     "start_time": "2022-04-03T14:27:49.955043Z"
    }
   },
   "outputs": [
    {
     "name": "stdout",
     "output_type": "stream",
     "text": [
      "Hello, world! 9\n",
      "Hello, world! 8\n",
      "Hello, world! 7\n",
      "Hello, world! 6\n",
      "Hello, world! 5\n",
      "Hello, world! 4\n",
      "Hello, world! 3\n",
      "Hello, world! 2\n",
      "Hello, world! 1\n",
      "Hello, world! 0\n"
     ]
    }
   ],
   "source": [
    "# reversed 함수사용 9이상 -1미만 -1간격 'Hello, world!'와 반복횟수 출력\n"
   ]
  },
  {
   "cell_type": "code",
   "execution_count": 72,
   "metadata": {
    "ExecuteTime": {
     "end_time": "2022-04-03T14:27:49.984042Z",
     "start_time": "2022-04-03T14:27:49.970044Z"
    }
   },
   "outputs": [],
   "source": [
    "# # 반복횟수를 입력받아 'Hello, world!'와 반복횟수 출력\n"
   ]
  },
  {
   "cell_type": "code",
   "execution_count": 73,
   "metadata": {
    "ExecuteTime": {
     "end_time": "2022-04-03T14:27:49.999044Z",
     "start_time": "2022-04-03T14:27:49.985044Z"
    }
   },
   "outputs": [
    {
     "name": "stdout",
     "output_type": "stream",
     "text": [
      "10\n",
      "20\n",
      "30\n",
      "40\n",
      "50\n"
     ]
    }
   ],
   "source": [
    "# 시퀀스 숫자 반복 가능\n"
   ]
  },
  {
   "cell_type": "code",
   "execution_count": 74,
   "metadata": {
    "ExecuteTime": {
     "end_time": "2022-04-03T14:27:50.014041Z",
     "start_time": "2022-04-03T14:27:50.000043Z"
    }
   },
   "outputs": [
    {
     "name": "stdout",
     "output_type": "stream",
     "text": [
      "apple\n",
      "orange\n",
      "grape\n"
     ]
    }
   ],
   "source": [
    "# 시퀀스 튜플 반복 가능\n"
   ]
  },
  {
   "cell_type": "code",
   "execution_count": 75,
   "metadata": {
    "ExecuteTime": {
     "end_time": "2022-04-03T14:27:50.029044Z",
     "start_time": "2022-04-03T14:27:50.015042Z"
    }
   },
   "outputs": [
    {
     "name": "stdout",
     "output_type": "stream",
     "text": [
      "3\n",
      "7\n",
      "11\n"
     ]
    }
   ],
   "source": [
    "# 시퀀스 리스트 내 2개 출력씩 반복 가능\n"
   ]
  },
  {
   "cell_type": "code",
   "execution_count": 76,
   "metadata": {
    "ExecuteTime": {
     "end_time": "2022-04-03T14:27:50.044041Z",
     "start_time": "2022-04-03T14:27:50.030044Z"
    }
   },
   "outputs": [
    {
     "name": "stdout",
     "output_type": "stream",
     "text": [
      "P y t h o n "
     ]
    }
   ],
   "source": [
    "# 시퀀스 문자열 반복 가능\n"
   ]
  },
  {
   "cell_type": "code",
   "execution_count": 77,
   "metadata": {
    "ExecuteTime": {
     "end_time": "2022-04-03T14:27:50.059044Z",
     "start_time": "2022-04-03T14:27:50.045042Z"
    }
   },
   "outputs": [
    {
     "name": "stdout",
     "output_type": "stream",
     "text": [
      "n o h t y P "
     ]
    }
   ],
   "source": [
    "# 시퀀스 역 문자열 반복 가능\n"
   ]
  },
  {
   "cell_type": "markdown",
   "metadata": {
    "ExecuteTime": {
     "end_time": "2021-03-09T14:07:26.924771Z",
     "start_time": "2021-03-09T14:07:26.910804Z"
    }
   },
   "source": [
    "- **Question:** for문을 사용하여 아래 리스트 각 요소에 10을 곱한 값들을 한줄로 출력하시오\n",
    "\n",
    "```python\n",
    "x = [49, -17, 25, 102, 8, 62, 21]\n",
    "\n",
    "for __________:\n",
    "    print(__________)\n",
    "```"
   ]
  },
  {
   "cell_type": "code",
   "execution_count": 78,
   "metadata": {
    "ExecuteTime": {
     "end_time": "2022-04-03T14:27:50.074041Z",
     "start_time": "2022-04-03T14:27:50.061042Z"
    }
   },
   "outputs": [],
   "source": [
    "x = [49, -17, 25, 102, 8, 62, 21]\n",
    "\n",
    "# for\n"
   ]
  },
  {
   "cell_type": "markdown",
   "metadata": {},
   "source": [
    "- **Question:** for문과 if~else문을 사용하여 아래 리스크 각 요소가 홀수인 경우 `2배`를 짝수인 경우 `-2배`를 출력하시오\n",
    "\n",
    "```python\n",
    "x = [1, 2, 3, 4, 5]\n",
    "\n",
    "for ______:\n",
    "    if ______:\n",
    "        ______\n",
    "        print(i)\n",
    "    else:\n",
    "        ______\n",
    "        print(i)\n",
    "```"
   ]
  },
  {
   "cell_type": "code",
   "execution_count": 79,
   "metadata": {
    "ExecuteTime": {
     "end_time": "2022-04-03T14:27:50.089040Z",
     "start_time": "2022-04-03T14:27:50.075043Z"
    }
   },
   "outputs": [],
   "source": [
    "# 예상출력: 2 -4 6 -8 10\n",
    "x = [1, 2, 3, 4, 5]\n",
    "\n",
    "# for\n"
   ]
  },
  {
   "cell_type": "markdown",
   "metadata": {},
   "source": [
    "- **Question:** 총 10명의 학생 시험 점수가 있다. 60점이 합격 커트라인이라고 할때 10명의 학생이 합격인지 불합격인지 출력하는 프로그램을 작성하라. 학생의 이름은 1번부터 10번까지로 차례대로 부여하며 아래와 같은 결과가 출력되어야 한다.\n",
    "\n",
    "```python\n",
    "# 입력\n",
    "scores = [90, 25, 67, 45, 80, 45, 100, 67, 55, 90]\n",
    "\n",
    "# 프로그램\n",
    "\n",
    "# 출력\n",
    "1번 학생은 합격입니다.\n",
    "2번 학생은 불합격입니다.\n",
    "3번 학생은 합격입니다.\n",
    "4번 학생은 불합격입니다.\n",
    "5번 학생은 합격입니다.\n",
    "6번 학생은 불합격입니다.\n",
    "7번 학생은 합격입니다.\n",
    "8번 학생은 합격입니다.\n",
    "9번 학생은 불합격입니다.\n",
    "10번 학생은 합격입니다.\n",
    "```"
   ]
  },
  {
   "cell_type": "code",
   "execution_count": 80,
   "metadata": {
    "ExecuteTime": {
     "end_time": "2022-04-03T14:27:50.104041Z",
     "start_time": "2022-04-03T14:27:50.090042Z"
    }
   },
   "outputs": [],
   "source": [
    "scores = [90, 25, 67, 45, 80, 45, 100, 67, 55, 90]\n",
    "\n"
   ]
  },
  {
   "cell_type": "markdown",
   "metadata": {},
   "source": [
    "## 반복문의 중첩\n",
    "\n",
    "- 반복문에 반복문이 들어가는 것 중첩루프 또는 다중루프 라고 함\n",
    "- for문에 while문이 또는 while문에 for문이 들어갈 수 있음\n",
    "- 2차원 이상의 데이터 입력이나 연산은 아주 자주 사용됨"
   ]
  },
  {
   "cell_type": "code",
   "execution_count": 81,
   "metadata": {
    "ExecuteTime": {
     "end_time": "2022-04-03T14:27:50.119042Z",
     "start_time": "2022-04-03T14:27:50.105046Z"
    }
   },
   "outputs": [
    {
     "name": "stdout",
     "output_type": "stream",
     "text": [
      "j:0 j:1 j:2 j:3 j:4 i:0\\n\n",
      "j:0 j:1 j:2 j:3 j:4 i:1\\n\n",
      "j:0 j:1 j:2 j:3 j:4 i:2\\n\n",
      "j:0 j:1 j:2 j:3 j:4 i:3\\n\n",
      "j:0 j:1 j:2 j:3 j:4 i:4\\n\n"
     ]
    }
   ],
   "source": [
    "for i in range(5):          # 바깥쪽 루프\n",
    "    for j in range(5):      # 안쪽 루프\n",
    "        print('j:', j, sep='', end=' ')    # j값 출력. end에 ' '를 지정하여 줄바꿈 대신 한 칸 띄움\n",
    "    print('i:', i, '\\\\n', sep='')    # i값 출력, 개행 문자 모양도 출력"
   ]
  },
  {
   "cell_type": "code",
   "execution_count": 82,
   "metadata": {
    "ExecuteTime": {
     "end_time": "2022-04-03T14:27:50.134045Z",
     "start_time": "2022-04-03T14:27:50.128043Z"
    }
   },
   "outputs": [
    {
     "name": "stdout",
     "output_type": "stream",
     "text": [
      "*******\n",
      "*******\n",
      "*******\n",
      "*******\n",
      "*******\n"
     ]
    }
   ],
   "source": [
    "# 5개의 행 7개의 열에 별을 출력\n",
    "for i in range(5):            # 바깥쪽 루프\n",
    "    for j in range(7):        # 안쪽 루프\n",
    "        print('*', end='')    # 별 출력. end에 ''를 지정하여 줄바꿈을 하지 않음\n",
    "    print()                   # 가로 방향으로 별을 다 그린 뒤 다음 줄로 넘어감"
   ]
  },
  {
   "cell_type": "code",
   "execution_count": 83,
   "metadata": {
    "ExecuteTime": {
     "end_time": "2022-04-03T14:27:50.149044Z",
     "start_time": "2022-04-03T14:27:50.135043Z"
    }
   },
   "outputs": [
    {
     "name": "stdout",
     "output_type": "stream",
     "text": [
      "*\n",
      "**\n",
      "***\n",
      "****\n",
      "*****\n"
     ]
    }
   ],
   "source": [
    "# 5개의 행 별의 갯수가 증가되도록 출력\n"
   ]
  },
  {
   "cell_type": "markdown",
   "metadata": {},
   "source": [
    "- **Question:** 위 예를 참고하여 대각선 방향으로 별이 1개씩만 출력하시오"
   ]
  },
  {
   "cell_type": "code",
   "execution_count": null,
   "metadata": {
    "ExecuteTime": {
     "end_time": "2021-10-06T07:11:02.458941Z",
     "start_time": "2021-10-06T07:11:02.450293Z"
    }
   },
   "outputs": [],
   "source": [
    "\n"
   ]
  },
  {
   "cell_type": "markdown",
   "metadata": {},
   "source": [
    "- **Question:** 반복문을 2개 중첩하여 구구단 2단부터 9단까지 출력하는 프로그램을 만드시오\n",
    "\n",
    "```python\n",
    "# 출력\n",
    "2 * 1 = 2\n",
    "...\n",
    "9 * 9 = 81\n",
    "```"
   ]
  },
  {
   "cell_type": "code",
   "execution_count": null,
   "metadata": {
    "ExecuteTime": {
     "end_time": "2021-12-08T00:32:02.111734Z",
     "start_time": "2021-12-08T00:32:02.104752Z"
    }
   },
   "outputs": [],
   "source": [
    "\n"
   ]
  },
  {
   "cell_type": "markdown",
   "metadata": {},
   "source": [
    "- **Question:** 1에서 100까지의 숫자를 출력하는데 아래와 같이 `3의 배수`, `5의 배수`, 그리고 `3과 5의 공배수`에서는 정해진 문자를 출력하시오\n",
    "\n",
    "1. 3의 배수는 `홀수입니다` 출력\n",
    "2. 5의 배수는 `나도 홀수입니다` 출력\n",
    "3. 3과 5의 공배수는 `나는뭐지?` 출력\n",
    "\n",
    "```python\n",
    "# 출력\n",
    "1\n",
    "2\n",
    "'홀수입니다'\n",
    "4\n",
    "'나도 홀수입니다'\n",
    "'홀수입니다'\n",
    "7\n",
    "...\n",
    "```"
   ]
  },
  {
   "cell_type": "code",
   "execution_count": null,
   "metadata": {},
   "outputs": [],
   "source": [
    "\n"
   ]
  },
  {
   "cell_type": "markdown",
   "metadata": {},
   "source": [
    "## List Comprehension\n",
    "\n",
    "> - 파이썬에선 리스트 내포를 이용해서 함수를 훨씬 직관적이고 짧은 코드로 변환 가능(가독성 좋아짐)\n",
    "> - List 내부에 for문과 if문을 사용할 수 있기에 가능\n",
    "> - 식으로 지정되어 생성할 출력을 List로 표현하는 것\n",
    "\n",
    "```python\n",
    "[출력식 for 변수 in 반복]\n",
    "list(출력식 for 변수 in 반복)\n",
    "```"
   ]
  },
  {
   "cell_type": "code",
   "execution_count": 84,
   "metadata": {
    "ExecuteTime": {
     "end_time": "2022-04-03T14:27:50.164044Z",
     "start_time": "2022-04-03T14:27:50.150044Z"
    }
   },
   "outputs": [
    {
     "data": {
      "text/plain": [
       "[0, 1, 2, 3, 4, 5, 6, 7, 8, 9]"
      ]
     },
     "execution_count": 84,
     "metadata": {},
     "output_type": "execute_result"
    }
   ],
   "source": [
    "# 0부터 9까지의 숫자를 생성 및 저장\n"
   ]
  },
  {
   "cell_type": "code",
   "execution_count": 85,
   "metadata": {
    "ExecuteTime": {
     "end_time": "2022-04-03T14:27:50.179041Z",
     "start_time": "2022-04-03T14:27:50.165042Z"
    }
   },
   "outputs": [
    {
     "data": {
      "text/plain": [
       "[0, 1, 2, 3, 4, 5, 6, 7, 8, 9]"
      ]
     },
     "execution_count": 85,
     "metadata": {},
     "output_type": "execute_result"
    }
   ],
   "source": [
    "# 파이썬 언어의 특수 기능으로 이런 효율적 코드가 파이썬 활용의 핵심\n",
    "# 영어의 어순 참고\n",
    "# (I need) i which is in 0~9\n"
   ]
  },
  {
   "cell_type": "code",
   "execution_count": 86,
   "metadata": {
    "ExecuteTime": {
     "end_time": "2022-04-03T14:27:50.194043Z",
     "start_time": "2022-04-03T14:27:50.180044Z"
    }
   },
   "outputs": [
    {
     "data": {
      "text/plain": [
       "[0, 1, 2, 3, 4, 5, 6, 7, 8, 9]"
      ]
     },
     "execution_count": 86,
     "metadata": {},
     "output_type": "execute_result"
    }
   ],
   "source": [
    "# 대괄호와 list() 방식 중 대괄호 방식이 훨씬 빠름고 list()는 C언어 스타일에서 따옴\n"
   ]
  },
  {
   "cell_type": "code",
   "execution_count": 87,
   "metadata": {
    "ExecuteTime": {
     "end_time": "2022-04-03T14:27:50.209042Z",
     "start_time": "2022-04-03T14:27:50.195044Z"
    }
   },
   "outputs": [
    {
     "data": {
      "text/plain": [
       "[5, 6, 7, 8, 9, 10, 11, 12, 13, 14]"
      ]
     },
     "execution_count": 87,
     "metadata": {},
     "output_type": "execute_result"
    }
   ],
   "source": [
    "# 변수의 연산 값 생성 가능\n"
   ]
  },
  {
   "cell_type": "code",
   "execution_count": 88,
   "metadata": {
    "ExecuteTime": {
     "end_time": "2022-04-03T14:27:50.224076Z",
     "start_time": "2022-04-03T14:27:50.210043Z"
    }
   },
   "outputs": [
    {
     "data": {
      "text/plain": [
       "[5, 6, 7, 8, 9, 10, 11, 12, 13, 14]"
      ]
     },
     "execution_count": 88,
     "metadata": {},
     "output_type": "execute_result"
    }
   ],
   "source": [
    "result = []\n",
    "for i in range(10):\n",
    "    result.append(i+5)\n",
    "    \n",
    "result"
   ]
  },
  {
   "cell_type": "code",
   "execution_count": 89,
   "metadata": {
    "ExecuteTime": {
     "end_time": "2022-04-03T14:27:50.239077Z",
     "start_time": "2022-04-03T14:27:50.225045Z"
    }
   },
   "outputs": [
    {
     "data": {
      "text/plain": [
       "[5, 6, 7, 8, 9, 10, 11, 12, 13, 14]"
      ]
     },
     "execution_count": 89,
     "metadata": {},
     "output_type": "execute_result"
    }
   ],
   "source": [
    "# 위와 동일한 출력을 list comprehension 방식으로 출력\n"
   ]
  },
  {
   "cell_type": "code",
   "execution_count": 90,
   "metadata": {
    "ExecuteTime": {
     "end_time": "2022-04-03T14:27:50.254080Z",
     "start_time": "2022-04-03T14:27:50.240063Z"
    }
   },
   "outputs": [
    {
     "data": {
      "text/plain": [
       "[0, 2, 4, 6, 8, 10, 12, 14, 16, 18]"
      ]
     },
     "execution_count": 90,
     "metadata": {},
     "output_type": "execute_result"
    }
   ],
   "source": [
    "# 0이상 10미만 값들을 2를 곱하여 리스트 출력\n"
   ]
  },
  {
   "cell_type": "markdown",
   "metadata": {},
   "source": [
    "```python\n",
    "for 변수 in 반복:\n",
    "    if 조건식:\n",
    "        출력식\n",
    "    else:\n",
    "        다른출력\n",
    "        \n",
    "[출력식 for 변수 in 반복 if 조건식 else 다른출력]\n",
    "list(출력식 for 변수 in 반복 if 조건식 else 다른출력)\n",
    "```"
   ]
  },
  {
   "cell_type": "code",
   "execution_count": 91,
   "metadata": {
    "ExecuteTime": {
     "end_time": "2022-04-03T14:27:50.269045Z",
     "start_time": "2022-04-03T14:27:50.255078Z"
    }
   },
   "outputs": [
    {
     "data": {
      "text/plain": [
       "[0, 2, 4, 6, 8]"
      ]
     },
     "execution_count": 91,
     "metadata": {},
     "output_type": "execute_result"
    }
   ],
   "source": [
    "# 0~9 숫자 중 2의 배수인 숫자(짝수)로 리스트 생성\n"
   ]
  },
  {
   "cell_type": "code",
   "execution_count": 92,
   "metadata": {
    "ExecuteTime": {
     "end_time": "2022-04-03T14:27:50.284046Z",
     "start_time": "2022-04-03T14:27:50.270046Z"
    }
   },
   "outputs": [
    {
     "data": {
      "text/plain": [
       "[0, 2, 4, 6, 8]"
      ]
     },
     "execution_count": 92,
     "metadata": {},
     "output_type": "execute_result"
    }
   ],
   "source": [
    "# 위의 결과를 일반적인 반복문 및 조건문으로 구현\n"
   ]
  },
  {
   "cell_type": "code",
   "execution_count": 93,
   "metadata": {
    "ExecuteTime": {
     "end_time": "2022-04-03T14:27:50.299076Z",
     "start_time": "2022-04-03T14:27:50.285076Z"
    }
   },
   "outputs": [
    {
     "data": {
      "text/plain": [
       "[6, 8, 10, 12, 14]"
      ]
     },
     "execution_count": 93,
     "metadata": {},
     "output_type": "execute_result"
    }
   ],
   "source": [
    "# 0~9 숫자 중 홀수에 5를 더하여 리스트 생성\n"
   ]
  },
  {
   "cell_type": "markdown",
   "metadata": {},
   "source": [
    "```python\n",
    "[출력식 for 변수1 in 반복1 \n",
    "        for 변수2 in 반복2 if 조건식 else 다른출력]\n",
    "\n",
    "[출력식 for 변수1 in 반복1 \n",
    "        for 변수2 in 반복2\n",
    "        ... \n",
    "        for 변수n in 반복n if 조건식 else 다른출력]\n",
    "\n",
    "[변수1 + 변수2 + ... + 변수n for 변수1 in 반복1 \n",
    "        for 변수2 in 반복2\n",
    "        ... \n",
    "        for 변수n in 반복n if 조건식 else 다른출력]\n",
    "        \n",
    "list(출력식 for 변수1 in 반복1 \n",
    "            for 변수2 in 반복2\n",
    "            ... \n",
    "            for 변수n in 반복n if 조건식 else 다른출력)\n",
    "```"
   ]
  },
  {
   "cell_type": "markdown",
   "metadata": {},
   "source": [
    "- **Question:** 다음 리스트 중 홀수에만 2를 곱하여 저장하는 코드가 있다 이를 `리스트 내포`를 사용하여 변환하라.\n",
    "\n",
    "```python\n",
    "# 입력\n",
    "numbers = [1, 2, 3, 4, 5]\n",
    "\n",
    "# 프로그램\n",
    "result = []\n",
    "for n in numbers:\n",
    "    if n % 2 == 1:\n",
    "        result.append(n*2)\n",
    "        \n",
    "# 출력\n",
    "# 예상결과: [2, 6, 10]\n",
    "result\n",
    "```"
   ]
  },
  {
   "cell_type": "code",
   "execution_count": 94,
   "metadata": {
    "ExecuteTime": {
     "end_time": "2022-04-03T14:27:50.314077Z",
     "start_time": "2022-04-03T14:27:50.300077Z"
    }
   },
   "outputs": [],
   "source": [
    "# 입력\n",
    "numbers = [1, 2, 3, 4, 5]\n",
    "\n",
    "# 프로그램 및 출력\n",
    "# 예상결과: [2, 6, 10]\n",
    "\n"
   ]
  },
  {
   "cell_type": "markdown",
   "metadata": {},
   "source": [
    "- **Question:** 리스트 표현식을 사용하여 구구단을 출력하시오 리스트 내부 요소 출력 형식은 `2 * 1 = 2`"
   ]
  },
  {
   "cell_type": "code",
   "execution_count": null,
   "metadata": {
    "ExecuteTime": {
     "end_time": "2022-04-26T14:57:44.045653Z",
     "start_time": "2022-04-26T14:57:43.979653Z"
    }
   },
   "outputs": [],
   "source": [
    "\n"
   ]
  },
  {
   "cell_type": "markdown",
   "metadata": {},
   "source": [
    "## 차원증가\n",
    "\n",
    "```python\n",
    "리스트 = [[값, 값], [값, 값], [값, 값]]\n",
    "```"
   ]
  },
  {
   "cell_type": "code",
   "execution_count": 95,
   "metadata": {
    "ExecuteTime": {
     "end_time": "2022-04-03T14:27:50.329079Z",
     "start_time": "2022-04-03T14:27:50.315043Z"
    }
   },
   "outputs": [
    {
     "data": {
      "text/plain": [
       "[10, 20]"
      ]
     },
     "execution_count": 95,
     "metadata": {},
     "output_type": "execute_result"
    }
   ],
   "source": [
    "# 1차원 데이터\n"
   ]
  },
  {
   "cell_type": "code",
   "execution_count": 96,
   "metadata": {
    "ExecuteTime": {
     "end_time": "2022-04-03T14:27:50.344075Z",
     "start_time": "2022-04-03T14:27:50.330044Z"
    }
   },
   "outputs": [
    {
     "data": {
      "text/plain": [
       "[[10, 20], [30, 40], [50, 60]]"
      ]
     },
     "execution_count": 96,
     "metadata": {},
     "output_type": "execute_result"
    }
   ],
   "source": [
    "# 2차원 데이터의 세팅\n"
   ]
  },
  {
   "cell_type": "code",
   "execution_count": 97,
   "metadata": {
    "ExecuteTime": {
     "end_time": "2022-04-03T14:27:50.359076Z",
     "start_time": "2022-04-03T14:27:50.345044Z"
    }
   },
   "outputs": [
    {
     "data": {
      "text/plain": [
       "[[10, 20], [30, 40], [50, 60]]"
      ]
     },
     "execution_count": 97,
     "metadata": {},
     "output_type": "execute_result"
    }
   ],
   "source": [
    "# 2차원 데이터의 세팅\n"
   ]
  },
  {
   "cell_type": "code",
   "execution_count": 98,
   "metadata": {
    "ExecuteTime": {
     "end_time": "2022-04-03T14:27:50.374044Z",
     "start_time": "2022-04-03T14:27:50.360044Z"
    }
   },
   "outputs": [
    {
     "data": {
      "text/plain": [
       "(3, 2)"
      ]
     },
     "execution_count": 98,
     "metadata": {},
     "output_type": "execute_result"
    }
   ],
   "source": [
    "# 데이터의 행의수와 열의수 출력\n"
   ]
  },
  {
   "cell_type": "code",
   "execution_count": 99,
   "metadata": {
    "ExecuteTime": {
     "end_time": "2022-04-03T14:27:50.389043Z",
     "start_time": "2022-04-03T14:27:50.375077Z"
    }
   },
   "outputs": [
    {
     "data": {
      "text/plain": [
       "[10, 20]"
      ]
     },
     "execution_count": 99,
     "metadata": {},
     "output_type": "execute_result"
    }
   ],
   "source": [
    "# 행렬의 내부 값 선택\n"
   ]
  },
  {
   "cell_type": "code",
   "execution_count": 100,
   "metadata": {
    "ExecuteTime": {
     "end_time": "2022-04-03T14:27:50.404079Z",
     "start_time": "2022-04-03T14:27:50.390044Z"
    }
   },
   "outputs": [
    {
     "data": {
      "text/plain": [
       "[30, 40]"
      ]
     },
     "execution_count": 100,
     "metadata": {},
     "output_type": "execute_result"
    }
   ],
   "source": [
    "# 행렬의 내부 값 선택\n"
   ]
  },
  {
   "cell_type": "code",
   "execution_count": 101,
   "metadata": {
    "ExecuteTime": {
     "end_time": "2022-04-03T14:27:50.419078Z",
     "start_time": "2022-04-03T14:27:50.405045Z"
    }
   },
   "outputs": [
    {
     "data": {
      "text/plain": [
       "[10, 20]"
      ]
     },
     "execution_count": 101,
     "metadata": {},
     "output_type": "execute_result"
    }
   ],
   "source": [
    "a[0]"
   ]
  },
  {
   "cell_type": "code",
   "execution_count": 102,
   "metadata": {
    "ExecuteTime": {
     "end_time": "2022-04-03T14:27:50.434044Z",
     "start_time": "2022-04-03T14:27:50.420074Z"
    }
   },
   "outputs": [
    {
     "data": {
      "text/plain": [
       "10"
      ]
     },
     "execution_count": 102,
     "metadata": {},
     "output_type": "execute_result"
    }
   ],
   "source": [
    "# 행렬의 내부 값 선택\n"
   ]
  },
  {
   "cell_type": "code",
   "execution_count": 103,
   "metadata": {
    "ExecuteTime": {
     "end_time": "2022-04-03T14:27:50.449079Z",
     "start_time": "2022-04-03T14:27:50.435076Z"
    }
   },
   "outputs": [
    {
     "data": {
      "text/plain": [
       "20"
      ]
     },
     "execution_count": 103,
     "metadata": {},
     "output_type": "execute_result"
    }
   ],
   "source": [
    "a[0][1]"
   ]
  },
  {
   "cell_type": "code",
   "execution_count": 104,
   "metadata": {
    "ExecuteTime": {
     "end_time": "2022-04-03T14:27:50.464079Z",
     "start_time": "2022-04-03T14:27:50.450077Z"
    }
   },
   "outputs": [
    {
     "data": {
      "text/plain": [
       "[[10, 1000], [30, 40], [50, 60]]"
      ]
     },
     "execution_count": 104,
     "metadata": {},
     "output_type": "execute_result"
    }
   ],
   "source": [
    "# 행렬의 내부 값 치환\n"
   ]
  },
  {
   "cell_type": "markdown",
   "metadata": {},
   "source": [
    "- 톱니형 리스트(Jagged List) 생성 가능"
   ]
  },
  {
   "cell_type": "code",
   "execution_count": 105,
   "metadata": {
    "ExecuteTime": {
     "end_time": "2022-04-03T14:27:50.479076Z",
     "start_time": "2022-04-03T14:27:50.465077Z"
    }
   },
   "outputs": [
    {
     "data": {
      "text/plain": [
       "[[10, 20], [500, 600, 700], [9], [30, 40], [8], [800, 900, 1000]]"
      ]
     },
     "execution_count": 105,
     "metadata": {},
     "output_type": "execute_result"
    }
   ],
   "source": [
    "a = [[10, 20],\n",
    "     [500, 600, 700],\n",
    "     [9],\n",
    "     [30, 40],\n",
    "     [8],\n",
    "     [800, 900, 1000]]\n",
    "a"
   ]
  },
  {
   "cell_type": "code",
   "execution_count": 106,
   "metadata": {
    "ExecuteTime": {
     "end_time": "2022-04-03T14:27:50.494082Z",
     "start_time": "2022-04-03T14:27:50.480076Z"
    }
   },
   "outputs": [
    {
     "data": {
      "text/plain": [
       "[10, 20]"
      ]
     },
     "execution_count": 106,
     "metadata": {},
     "output_type": "execute_result"
    }
   ],
   "source": [
    "a[0]"
   ]
  },
  {
   "cell_type": "code",
   "execution_count": 107,
   "metadata": {
    "ExecuteTime": {
     "end_time": "2022-04-03T14:27:50.509076Z",
     "start_time": "2022-04-03T14:27:50.495077Z"
    }
   },
   "outputs": [
    {
     "data": {
      "text/plain": [
       "[[10, 20, 100], [500, 600, 700], [9], [30, 40], [8], [800, 900, 1000]]"
      ]
     },
     "execution_count": 107,
     "metadata": {},
     "output_type": "execute_result"
    }
   ],
   "source": [
    "# 행렬의 내부 값 추가\n"
   ]
  },
  {
   "cell_type": "markdown",
   "metadata": {},
   "source": [
    "```mpython\n",
    "리스트 = [(값, 값), (값, 값), (값, 값)]\n",
    "튜플 = ([값, 값], [값, 값], [값, 값])\n",
    "튜플 = ((값, 값), (값, 값), (값, 값))\n",
    "```"
   ]
  },
  {
   "cell_type": "code",
   "execution_count": 108,
   "metadata": {
    "ExecuteTime": {
     "end_time": "2022-04-03T14:27:50.524074Z",
     "start_time": "2022-04-03T14:27:50.510045Z"
    }
   },
   "outputs": [],
   "source": [
    "a = ((10, 20), (30, 40), (50, 60))    # 튜플 안에 튜플을 넣은 2차원 튜플\n",
    "b = ([10, 20], [30, 40], [50, 60])    # 튜플 안에 리스트를 넣음\n",
    "c = [(10, 20), (30, 40), (50, 60)]    # 리스트 안에 튜플을 넣음"
   ]
  },
  {
   "cell_type": "code",
   "execution_count": 109,
   "metadata": {
    "ExecuteTime": {
     "end_time": "2022-04-03T14:27:50.539083Z",
     "start_time": "2022-04-03T14:27:50.525044Z"
    }
   },
   "outputs": [],
   "source": [
    "# a[0][0] = 500    # 안쪽 튜플은 변경할 수 없음. TypeError 발생"
   ]
  },
  {
   "cell_type": "code",
   "execution_count": 110,
   "metadata": {
    "ExecuteTime": {
     "end_time": "2022-04-03T14:27:50.554076Z",
     "start_time": "2022-04-03T14:27:50.540081Z"
    }
   },
   "outputs": [],
   "source": [
    "# a[0] = (500, 600)    # 바깥쪽 튜플은 변경할 수 없음. TypeError 발생"
   ]
  },
  {
   "cell_type": "code",
   "execution_count": 111,
   "metadata": {
    "ExecuteTime": {
     "end_time": "2022-04-03T14:27:50.569075Z",
     "start_time": "2022-04-03T14:27:50.555076Z"
    }
   },
   "outputs": [
    {
     "data": {
      "text/plain": [
       "[10, 20]"
      ]
     },
     "execution_count": 111,
     "metadata": {},
     "output_type": "execute_result"
    }
   ],
   "source": [
    "b[0]"
   ]
  },
  {
   "cell_type": "code",
   "execution_count": 112,
   "metadata": {
    "ExecuteTime": {
     "end_time": "2022-04-03T14:27:50.584042Z",
     "start_time": "2022-04-03T14:27:50.570049Z"
    }
   },
   "outputs": [
    {
     "data": {
      "text/plain": [
       "([500, 20], [30, 40], [50, 60])"
      ]
     },
     "execution_count": 112,
     "metadata": {},
     "output_type": "execute_result"
    }
   ],
   "source": [
    "b[0][0] = 500        # 안쪽 리스트는 변경할 수 있음\n",
    "b"
   ]
  },
  {
   "cell_type": "code",
   "execution_count": 113,
   "metadata": {
    "ExecuteTime": {
     "end_time": "2022-04-03T14:27:50.599075Z",
     "start_time": "2022-04-03T14:27:50.585042Z"
    }
   },
   "outputs": [],
   "source": [
    "# b[0] = (500, 600)    # 바깥쪽 튜플은 변경할 수 없음. TypeError 발생"
   ]
  },
  {
   "cell_type": "code",
   "execution_count": 114,
   "metadata": {
    "ExecuteTime": {
     "end_time": "2022-04-03T14:27:50.615074Z",
     "start_time": "2022-04-03T14:27:50.600044Z"
    }
   },
   "outputs": [
    {
     "data": {
      "text/plain": [
       "(10, 20)"
      ]
     },
     "execution_count": 114,
     "metadata": {},
     "output_type": "execute_result"
    }
   ],
   "source": [
    "c[0]"
   ]
  },
  {
   "cell_type": "code",
   "execution_count": 115,
   "metadata": {
    "ExecuteTime": {
     "end_time": "2022-04-03T14:27:50.630045Z",
     "start_time": "2022-04-03T14:27:50.617043Z"
    }
   },
   "outputs": [],
   "source": [
    "# c[0][0] = 500        # 안쪽 튜플은 변경할 수 없음. TypeError 발생"
   ]
  },
  {
   "cell_type": "code",
   "execution_count": 116,
   "metadata": {
    "ExecuteTime": {
     "end_time": "2022-04-03T14:27:50.645070Z",
     "start_time": "2022-04-03T14:27:50.633047Z"
    }
   },
   "outputs": [
    {
     "data": {
      "text/plain": [
       "[(500, 600), (30, 40), (50, 60)]"
      ]
     },
     "execution_count": 116,
     "metadata": {},
     "output_type": "execute_result"
    }
   ],
   "source": [
    "c[0] = (500, 600)    # 바깥쪽 리스트는 변경할 수 있음\n",
    "c"
   ]
  },
  {
   "cell_type": "code",
   "execution_count": 117,
   "metadata": {
    "ExecuteTime": {
     "end_time": "2022-04-03T14:27:50.660078Z",
     "start_time": "2022-04-03T14:27:50.646078Z"
    }
   },
   "outputs": [
    {
     "data": {
      "text/plain": [
       "[[10, 20], [30, 40], [50, 60]]"
      ]
     },
     "execution_count": 117,
     "metadata": {},
     "output_type": "execute_result"
    }
   ],
   "source": [
    "a = [[10, 20], [30, 40], [50, 60]]\n",
    "a"
   ]
  },
  {
   "cell_type": "code",
   "execution_count": 118,
   "metadata": {
    "ExecuteTime": {
     "end_time": "2022-04-03T14:27:55.252042Z",
     "start_time": "2022-04-03T14:27:50.661047Z"
    }
   },
   "outputs": [
    {
     "name": "stdout",
     "output_type": "stream",
     "text": [
      "Collecting pprintpp\n",
      "  Downloading pprintpp-0.4.0-py2.py3-none-any.whl (16 kB)\n",
      "Installing collected packages: pprintpp\n",
      "Successfully installed pprintpp-0.4.0\n"
     ]
    }
   ],
   "source": [
    "!pip install pprintpp"
   ]
  },
  {
   "cell_type": "code",
   "execution_count": 119,
   "metadata": {
    "ExecuteTime": {
     "end_time": "2022-04-03T14:27:55.266042Z",
     "start_time": "2022-04-03T14:27:55.256046Z"
    }
   },
   "outputs": [
    {
     "name": "stdout",
     "output_type": "stream",
     "text": [
      "[[10, 20],\n",
      " [30, 40],\n",
      " [50, 60]]\n"
     ]
    }
   ],
   "source": [
    "# pprint 외장함수로 데이터를 차원에 맞게 출력 가능\n"
   ]
  },
  {
   "cell_type": "code",
   "execution_count": 120,
   "metadata": {
    "ExecuteTime": {
     "end_time": "2022-04-03T14:27:55.281044Z",
     "start_time": "2022-04-03T14:27:55.267044Z"
    }
   },
   "outputs": [
    {
     "name": "stdout",
     "output_type": "stream",
     "text": [
      "[[10, 20],\n",
      " [30, 40],\n",
      " [50, 60]]\n"
     ]
    }
   ],
   "source": [
    "# pprint 외장함수로 데이터를 차원에 맞게 출력 가능\n",
    "# 사용 함수의 코드를 짧게 작성하기 위해 from 모듈 import 함수 사용\n"
   ]
  },
  {
   "cell_type": "markdown",
   "metadata": {},
   "source": [
    "## 2차원에서의 반복문\n",
    "\n",
    "- 추출하는 값의 길이와 반복문에서의 변수 갯수는 일치해야 함\n",
    "\n",
    "```python\n",
    "리스트[세로인덱스][가로인덱스]\n",
    "```"
   ]
  },
  {
   "cell_type": "code",
   "execution_count": 121,
   "metadata": {
    "ExecuteTime": {
     "end_time": "2022-04-03T14:27:55.296044Z",
     "start_time": "2022-04-03T14:27:55.282043Z"
    }
   },
   "outputs": [
    {
     "name": "stdout",
     "output_type": "stream",
     "text": [
      "[[10, 20], [30, 40], [50, 60]] (3, 2) 3 2\n"
     ]
    }
   ],
   "source": [
    "import numpy as np\n",
    "\n",
    "a = [[10, 20], [30, 40], [50, 60]]\n",
    "print(a, np.shape(a), len(a), len(a[0]))"
   ]
  },
  {
   "cell_type": "code",
   "execution_count": 122,
   "metadata": {
    "ExecuteTime": {
     "end_time": "2022-04-03T14:27:55.311044Z",
     "start_time": "2022-04-03T14:27:55.297044Z"
    }
   },
   "outputs": [
    {
     "data": {
      "text/plain": [
       "3"
      ]
     },
     "execution_count": 122,
     "metadata": {},
     "output_type": "execute_result"
    }
   ],
   "source": [
    "len(a)"
   ]
  },
  {
   "cell_type": "code",
   "execution_count": 123,
   "metadata": {
    "ExecuteTime": {
     "end_time": "2022-04-03T14:27:55.326045Z",
     "start_time": "2022-04-03T14:27:55.312043Z"
    }
   },
   "outputs": [
    {
     "data": {
      "text/plain": [
       "[10, 20]"
      ]
     },
     "execution_count": 123,
     "metadata": {},
     "output_type": "execute_result"
    }
   ],
   "source": [
    "a[0]"
   ]
  },
  {
   "cell_type": "code",
   "execution_count": 124,
   "metadata": {
    "ExecuteTime": {
     "end_time": "2022-04-03T14:27:55.341047Z",
     "start_time": "2022-04-03T14:27:55.327043Z"
    }
   },
   "outputs": [
    {
     "data": {
      "text/plain": [
       "2"
      ]
     },
     "execution_count": 124,
     "metadata": {},
     "output_type": "execute_result"
    }
   ],
   "source": [
    "len(a[0])"
   ]
  },
  {
   "cell_type": "code",
   "execution_count": 125,
   "metadata": {
    "ExecuteTime": {
     "end_time": "2022-04-03T14:27:55.357044Z",
     "start_time": "2022-04-03T14:27:55.343043Z"
    }
   },
   "outputs": [
    {
     "name": "stdout",
     "output_type": "stream",
     "text": [
      "10 20 \n",
      "30 40 \n",
      "50 60 \n"
     ]
    }
   ],
   "source": [
    "# 기존 프로그램의 인덱스 접근\n"
   ]
  },
  {
   "cell_type": "code",
   "execution_count": 126,
   "metadata": {
    "ExecuteTime": {
     "end_time": "2022-04-03T14:27:55.372044Z",
     "start_time": "2022-04-03T14:27:55.358042Z"
    }
   },
   "outputs": [
    {
     "name": "stdout",
     "output_type": "stream",
     "text": [
      "10 20 \n",
      "30 40 \n",
      "50 60 \n"
     ]
    }
   ],
   "source": [
    "# 데이터가 변경되어도 실행되지 않는 값이 존재\n"
   ]
  },
  {
   "cell_type": "code",
   "execution_count": 127,
   "metadata": {
    "ExecuteTime": {
     "end_time": "2022-04-03T14:27:55.387044Z",
     "start_time": "2022-04-03T14:27:55.373043Z"
    }
   },
   "outputs": [
    {
     "name": "stdout",
     "output_type": "stream",
     "text": [
      "10 20 \n",
      "30 40 \n",
      "50 60 \n"
     ]
    }
   ],
   "source": [
    "# 기존 프로그램의 인덱스 접근\n"
   ]
  },
  {
   "cell_type": "code",
   "execution_count": 128,
   "metadata": {
    "ExecuteTime": {
     "end_time": "2022-04-03T14:27:55.402042Z",
     "start_time": "2022-04-03T14:27:55.388044Z"
    }
   },
   "outputs": [
    {
     "name": "stdout",
     "output_type": "stream",
     "text": [
      "10 20 \n",
      "30 40 \n",
      "50 60 \n",
      "70 80 \n"
     ]
    }
   ],
   "source": [
    "# 데이터가 변경되어도 모두 실행\n"
   ]
  },
  {
   "cell_type": "code",
   "execution_count": 129,
   "metadata": {
    "ExecuteTime": {
     "end_time": "2022-04-03T14:27:55.417041Z",
     "start_time": "2022-04-03T14:27:55.403044Z"
    }
   },
   "outputs": [
    {
     "name": "stdout",
     "output_type": "stream",
     "text": [
      "10 20 \n",
      "30 40 \n",
      "50 60 \n",
      "70 80 90 100 \n"
     ]
    }
   ],
   "source": [
    "# 데이터의 각 row 길이가 달라도 모두 실행\n"
   ]
  },
  {
   "cell_type": "code",
   "execution_count": 130,
   "metadata": {
    "ExecuteTime": {
     "end_time": "2022-04-03T14:27:55.432043Z",
     "start_time": "2022-04-03T14:27:55.418044Z"
    }
   },
   "outputs": [
    {
     "name": "stdout",
     "output_type": "stream",
     "text": [
      "15 25 \n",
      "35 45 \n",
      "55 65 \n"
     ]
    }
   ],
   "source": [
    "# 2차원 데이터를 반복문의 중첩을 사용해서 연산도 가능\n"
   ]
  },
  {
   "cell_type": "code",
   "execution_count": 131,
   "metadata": {
    "ExecuteTime": {
     "end_time": "2022-04-03T14:27:55.447043Z",
     "start_time": "2022-04-03T14:27:55.433045Z"
    }
   },
   "outputs": [
    {
     "name": "stdout",
     "output_type": "stream",
     "text": [
      "10 20\n",
      "30 40\n",
      "50 60\n"
     ]
    }
   ],
   "source": [
    "# while문을 사용해서 동일결과 출력\n"
   ]
  },
  {
   "cell_type": "code",
   "execution_count": 132,
   "metadata": {
    "ExecuteTime": {
     "end_time": "2022-04-03T14:27:55.462044Z",
     "start_time": "2022-04-03T14:27:55.448045Z"
    }
   },
   "outputs": [
    {
     "name": "stdout",
     "output_type": "stream",
     "text": [
      "10 20 \n",
      "30 40 \n",
      "50 60 \n"
     ]
    }
   ],
   "source": [
    "# while문을 사용해서 동일결과 출력\n"
   ]
  },
  {
   "cell_type": "code",
   "execution_count": 133,
   "metadata": {
    "ExecuteTime": {
     "end_time": "2022-04-03T14:27:55.477042Z",
     "start_time": "2022-04-03T14:27:55.463043Z"
    }
   },
   "outputs": [
    {
     "name": "stdout",
     "output_type": "stream",
     "text": [
      "[10, 20]\n",
      "[30, 40]\n",
      "[50, 60]\n"
     ]
    }
   ],
   "source": [
    "a = [[10, 20], [30, 40], [50, 60]]\n",
    "for i in a:\n",
    "    print(i)"
   ]
  },
  {
   "cell_type": "code",
   "execution_count": 134,
   "metadata": {
    "ExecuteTime": {
     "end_time": "2022-04-03T14:27:55.492043Z",
     "start_time": "2022-04-03T14:27:55.478043Z"
    }
   },
   "outputs": [
    {
     "name": "stdout",
     "output_type": "stream",
     "text": [
      "10 20 \n",
      "30 40 \n",
      "50 60 \n"
     ]
    }
   ],
   "source": [
    "# 인덱스 위치를 신경쓸 필요가 없이 값 자체를 하나씩 반복 가능\n"
   ]
  },
  {
   "cell_type": "code",
   "execution_count": 135,
   "metadata": {
    "ExecuteTime": {
     "end_time": "2022-04-03T14:27:55.507042Z",
     "start_time": "2022-04-03T14:27:55.493045Z"
    }
   },
   "outputs": [
    {
     "name": "stdout",
     "output_type": "stream",
     "text": [
      "10 20\n",
      "30 40\n",
      "50 60\n"
     ]
    }
   ],
   "source": [
    "# 파이썬의 강점으로 반복 동안 2개(그이상도 가능)의 출력값을 활용 가능\n"
   ]
  },
  {
   "cell_type": "code",
   "execution_count": 136,
   "metadata": {
    "ExecuteTime": {
     "end_time": "2022-04-03T14:27:55.522074Z",
     "start_time": "2022-04-03T14:27:55.508043Z"
    }
   },
   "outputs": [
    {
     "data": {
      "text/plain": [
       "[1, 1]"
      ]
     },
     "execution_count": 136,
     "metadata": {},
     "output_type": "execute_result"
    }
   ],
   "source": [
    "line = []              # 안쪽 리스트로 사용할 빈 리스트 생성\n",
    "for j in range(2):\n",
    "    line.append(1)     # 안쪽 리스트에 0 추가\n",
    "\n",
    "line"
   ]
  },
  {
   "cell_type": "code",
   "execution_count": 137,
   "metadata": {
    "ExecuteTime": {
     "end_time": "2022-04-03T14:27:55.537074Z",
     "start_time": "2022-04-03T14:27:55.523079Z"
    }
   },
   "outputs": [
    {
     "name": "stdout",
     "output_type": "stream",
     "text": [
      "[[1, 1],\n",
      " [1, 1],\n",
      " [1, 1]]\n"
     ]
    }
   ],
   "source": [
    "a = []    # 빈 리스트 생성\n",
    " \n",
    "for i in range(3):\n",
    "    line = []              # 안쪽 리스트로 사용할 빈 리스트 생성\n",
    "    for j in range(2):\n",
    "        line.append(1)     # 안쪽 리스트에 0 추가\n",
    "    a.append(line)         # 전체 리스트에 안쪽 리스트를 추가\n",
    " \n",
    "pprint(a, width=10)"
   ]
  },
  {
   "cell_type": "code",
   "execution_count": 138,
   "metadata": {
    "ExecuteTime": {
     "end_time": "2022-04-03T14:27:55.552079Z",
     "start_time": "2022-04-03T14:27:55.538046Z"
    }
   },
   "outputs": [
    {
     "data": {
      "text/plain": [
       "[1, 1]"
      ]
     },
     "execution_count": 138,
     "metadata": {},
     "output_type": "execute_result"
    }
   ],
   "source": [
    "# 리스트 표현식으로 재현\n",
    "# line = []              # 안쪽 리스트로 사용할 빈 리스트 생성\n",
    "# for j in range(2):\n",
    "#     line.append(1)     # 안쪽 리스트에 0 추가\n",
    "# line\n"
   ]
  },
  {
   "cell_type": "code",
   "execution_count": 139,
   "metadata": {
    "ExecuteTime": {
     "end_time": "2022-04-03T14:27:55.567043Z",
     "start_time": "2022-04-03T14:27:55.553080Z"
    }
   },
   "outputs": [
    {
     "name": "stdout",
     "output_type": "stream",
     "text": [
      "[[1, 1],\n",
      " [1, 1],\n",
      " [1, 1]]\n"
     ]
    }
   ],
   "source": [
    "# 리스트 표현식으로 위 코드 결과를 재현\n"
   ]
  },
  {
   "cell_type": "code",
   "execution_count": 140,
   "metadata": {
    "ExecuteTime": {
     "end_time": "2022-04-03T14:27:55.582090Z",
     "start_time": "2022-04-03T14:27:55.568045Z"
    }
   },
   "outputs": [
    {
     "name": "stdout",
     "output_type": "stream",
     "text": [
      "[[1, 1],\n",
      " [1, 1],\n",
      " [1, 1]]\n"
     ]
    }
   ],
   "source": [
    "# 반복문의 중첩도 한줄의 list comprehension으로 전환 가능\n"
   ]
  },
  {
   "cell_type": "code",
   "execution_count": 141,
   "metadata": {
    "ExecuteTime": {
     "end_time": "2022-04-03T14:27:55.597043Z",
     "start_time": "2022-04-03T14:27:55.583075Z"
    }
   },
   "outputs": [
    {
     "data": {
      "text/plain": [
       "[1, 1, 1, 1, 1, 1]"
      ]
     },
     "execution_count": 141,
     "metadata": {},
     "output_type": "execute_result"
    }
   ],
   "source": [
    "# 대괄호를 하나 삭제한다면?\n"
   ]
  },
  {
   "cell_type": "code",
   "execution_count": 142,
   "metadata": {
    "ExecuteTime": {
     "end_time": "2022-04-03T14:27:55.612075Z",
     "start_time": "2022-04-03T14:27:55.598046Z"
    }
   },
   "outputs": [
    {
     "data": {
      "text/plain": [
       "[1, 1]"
      ]
     },
     "execution_count": 142,
     "metadata": {},
     "output_type": "execute_result"
    }
   ],
   "source": [
    "[1 for j in range(2)]"
   ]
  },
  {
   "cell_type": "code",
   "execution_count": 143,
   "metadata": {
    "ExecuteTime": {
     "end_time": "2022-04-03T14:27:55.627076Z",
     "start_time": "2022-04-03T14:27:55.613041Z"
    }
   },
   "outputs": [
    {
     "data": {
      "text/plain": [
       "[1, 1]"
      ]
     },
     "execution_count": 143,
     "metadata": {},
     "output_type": "execute_result"
    }
   ],
   "source": [
    "[1]*2"
   ]
  },
  {
   "cell_type": "code",
   "execution_count": 144,
   "metadata": {
    "ExecuteTime": {
     "end_time": "2022-04-03T14:27:55.642075Z",
     "start_time": "2022-04-03T14:27:55.628076Z"
    }
   },
   "outputs": [
    {
     "name": "stdout",
     "output_type": "stream",
     "text": [
      "[[1, 1],\n",
      " [1, 1],\n",
      " [1, 1]]\n"
     ]
    }
   ],
   "source": [
    "# 반복문 중첩도 효율적 연산으로 반복문을 줄여 동일결과 출력 가능\n"
   ]
  },
  {
   "cell_type": "code",
   "execution_count": 145,
   "metadata": {
    "ExecuteTime": {
     "end_time": "2022-04-03T14:27:55.657077Z",
     "start_time": "2022-04-03T14:27:55.643079Z"
    }
   },
   "outputs": [
    {
     "name": "stdout",
     "output_type": "stream",
     "text": [
      "[[1, 1],\n",
      " [1, 1],\n",
      " [1, 1]]\n"
     ]
    }
   ],
   "source": [
    "a = []    # 빈 리스트 생성\n",
    " \n",
    "for i in range(3):\n",
    "    line = []              # 안쪽 리스트로 사용할 빈 리스트 생성\n",
    "    for j in range(2):\n",
    "        line.append(1)     # 안쪽 리스트에 0 추가\n",
    "    a.append(line)         # 전체 리스트에 안쪽 리스트를 추가\n",
    " \n",
    "pprint(a, width=10)"
   ]
  },
  {
   "cell_type": "code",
   "execution_count": 146,
   "metadata": {
    "ExecuteTime": {
     "end_time": "2022-04-03T14:27:55.672078Z",
     "start_time": "2022-04-03T14:27:55.658043Z"
    }
   },
   "outputs": [
    {
     "data": {
      "text/plain": [
       "[0, 1, 2]"
      ]
     },
     "execution_count": 146,
     "metadata": {},
     "output_type": "execute_result"
    }
   ],
   "source": [
    "list(range(3))"
   ]
  },
  {
   "cell_type": "code",
   "execution_count": 147,
   "metadata": {
    "ExecuteTime": {
     "end_time": "2022-04-03T14:27:55.687079Z",
     "start_time": "2022-04-03T14:27:55.673084Z"
    }
   },
   "outputs": [
    {
     "name": "stdout",
     "output_type": "stream",
     "text": [
      "[[1, 1, 1],\n",
      " [1],\n",
      " [1, 1, 1],\n",
      " [1, 1],\n",
      " [1, 1, 1, 1, 1]]\n"
     ]
    }
   ],
   "source": [
    "# 가로의 길이를 임의의 값으로 입력받아 각 행별 출력 길이 조절 가능\n"
   ]
  },
  {
   "cell_type": "code",
   "execution_count": 148,
   "metadata": {
    "ExecuteTime": {
     "end_time": "2022-04-03T14:27:55.702045Z",
     "start_time": "2022-04-03T14:27:55.688045Z"
    }
   },
   "outputs": [
    {
     "name": "stdout",
     "output_type": "stream",
     "text": [
      "[[1, 1, 1],\n",
      " [1],\n",
      " [1, 1, 1],\n",
      " [1, 1],\n",
      " [1, 1, 1, 1, 1]]\n"
     ]
    }
   ],
   "source": [
    "# 위와 동일한 결과를 list comprehension으로 전환 가능\n"
   ]
  },
  {
   "cell_type": "code",
   "execution_count": 149,
   "metadata": {
    "ExecuteTime": {
     "end_time": "2022-04-03T14:27:55.717072Z",
     "start_time": "2022-04-03T14:27:55.704043Z"
    }
   },
   "outputs": [
    {
     "name": "stdout",
     "output_type": "stream",
     "text": [
      "[[500, 20], [30, 40]] [[500, 20], [30, 40]]\n"
     ]
    }
   ],
   "source": [
    "# 변수끼리의 = 기호는 할당이 아니라 동일한 변수로 반영\n"
   ]
  },
  {
   "cell_type": "code",
   "execution_count": 150,
   "metadata": {
    "ExecuteTime": {
     "end_time": "2022-04-03T14:27:55.732075Z",
     "start_time": "2022-04-03T14:27:55.718085Z"
    }
   },
   "outputs": [
    {
     "name": "stdout",
     "output_type": "stream",
     "text": [
      "[[500, 20], [30, 40]] [[500, 20], [30, 40]]\n"
     ]
    }
   ],
   "source": [
    "# 변수끼리의 = 기호는 할당이 아니라 동일한 변수로 반영\n",
    "# 복사를 해서 값만 할당해줘야 함\n",
    "# 2차원 이상에서는 이 방법도 적용 불가\n"
   ]
  },
  {
   "cell_type": "code",
   "execution_count": 151,
   "metadata": {
    "ExecuteTime": {
     "end_time": "2022-04-03T14:27:55.747042Z",
     "start_time": "2022-04-03T14:27:55.733044Z"
    }
   },
   "outputs": [
    {
     "name": "stdout",
     "output_type": "stream",
     "text": [
      "[[10, 20], [30, 40]] [[500, 20], [30, 40]]\n"
     ]
    }
   ],
   "source": [
    "# 2차원 이상에서는 깊은 복사로 진행하면 중첩된 리스트에 있는 모든 요소들을 복사함\n",
    "# deepcopy 외장함수로 내부 값들을 복사하여 전달\n"
   ]
  },
  {
   "cell_type": "markdown",
   "metadata": {},
   "source": [
    "## 반복문으로 3차원 리스트 생성\n",
    "\n",
    "- **3차원 리스트 생성 및 값 반영:**\n",
    "\n",
    "```python\n",
    "리스트 = [[[값, 값], [값, 값]], [[값, 값], [값, 값]], [[값, 값], [값, 값]]]\n",
    "리스트[높이인덱스][세로인덱스][가로인덱스] = 값\n",
    "```\n",
    "\n",
    "![Loop_3DimList](Image/Loop_3DimList.png)"
   ]
  },
  {
   "cell_type": "code",
   "execution_count": 152,
   "metadata": {
    "ExecuteTime": {
     "end_time": "2022-04-03T14:27:55.762075Z",
     "start_time": "2022-04-03T14:27:55.748083Z"
    }
   },
   "outputs": [
    {
     "data": {
      "text/plain": [
       "[0, 0, 0]"
      ]
     },
     "execution_count": 152,
     "metadata": {},
     "output_type": "execute_result"
    }
   ],
   "source": [
    "[0 for col in range(3)]"
   ]
  },
  {
   "cell_type": "code",
   "execution_count": 153,
   "metadata": {
    "ExecuteTime": {
     "end_time": "2022-04-03T14:27:55.777078Z",
     "start_time": "2022-04-03T14:27:55.763045Z"
    }
   },
   "outputs": [
    {
     "name": "stdout",
     "output_type": "stream",
     "text": [
      "[[0, 0, 0],\n",
      " [0, 0, 0],\n",
      " [0, 0, 0],\n",
      " [0, 0, 0]]\n"
     ]
    }
   ],
   "source": [
    "# list comprehension 활용 2차원 데이터 출력\n"
   ]
  },
  {
   "cell_type": "code",
   "execution_count": 154,
   "metadata": {
    "ExecuteTime": {
     "end_time": "2022-04-03T14:27:55.792075Z",
     "start_time": "2022-04-03T14:27:55.778075Z"
    }
   },
   "outputs": [
    {
     "name": "stdout",
     "output_type": "stream",
     "text": [
      "[[[0, 0, 0],\n",
      "  [0, 0, 0],\n",
      "  [0, 0, 0],\n",
      "  [0, 0, 0]],\n",
      " [[0, 0, 0],\n",
      "  [0, 0, 0],\n",
      "  [0, 0, 0],\n",
      "  [0, 0, 0]]]\n"
     ]
    }
   ],
   "source": [
    "# list comprehension 활용 2차원 데이터 출력을 중복적용하여 3차원 데이터 출력\n"
   ]
  },
  {
   "cell_type": "code",
   "execution_count": 155,
   "metadata": {
    "ExecuteTime": {
     "end_time": "2022-04-03T14:27:55.807078Z",
     "start_time": "2022-04-03T14:27:55.793045Z"
    }
   },
   "outputs": [
    {
     "name": "stdout",
     "output_type": "stream",
     "text": [
      "[[[0, 0, 0],\n",
      "  [0, 0, 0],\n",
      "  [0, 0, 0],\n",
      "  [0, 0, 0]],\n",
      " [[0, 0, 0],\n",
      "  [0, 0, 0],\n",
      "  [0, 0, 0],\n",
      "  [0, 0, 0]]]\n"
     ]
    }
   ],
   "source": [
    "# list comprehension 활용 2차원 데이터 출력을 중복적용을 한줄로 표현하여 3차원 데이터 출력\n"
   ]
  },
  {
   "cell_type": "code",
   "execution_count": 156,
   "metadata": {
    "ExecuteTime": {
     "end_time": "2022-04-03T14:27:56.497075Z",
     "start_time": "2022-04-03T14:27:55.808046Z"
    },
    "scrolled": true
   },
   "outputs": [
    {
     "data": {
      "text/html": [
       "<div>\n",
       "<style scoped>\n",
       "    .dataframe tbody tr th:only-of-type {\n",
       "        vertical-align: middle;\n",
       "    }\n",
       "\n",
       "    .dataframe tbody tr th {\n",
       "        vertical-align: top;\n",
       "    }\n",
       "\n",
       "    .dataframe thead th {\n",
       "        text-align: right;\n",
       "    }\n",
       "</style>\n",
       "<table border=\"1\" class=\"dataframe\">\n",
       "  <thead>\n",
       "    <tr style=\"text-align: right;\">\n",
       "      <th></th>\n",
       "      <th>0</th>\n",
       "      <th>1</th>\n",
       "      <th>2</th>\n",
       "    </tr>\n",
       "  </thead>\n",
       "  <tbody>\n",
       "    <tr>\n",
       "      <th>0</th>\n",
       "      <td>0</td>\n",
       "      <td>0</td>\n",
       "      <td>0</td>\n",
       "    </tr>\n",
       "    <tr>\n",
       "      <th>1</th>\n",
       "      <td>0</td>\n",
       "      <td>0</td>\n",
       "      <td>0</td>\n",
       "    </tr>\n",
       "    <tr>\n",
       "      <th>2</th>\n",
       "      <td>0</td>\n",
       "      <td>0</td>\n",
       "      <td>0</td>\n",
       "    </tr>\n",
       "    <tr>\n",
       "      <th>3</th>\n",
       "      <td>0</td>\n",
       "      <td>0</td>\n",
       "      <td>0</td>\n",
       "    </tr>\n",
       "  </tbody>\n",
       "</table>\n",
       "</div>"
      ],
      "text/plain": [
       "   0  1  2\n",
       "0  0  0  0\n",
       "1  0  0  0\n",
       "2  0  0  0\n",
       "3  0  0  0"
      ]
     },
     "metadata": {},
     "output_type": "display_data"
    },
    {
     "data": {
      "text/html": [
       "<div>\n",
       "<style scoped>\n",
       "    .dataframe tbody tr th:only-of-type {\n",
       "        vertical-align: middle;\n",
       "    }\n",
       "\n",
       "    .dataframe tbody tr th {\n",
       "        vertical-align: top;\n",
       "    }\n",
       "\n",
       "    .dataframe thead th {\n",
       "        text-align: right;\n",
       "    }\n",
       "</style>\n",
       "<table border=\"1\" class=\"dataframe\">\n",
       "  <thead>\n",
       "    <tr style=\"text-align: right;\">\n",
       "      <th></th>\n",
       "      <th>0</th>\n",
       "      <th>1</th>\n",
       "      <th>2</th>\n",
       "    </tr>\n",
       "  </thead>\n",
       "  <tbody>\n",
       "    <tr>\n",
       "      <th>0</th>\n",
       "      <td>0</td>\n",
       "      <td>0</td>\n",
       "      <td>0</td>\n",
       "    </tr>\n",
       "    <tr>\n",
       "      <th>1</th>\n",
       "      <td>0</td>\n",
       "      <td>0</td>\n",
       "      <td>0</td>\n",
       "    </tr>\n",
       "    <tr>\n",
       "      <th>2</th>\n",
       "      <td>0</td>\n",
       "      <td>0</td>\n",
       "      <td>0</td>\n",
       "    </tr>\n",
       "    <tr>\n",
       "      <th>3</th>\n",
       "      <td>0</td>\n",
       "      <td>0</td>\n",
       "      <td>0</td>\n",
       "    </tr>\n",
       "  </tbody>\n",
       "</table>\n",
       "</div>"
      ],
      "text/plain": [
       "   0  1  2\n",
       "0  0  0  0\n",
       "1  0  0  0\n",
       "2  0  0  0\n",
       "3  0  0  0"
      ]
     },
     "metadata": {},
     "output_type": "display_data"
    }
   ],
   "source": [
    "# 3차원 데이터의 시각화는 어려운 부분이라, 2차원 데이터를 반복시켜 확인하는게 일반적\n"
   ]
  },
  {
   "cell_type": "code",
   "execution_count": 2,
   "metadata": {
    "ExecuteTime": {
     "end_time": "2022-04-04T04:08:42.717316Z",
     "start_time": "2022-04-04T04:08:42.705287Z"
    }
   },
   "outputs": [
    {
     "name": "stdout",
     "output_type": "stream",
     "text": [
      "Intel64 Family 6 Model 158 Stepping 10, GenuineIntel\n",
      "48(GB)\n",
      "Windows\n",
      "10.0.22000\n",
      "C:\\DataScience\\Lecture\\[DataScience]\n",
      "2022-03-21 01:44:14.436007\n",
      "2022-04-04 13:02:29.471007\n",
      "2022-04-04 13:02:29.471007\n",
      "2022-04-04 13:08:42.709316\n",
      "다음 출력을 파일명으로 설정하고 제출하시오: 김경원_20211011_비즈니스혁신을위한데이터사이언스응용_1반_ConditionLoop\n"
     ]
    }
   ],
   "source": [
    "# 반드시 이 cell을 실행하시오\n",
    "# 실행하지 않을 시 직접 하지 않은 것으로 간주\n",
    "# 마지막 줄 출력으로 파일명을 설정하고 제출 필수\n",
    "import platform, psutil, os, datetime\n",
    "print(platform.processor())\n",
    "print(str(round(psutil.virtual_memory().total / (1024.0 **3)))+\"(GB)\")\n",
    "print(platform.system())\n",
    "print(platform.version())\n",
    "print(os.getcwd())\n",
    "print(datetime.datetime.fromtimestamp(os.path.getctime(os.getcwd())))\n",
    "print(datetime.datetime.fromtimestamp(os.path.getmtime(os.getcwd())))\n",
    "print(datetime.datetime.fromtimestamp(os.path.getatime(os.getcwd())))\n",
    "print(datetime.datetime.now())\n",
    "title = 'ConditionLoop'    # 고정값\n",
    "name = '김경원'    # 본인 이름을 작성\n",
    "studentid = '20211011'    # 본인 학번을 작성\n",
    "course = '비즈니스혁신을위한데이터사이언스응용'    # 'E정보시스템', 'E데이터베이스', '빅데이터', \n",
    "                          # '비즈니스혁신을위한데이터사이언스응용', '인공지능활용디지털경제플랫폼연구'\n",
    "course_number = '1반'    #  학수번호 끝자리\n",
    "                         # E데이터베이스 (0003854001) => 1반\n",
    "                         # E데이터베이스 (0003854002) => 2반\n",
    "                         # 빅데이터 (0006718001) => 1반\n",
    "                         # 비즈니스혁신을위한데이터사이언스응용 (1002667001) => 1반\n",
    "print('다음 출력을 파일명으로 설정하고 제출하시오:', name + '_' + studentid + '_' + course + '_' + course_number + '_' + title)"
   ]
  },
  {
   "cell_type": "markdown",
   "metadata": {},
   "source": [
    "<!-- ## str/list/tuple/dictionary 응용\n",
    "\n",
    "<!-- https://dojang.io/mod/page/view.php?id=2281 -->"
   ]
  }
 ],
 "metadata": {
  "hide_input": false,
  "kernelspec": {
   "display_name": "Python 3 (ipykernel)",
   "language": "python",
   "name": "python3"
  },
  "language_info": {
   "codemirror_mode": {
    "name": "ipython",
    "version": 3
   },
   "file_extension": ".py",
   "mimetype": "text/x-python",
   "name": "python",
   "nbconvert_exporter": "python",
   "pygments_lexer": "ipython3",
   "version": "3.9.7"
  },
  "toc": {
   "base_numbering": 1,
   "nav_menu": {},
   "number_sections": true,
   "sideBar": true,
   "skip_h1_title": false,
   "title_cell": "Table of Contents",
   "title_sidebar": "Contents",
   "toc_cell": false,
   "toc_position": {
    "height": "calc(100% - 180px)",
    "left": "10px",
    "top": "150px",
    "width": "308.292px"
   },
   "toc_section_display": true,
   "toc_window_display": true
  },
  "varInspector": {
   "cols": {
    "lenName": 16,
    "lenType": 16,
    "lenVar": 40
   },
   "kernels_config": {
    "python": {
     "delete_cmd_postfix": "",
     "delete_cmd_prefix": "del ",
     "library": "var_list.py",
     "varRefreshCmd": "print(var_dic_list())"
    },
    "r": {
     "delete_cmd_postfix": ") ",
     "delete_cmd_prefix": "rm(",
     "library": "var_list.r",
     "varRefreshCmd": "cat(var_dic_list()) "
    }
   },
   "position": {
    "height": "144.667px",
    "left": "1346.67px",
    "right": "20px",
    "top": "141px",
    "width": "350px"
   },
   "types_to_exclude": [
    "module",
    "function",
    "builtin_function_or_method",
    "instance",
    "_Feature"
   ],
   "window_display": false
  }
 },
 "nbformat": 4,
 "nbformat_minor": 4
}
