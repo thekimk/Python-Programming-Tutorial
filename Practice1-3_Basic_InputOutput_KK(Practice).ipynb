{
 "cells": [
  {
   "cell_type": "code",
   "execution_count": 1,
   "metadata": {
    "ExecuteTime": {
     "end_time": "2022-03-24T06:15:42.961011Z",
     "start_time": "2022-03-24T06:15:42.924013Z"
    }
   },
   "outputs": [
    {
     "name": "stdout",
     "output_type": "stream",
     "text": [
      "Intel64 Family 6 Model 158 Stepping 10, GenuineIntel\n",
      "48(GB)\n",
      "Windows\n",
      "10.0.22000\n",
      "C:\\DataScience\\Lecture\\[DataScience]\n",
      "2022-03-21 01:44:14.436007\n",
      "2022-03-23 19:06:43.064542\n",
      "2022-03-23 19:06:43.064542\n",
      "2022-03-24 15:15:42.950011\n",
      "다음 출력을 파일명으로 설정하고 제출하시오: 김경원_20211011_비즈니스혁신을위한데이터사이언스응용_1반_InputOutput\n"
     ]
    }
   ],
   "source": [
    "# 반드시 이 cell을 실행하시오\n",
    "# 실행하지 않을 시 직접 하지 않은 것으로 간주\n",
    "# 마지막 줄 출력으로 파일명을 설정하고 제출 필수\n",
    "import platform, psutil, os, datetime\n",
    "print(platform.processor())\n",
    "print(str(round(psutil.virtual_memory().total / (1024.0 **3)))+\"(GB)\")\n",
    "print(platform.system())\n",
    "print(platform.version())\n",
    "print(os.getcwd())\n",
    "print(datetime.datetime.fromtimestamp(os.path.getctime(os.getcwd())))\n",
    "print(datetime.datetime.fromtimestamp(os.path.getmtime(os.getcwd())))\n",
    "print(datetime.datetime.fromtimestamp(os.path.getatime(os.getcwd())))\n",
    "print(datetime.datetime.now())\n",
    "title = 'InputOutput'    # 고정값\n",
    "name = '김경원'    # 본인 이름을 작성\n",
    "studentid = '20211011'    # 본인 학번을 작성\n",
    "course = '비즈니스혁신을위한데이터사이언스응용'    # 'E정보시스템', 'E데이터베이스', '빅데이터', \n",
    "                          # '비즈니스혁신을위한데이터사이언스응용', '인공지능활용디지털경제플랫폼연구'\n",
    "course_number = '1반'    #  학수번호 끝자리\n",
    "                         # E데이터베이스 (0003854001) => 1반\n",
    "                         # E데이터베이스 (0003854002) => 2반\n",
    "                         # 빅데이터 (0006718001) => 1반\n",
    "                         # 비즈니스혁신을위한데이터사이언스응용 (1002667001) => 1반\n",
    "print('다음 출력을 파일명으로 설정하고 제출하시오:', name + '_' + studentid + '_' + course + '_' + course_number + '_' + title)"
   ]
  },
  {
   "cell_type": "markdown",
   "metadata": {},
   "source": [
    "# **프로그래밍 사고**\n",
    "\n",
    "[![Open in Colab](http://colab.research.google.com/assets/colab-badge.svg)](https://colab.research.google.com/github/cheonbi/ProgrammingPython/blob/main/Practice1-3_Basic_InputOutput_KK(Practice).ipynb)\n",
    "\n",
    "- **필요성:** 사람마다 사용 언어와 생각 방식이 다르듯 프로그래밍 언어의 처리방식도 사람과 **`유사한 부분`** 과 **`다른 부분`** 이 존재하며 이를 이해하는 것이 필수"
   ]
  },
  {
   "cell_type": "markdown",
   "metadata": {},
   "source": [
    "## 유사한부분: Y = f(X) + e\n",
    "\n",
    "- **\"세상의 모든 로직은 입력(X), 처리(f), 출력(Y), 그리고 검증(e) 프로세스로 최적화되어 표현된다\"**\n",
    "\n",
    "<center><img src='Image/Programming_IndependentStructure.png' width='600'></center>\n",
    "\n",
    "---\n",
    "\n",
    "<span style=\"color:blue\">**\"비즈니스 작동요소 = 조직 작동방식 = 사람 교류방식 = 컴퓨터 교류방식 =**</span><span style=\"color:red\">**데이터과학 작동방식\"**</span>\n",
    "\n",
    "**1) 사람 교류방식 vs 컴퓨터 교류방식:**\n",
    "> <center><img src='Image/Programming_ManVsComputer.png' width='800'></center>\n",
    "\n",
    "**2) 실제 교류방식:** 반복적으로 피드백을 업데이트 하며 `관계를 업데이트`\n",
    "> <center><img src='Image/Programming_RealCommunication.png' width='600'></center>\n",
    "\n",
    "**3) 데이터과학 작동방식: 입력(x)/처리(f)/출력(y)/검증(e)**\n",
    "- **이상적:**\n",
    "> <center><img src='Image/Programming_BusinessProcess2.png' width='900'></center>\n",
    "\n",
    "- **현실적:** 끊없는(?) 학습과 예측의 `무한반복` 기반, 끝인 줄 알았는데 반쪽짜리\n",
    "> <center><img src='Image/DataSplit_Concept1.png' width='900'></center>\n",
    "> <center><img src='Image/DataSplit_Concept2.png' width='900'></center>\n",
    "> <center><img src='Image/Analysis_Process.png' width='900'></center>\n"
   ]
  },
  {
   "cell_type": "markdown",
   "metadata": {},
   "source": [
    "## 다른부분: 같다 vs 할당한다\n",
    "\n",
    "- **사람의 사고:** \"나\"와 \"KK\"는 같다\n",
    "- **프로그래밍 사고:** \"나\"는 \"KK\"라고 할당한다(반영한다)\n",
    "\n",
    "```python\n",
    "I = \"KK\"\n",
    "print(I)\n",
    "KK\n",
    "```\n",
    "\n",
    "- **사람의 사고:** \"나\"와 \"KK\"는 같고, \"너\"는 \"Korea\"와 같고, \"나\"는 \"너\"와 같다. Why Korea?\n",
    "- **프로그래밍 사고:** \"나\"는 \"KK\"로 할당하고, \"너\"는 \"Korea\"로 할당하고, \"나\"는 \"너\"로 할당했다.\n",
    "\n",
    "```python\n",
    "I = \"KK\"\n",
    "You = \"Korea\"\n",
    "I = You\n",
    "print(I)\n",
    "Korea\n",
    "```"
   ]
  },
  {
   "cell_type": "code",
   "execution_count": 2,
   "metadata": {
    "ExecuteTime": {
     "end_time": "2022-03-24T06:16:27.723114Z",
     "start_time": "2022-03-24T06:16:27.717116Z"
    }
   },
   "outputs": [
    {
     "name": "stdout",
     "output_type": "stream",
     "text": [
      "KK\n"
     ]
    }
   ],
   "source": [
    "# Test\n",
    "I = 'KK'\n",
    "print(I)"
   ]
  },
  {
   "cell_type": "code",
   "execution_count": 2,
   "metadata": {
    "ExecuteTime": {
     "end_time": "2022-03-22T17:31:33.645166Z",
     "start_time": "2022-03-22T17:31:33.631132Z"
    }
   },
   "outputs": [
    {
     "name": "stdout",
     "output_type": "stream",
     "text": [
      "Korea\n"
     ]
    }
   ],
   "source": [
    "# Test\n"
   ]
  },
  {
   "cell_type": "code",
   "execution_count": 3,
   "metadata": {
    "ExecuteTime": {
     "end_time": "2022-03-22T17:31:33.660132Z",
     "start_time": "2022-03-22T17:31:33.646162Z"
    }
   },
   "outputs": [
    {
     "name": "stdout",
     "output_type": "stream",
     "text": [
      "Korea Korea\n"
     ]
    }
   ],
   "source": [
    "print(I, You)"
   ]
  },
  {
   "cell_type": "markdown",
   "metadata": {},
   "source": [
    "# **파이썬이 이해하는 데이터 형태**\n",
    "\n",
    "- **목적:** 데이터분석과 프로그래밍 과정에서 파이썬이 이해할 수 있는 데이터의 형태로 입력하고 출력됨\n",
    "> - Y = f(X)에서 입력(X)과 그리고 출력(Y)의 형태를 이해한다\n",
    "\n",
    "<center><img src='Image/Basic_DataType.PNG' width='1000'></center>\n",
    "\n",
    "- **데이터 값 핸들링:** 인덱스, 인덱싱, 슬라이싱\n",
    "> - **인덱스(Index):** 데이터 값의 순서를 의미하고 Python에선 1이 아닌 0부터 순서 시작(영어권 문화)\n",
    "> <center><img src='Image/Basic_Index.png' width='400'></center>\n",
    ">\n",
    "> - **인덱싱(Indexing):** 인덱스를 사용하여 데이터의 값을 불러오는 것\n",
    ">> 데이터형[인덱스]\n",
    "> ```python\n",
    "'Ready'[3]    # d\n",
    "[1,2,3][2]    # 3\n",
    "A = 'My Name'\n",
    "A[3]    # N\n",
    ">```\n",
    ">\n",
    "> - **슬라이싱(Slicing):** 특정 인덱스가 아니라 일정 인덱스 범위의 값을 불러오는 것\n",
    "> <center><img src='Image/Basic_Slicing.png' width='400'></center>\n",
    ">\n",
    "> ```python\n",
    "A = [2,4,6,8,10,12,14]\n",
    "A[2:5]\n",
    ">```"
   ]
  },
  {
   "cell_type": "markdown",
   "metadata": {},
   "source": [
    "## 숫자형(Numbers): 숫자의 특성을 갖는 것"
   ]
  },
  {
   "cell_type": "code",
   "execution_count": 4,
   "metadata": {
    "ExecuteTime": {
     "end_time": "2022-03-22T17:31:33.675130Z",
     "start_time": "2022-03-22T17:31:33.662133Z"
    }
   },
   "outputs": [
    {
     "name": "stdout",
     "output_type": "stream",
     "text": [
      "10\n"
     ]
    }
   ],
   "source": [
    "# 10이라는 입력을 A라는 변수에 그대로 출력\n",
    "# print 함수는 값을 출력하는 기능\n"
   ]
  },
  {
   "cell_type": "code",
   "execution_count": 5,
   "metadata": {
    "ExecuteTime": {
     "end_time": "2022-03-22T17:31:33.690131Z",
     "start_time": "2022-03-22T17:31:33.676132Z"
    }
   },
   "outputs": [
    {
     "data": {
      "text/plain": [
       "10"
      ]
     },
     "execution_count": 5,
     "metadata": {},
     "output_type": "execute_result"
    }
   ],
   "source": [
    "# 기본적으로 마지막줄은 자동 출력기능이라서 print를 사용하지 않아도 됨\n"
   ]
  },
  {
   "cell_type": "code",
   "execution_count": 6,
   "metadata": {
    "ExecuteTime": {
     "end_time": "2022-03-22T17:31:33.705130Z",
     "start_time": "2022-03-22T17:31:33.691162Z"
    }
   },
   "outputs": [
    {
     "data": {
      "text/plain": [
       "10"
      ]
     },
     "execution_count": 6,
     "metadata": {},
     "output_type": "execute_result"
    }
   ],
   "source": [
    "# 마지막줄 이외의 줄은 print, display 함수를 쓰지 않으면 자동 출력되지 않음\n"
   ]
  },
  {
   "cell_type": "code",
   "execution_count": 7,
   "metadata": {
    "ExecuteTime": {
     "end_time": "2022-03-22T17:31:33.720160Z",
     "start_time": "2022-03-22T17:31:33.706163Z"
    }
   },
   "outputs": [
    {
     "name": "stdout",
     "output_type": "stream",
     "text": [
      "10\n"
     ]
    },
    {
     "data": {
      "text/plain": [
       "10"
      ]
     },
     "execution_count": 7,
     "metadata": {},
     "output_type": "execute_result"
    }
   ],
   "source": []
  },
  {
   "cell_type": "code",
   "execution_count": 8,
   "metadata": {
    "ExecuteTime": {
     "end_time": "2022-03-22T17:31:33.735130Z",
     "start_time": "2022-03-22T17:31:33.721131Z"
    }
   },
   "outputs": [
    {
     "data": {
      "text/plain": [
       "int"
      ]
     },
     "execution_count": 8,
     "metadata": {},
     "output_type": "execute_result"
    }
   ],
   "source": [
    "# A+10 입력받아 type함수로 형태를 처리하고 output에 출력\n",
    "# 자료형을 확인할 때는 type 함수를 이용함\n"
   ]
  },
  {
   "cell_type": "code",
   "execution_count": 9,
   "metadata": {
    "ExecuteTime": {
     "end_time": "2022-03-22T17:31:33.750161Z",
     "start_time": "2022-03-22T17:31:33.736133Z"
    }
   },
   "outputs": [
    {
     "name": "stdout",
     "output_type": "stream",
     "text": [
      "110\n"
     ]
    }
   ],
   "source": [
    "A = A + 100\n",
    "print(A)"
   ]
  },
  {
   "cell_type": "code",
   "execution_count": 10,
   "metadata": {
    "ExecuteTime": {
     "end_time": "2022-03-22T17:31:33.765160Z",
     "start_time": "2022-03-22T17:31:33.752130Z"
    }
   },
   "outputs": [
    {
     "name": "stdout",
     "output_type": "stream",
     "text": [
      "1110\n"
     ]
    }
   ],
   "source": []
  },
  {
   "cell_type": "code",
   "execution_count": 11,
   "metadata": {
    "ExecuteTime": {
     "end_time": "2022-03-22T17:31:33.780165Z",
     "start_time": "2022-03-22T17:31:33.766131Z"
    }
   },
   "outputs": [
    {
     "name": "stdout",
     "output_type": "stream",
     "text": [
      "Final A is  110\n"
     ]
    }
   ],
   "source": [
    "# print 함수는 임의의 문자화 함께 출력 가능\n"
   ]
  },
  {
   "cell_type": "code",
   "execution_count": 12,
   "metadata": {
    "ExecuteTime": {
     "end_time": "2022-03-22T17:31:33.795131Z",
     "start_time": "2022-03-22T17:31:33.781133Z"
    }
   },
   "outputs": [
    {
     "data": {
      "text/plain": [
       "float"
      ]
     },
     "execution_count": 12,
     "metadata": {},
     "output_type": "execute_result"
    }
   ],
   "source": [
    "B = 3.14\n",
    "type(B)"
   ]
  },
  {
   "cell_type": "code",
   "execution_count": 13,
   "metadata": {
    "ExecuteTime": {
     "end_time": "2022-03-22T17:31:33.810130Z",
     "start_time": "2022-03-22T17:31:33.796132Z"
    }
   },
   "outputs": [
    {
     "data": {
      "text/plain": [
       "(int, float)"
      ]
     },
     "execution_count": 13,
     "metadata": {},
     "output_type": "execute_result"
    }
   ],
   "source": []
  },
  {
   "cell_type": "code",
   "execution_count": 14,
   "metadata": {
    "ExecuteTime": {
     "end_time": "2022-03-22T17:31:33.825160Z",
     "start_time": "2022-03-22T17:31:33.811163Z"
    }
   },
   "outputs": [
    {
     "data": {
      "text/plain": [
       "113.14"
      ]
     },
     "execution_count": 14,
     "metadata": {},
     "output_type": "execute_result"
    }
   ],
   "source": [
    "# 계산기처럼 쉽게 연산도 가능\n"
   ]
  },
  {
   "cell_type": "code",
   "execution_count": 15,
   "metadata": {
    "ExecuteTime": {
     "end_time": "2022-03-22T17:31:33.840154Z",
     "start_time": "2022-03-22T17:31:33.827131Z"
    }
   },
   "outputs": [
    {
     "data": {
      "text/plain": [
       "float"
      ]
     },
     "execution_count": 15,
     "metadata": {},
     "output_type": "execute_result"
    }
   ],
   "source": [
    "# int와 float가 더해지면 가장 영역이 넓은 float 형태로 저장\n"
   ]
  },
  {
   "cell_type": "markdown",
   "metadata": {},
   "source": [
    "## 불리언(Boolean): 참과 거짓으로 표현하는 것"
   ]
  },
  {
   "cell_type": "code",
   "execution_count": 16,
   "metadata": {
    "ExecuteTime": {
     "end_time": "2022-03-22T17:31:33.855130Z",
     "start_time": "2022-03-22T17:31:33.841132Z"
    }
   },
   "outputs": [
    {
     "data": {
      "text/plain": [
       "True"
      ]
     },
     "execution_count": 16,
     "metadata": {},
     "output_type": "execute_result"
    }
   ],
   "source": [
    "# 0이 아닌 숫자는 True\n"
   ]
  },
  {
   "cell_type": "code",
   "execution_count": 17,
   "metadata": {
    "ExecuteTime": {
     "end_time": "2022-03-22T17:31:33.870131Z",
     "start_time": "2022-03-22T17:31:33.856163Z"
    }
   },
   "outputs": [
    {
     "data": {
      "text/plain": [
       "False"
      ]
     },
     "execution_count": 17,
     "metadata": {},
     "output_type": "execute_result"
    }
   ],
   "source": [
    "# 비어있는 문자는 False\n"
   ]
  },
  {
   "cell_type": "code",
   "execution_count": 18,
   "metadata": {
    "ExecuteTime": {
     "end_time": "2022-03-22T17:31:33.885130Z",
     "start_time": "2022-03-22T17:31:33.871130Z"
    }
   },
   "outputs": [
    {
     "data": {
      "text/plain": [
       "True"
      ]
     },
     "execution_count": 18,
     "metadata": {},
     "output_type": "execute_result"
    }
   ],
   "source": []
  },
  {
   "cell_type": "code",
   "execution_count": 19,
   "metadata": {
    "ExecuteTime": {
     "end_time": "2022-03-22T17:31:33.900162Z",
     "start_time": "2022-03-22T17:31:33.887132Z"
    }
   },
   "outputs": [
    {
     "data": {
      "text/plain": [
       "True"
      ]
     },
     "execution_count": 19,
     "metadata": {},
     "output_type": "execute_result"
    }
   ],
   "source": []
  },
  {
   "cell_type": "code",
   "execution_count": 20,
   "metadata": {
    "ExecuteTime": {
     "end_time": "2022-03-22T17:31:33.915130Z",
     "start_time": "2022-03-22T17:31:33.901134Z"
    }
   },
   "outputs": [
    {
     "data": {
      "text/plain": [
       "False"
      ]
     },
     "execution_count": 20,
     "metadata": {},
     "output_type": "execute_result"
    }
   ],
   "source": [
    "bool(0)"
   ]
  },
  {
   "cell_type": "code",
   "execution_count": 21,
   "metadata": {
    "ExecuteTime": {
     "end_time": "2022-03-22T17:31:33.945129Z",
     "start_time": "2022-03-22T17:31:33.929133Z"
    }
   },
   "outputs": [
    {
     "data": {
      "text/plain": [
       "True"
      ]
     },
     "execution_count": 21,
     "metadata": {},
     "output_type": "execute_result"
    }
   ],
   "source": [
    "bool(1)"
   ]
  },
  {
   "cell_type": "code",
   "execution_count": 22,
   "metadata": {
    "ExecuteTime": {
     "end_time": "2022-03-22T17:31:33.960132Z",
     "start_time": "2022-03-22T17:31:33.946131Z"
    }
   },
   "outputs": [
    {
     "data": {
      "text/plain": [
       "True"
      ]
     },
     "execution_count": 22,
     "metadata": {},
     "output_type": "execute_result"
    }
   ],
   "source": []
  },
  {
   "cell_type": "code",
   "execution_count": 23,
   "metadata": {
    "ExecuteTime": {
     "end_time": "2022-03-22T17:31:33.975131Z",
     "start_time": "2022-03-22T17:31:33.961131Z"
    }
   },
   "outputs": [
    {
     "data": {
      "text/plain": [
       "False"
      ]
     },
     "execution_count": 23,
     "metadata": {},
     "output_type": "execute_result"
    }
   ],
   "source": [
    "bool(False)"
   ]
  },
  {
   "cell_type": "code",
   "execution_count": 24,
   "metadata": {
    "ExecuteTime": {
     "end_time": "2022-03-22T17:31:33.990131Z",
     "start_time": "2022-03-22T17:31:33.976132Z"
    }
   },
   "outputs": [
    {
     "data": {
      "text/plain": [
       "True"
      ]
     },
     "execution_count": 24,
     "metadata": {},
     "output_type": "execute_result"
    }
   ],
   "source": []
  },
  {
   "cell_type": "code",
   "execution_count": 25,
   "metadata": {
    "ExecuteTime": {
     "end_time": "2022-03-22T17:31:34.005131Z",
     "start_time": "2022-03-22T17:31:33.991130Z"
    }
   },
   "outputs": [
    {
     "data": {
      "text/plain": [
       "False"
      ]
     },
     "execution_count": 25,
     "metadata": {},
     "output_type": "execute_result"
    }
   ],
   "source": [
    "# 파이썬은 사람의 언어중 영어의 어순을 그대로 사용하는 특징\n",
    "# I가 You인지 의문문을 쓰면 True/False 반환\n"
   ]
  },
  {
   "cell_type": "code",
   "execution_count": 26,
   "metadata": {
    "ExecuteTime": {
     "end_time": "2022-03-22T17:31:34.020131Z",
     "start_time": "2022-03-22T17:31:34.006131Z"
    }
   },
   "outputs": [
    {
     "data": {
      "text/plain": [
       "True"
      ]
     },
     "execution_count": 26,
     "metadata": {},
     "output_type": "execute_result"
    }
   ],
   "source": [
    "I = You\n",
    "I is You"
   ]
  },
  {
   "cell_type": "markdown",
   "metadata": {},
   "source": [
    "## 문자열(Strings): 따옴표 안에 입력된 것\n",
    "\n",
    "- 큰 따옴표(\" \")나 작은 따옴표 (' ')로 감싸진 부분을 파이썬은 문자열로 인식\n",
    "```python\n",
    "'hello!'\n",
    "'3.14'\n",
    "\"3.14\"\n",
    "```\n",
    "\n",
    "- 따옴표로 감싸진 문자열 내에서 **`따옴표`** 자체를 문자열로 반영할때는 다른 종류의 따옴표 사용\n",
    "```python\n",
    "'오늘 수업은 \"여기까지\" 하겠습니다!'    # 가능\n",
    "\"오늘 수업은 '여기까지' 하겠습니다!\"    # 가능\n",
    "\"오늘 수업은 \"여기까지\" 하겠습니다!\"    # 불가능\n",
    "'오늘 수업은 '여기까지' 하겠습니다!'    # 불가능\n",
    "```\n",
    "\n",
    "- 여러줄의 문자열을 반영할때는 **`따옴표 3개`** 로 감싸서 사용\n",
    "```python\n",
    "'오늘 수업은 \n",
    "\"여기까지\" 하겠습니다!'    # 불가능\n",
    "'''오늘 수업은\n",
    "\"여기까지\" 하겠습니다!'''    # 가능\n",
    "\"\"\"오늘 수업은\n",
    "'여기까지' 하겠습니다!\"\"\"    # 가능\n",
    "```\n"
   ]
  },
  {
   "cell_type": "code",
   "execution_count": 27,
   "metadata": {
    "ExecuteTime": {
     "end_time": "2022-03-22T17:31:34.035130Z",
     "start_time": "2022-03-22T17:31:34.021130Z"
    }
   },
   "outputs": [
    {
     "data": {
      "text/plain": [
       "str"
      ]
     },
     "execution_count": 27,
     "metadata": {},
     "output_type": "execute_result"
    }
   ],
   "source": [
    "I = 'KK'\n",
    "type(I)"
   ]
  },
  {
   "cell_type": "code",
   "execution_count": 28,
   "metadata": {
    "ExecuteTime": {
     "end_time": "2022-03-22T17:31:34.050129Z",
     "start_time": "2022-03-22T17:31:34.039131Z"
    }
   },
   "outputs": [
    {
     "data": {
      "text/plain": [
       "'My name is KK'"
      ]
     },
     "execution_count": 28,
     "metadata": {},
     "output_type": "execute_result"
    }
   ],
   "source": [
    "Intro = 'My name is KK'\n",
    "Intro"
   ]
  },
  {
   "cell_type": "code",
   "execution_count": 29,
   "metadata": {
    "ExecuteTime": {
     "end_time": "2022-03-22T17:31:34.065130Z",
     "start_time": "2022-03-22T17:31:34.051134Z"
    }
   },
   "outputs": [
    {
     "data": {
      "text/plain": [
       "str"
      ]
     },
     "execution_count": 29,
     "metadata": {},
     "output_type": "execute_result"
    }
   ],
   "source": [
    "type(Intro)"
   ]
  },
  {
   "cell_type": "code",
   "execution_count": 30,
   "metadata": {
    "ExecuteTime": {
     "end_time": "2022-03-22T17:31:34.080129Z",
     "start_time": "2022-03-22T17:31:34.066132Z"
    }
   },
   "outputs": [
    {
     "data": {
      "text/plain": [
       "'My name is KKMy name is KK'"
      ]
     },
     "execution_count": 30,
     "metadata": {},
     "output_type": "execute_result"
    }
   ],
   "source": [
    "# 다른 프로그래밍 언어와 달리 숫자가 아닌 문자로 숫자 연산 적용 가능\n"
   ]
  },
  {
   "cell_type": "code",
   "execution_count": 31,
   "metadata": {
    "ExecuteTime": {
     "end_time": "2022-03-22T17:31:34.095131Z",
     "start_time": "2022-03-22T17:31:34.081132Z"
    }
   },
   "outputs": [
    {
     "data": {
      "text/plain": [
       "str"
      ]
     },
     "execution_count": 31,
     "metadata": {},
     "output_type": "execute_result"
    }
   ],
   "source": [
    "Intro = 'My name is KK & 1.0'\n",
    "type(Intro)"
   ]
  },
  {
   "cell_type": "code",
   "execution_count": 32,
   "metadata": {
    "ExecuteTime": {
     "end_time": "2022-03-22T17:31:34.110130Z",
     "start_time": "2022-03-22T17:31:34.096131Z"
    }
   },
   "outputs": [
    {
     "data": {
      "text/plain": [
       "19"
      ]
     },
     "execution_count": 32,
     "metadata": {},
     "output_type": "execute_result"
    }
   ],
   "source": [
    "# 문자열의 길이 또는 갯수\n"
   ]
  },
  {
   "cell_type": "code",
   "execution_count": 33,
   "metadata": {
    "ExecuteTime": {
     "end_time": "2022-03-22T17:31:34.125132Z",
     "start_time": "2022-03-22T17:31:34.111131Z"
    }
   },
   "outputs": [
    {
     "data": {
      "text/plain": [
       "'M'"
      ]
     },
     "execution_count": 33,
     "metadata": {},
     "output_type": "execute_result"
    }
   ],
   "source": [
    "# 문자열의 원소를 선택할 때는 대괄호안에 순서를 나타내는 인덱스를 입력\n",
    "# 파이썬의 순서는 \"0\"부터 시작함\n"
   ]
  },
  {
   "cell_type": "code",
   "execution_count": 34,
   "metadata": {
    "ExecuteTime": {
     "end_time": "2022-03-22T17:31:34.140161Z",
     "start_time": "2022-03-22T17:31:34.126171Z"
    }
   },
   "outputs": [
    {
     "data": {
      "text/plain": [
       "'y'"
      ]
     },
     "execution_count": 34,
     "metadata": {},
     "output_type": "execute_result"
    }
   ],
   "source": [
    "Intro[1]"
   ]
  },
  {
   "cell_type": "code",
   "execution_count": 35,
   "metadata": {
    "ExecuteTime": {
     "end_time": "2022-03-22T17:31:34.155162Z",
     "start_time": "2022-03-22T17:31:34.141162Z"
    },
    "slideshow": {
     "slide_type": "slide"
    }
   },
   "outputs": [
    {
     "data": {
      "text/plain": [
       "'0'"
      ]
     },
     "execution_count": 35,
     "metadata": {},
     "output_type": "execute_result"
    }
   ],
   "source": []
  },
  {
   "cell_type": "code",
   "execution_count": 36,
   "metadata": {
    "ExecuteTime": {
     "end_time": "2022-03-22T17:31:34.170163Z",
     "start_time": "2022-03-22T17:31:34.156163Z"
    },
    "slideshow": {
     "slide_type": "slide"
    }
   },
   "outputs": [],
   "source": [
    "# 길이를 벗어난 인덱스를 입력하면 오류\n"
   ]
  },
  {
   "cell_type": "code",
   "execution_count": 37,
   "metadata": {
    "ExecuteTime": {
     "end_time": "2022-03-22T17:31:34.185130Z",
     "start_time": "2022-03-22T17:31:34.171132Z"
    }
   },
   "outputs": [
    {
     "data": {
      "text/plain": [
       "'0'"
      ]
     },
     "execution_count": 37,
     "metadata": {},
     "output_type": "execute_result"
    }
   ],
   "source": [
    "# 뒤에서부터 값을 추출가능\n",
    "# 뒤에서의 추출순서는 \"-1\"부터 시작함\n"
   ]
  },
  {
   "cell_type": "code",
   "execution_count": 38,
   "metadata": {
    "ExecuteTime": {
     "end_time": "2022-03-22T17:31:34.200160Z",
     "start_time": "2022-03-22T17:31:34.186177Z"
    }
   },
   "outputs": [
    {
     "data": {
      "text/plain": [
       "'.'"
      ]
     },
     "execution_count": 38,
     "metadata": {},
     "output_type": "execute_result"
    }
   ],
   "source": [
    "Intro[-2]"
   ]
  },
  {
   "cell_type": "code",
   "execution_count": 39,
   "metadata": {
    "ExecuteTime": {
     "end_time": "2022-03-22T17:31:34.215160Z",
     "start_time": "2022-03-22T17:31:34.201131Z"
    }
   },
   "outputs": [
    {
     "data": {
      "text/plain": [
       "'My n'"
      ]
     },
     "execution_count": 39,
     "metadata": {},
     "output_type": "execute_result"
    }
   ],
   "source": [
    "# 여러개의 문자열을 선택할 때는 범위로 입력하되 [시작인텍스 이상:끝인덱스 미만] 형식\n",
    "# 끝인덱스는 포함되지 않음\n"
   ]
  },
  {
   "cell_type": "code",
   "execution_count": 40,
   "metadata": {
    "ExecuteTime": {
     "end_time": "2022-03-22T17:31:34.230132Z",
     "start_time": "2022-03-22T17:31:34.217131Z"
    }
   },
   "outputs": [
    {
     "data": {
      "text/plain": [
       "'& 1.'"
      ]
     },
     "execution_count": 40,
     "metadata": {},
     "output_type": "execute_result"
    }
   ],
   "source": [
    "Intro[-5:-1]"
   ]
  },
  {
   "cell_type": "code",
   "execution_count": 41,
   "metadata": {
    "ExecuteTime": {
     "end_time": "2022-03-22T17:31:34.245161Z",
     "start_time": "2022-03-22T17:31:34.231170Z"
    }
   },
   "outputs": [],
   "source": [
    "# 시작인텍스와 끝인텍스를 생략하면 자동으로 시작이나 끝까지 임을 인식함"
   ]
  },
  {
   "cell_type": "code",
   "execution_count": 42,
   "metadata": {
    "ExecuteTime": {
     "end_time": "2022-03-22T17:31:34.260135Z",
     "start_time": "2022-03-22T17:31:34.246161Z"
    }
   },
   "outputs": [
    {
     "data": {
      "text/plain": [
       "'My n'"
      ]
     },
     "execution_count": 42,
     "metadata": {},
     "output_type": "execute_result"
    }
   ],
   "source": []
  },
  {
   "cell_type": "code",
   "execution_count": 43,
   "metadata": {
    "ExecuteTime": {
     "end_time": "2022-03-22T17:31:34.275160Z",
     "start_time": "2022-03-22T17:31:34.261133Z"
    }
   },
   "outputs": [
    {
     "data": {
      "text/plain": [
       "'& 1.0'"
      ]
     },
     "execution_count": 43,
     "metadata": {},
     "output_type": "execute_result"
    }
   ],
   "source": []
  },
  {
   "cell_type": "code",
   "execution_count": 44,
   "metadata": {
    "ExecuteTime": {
     "end_time": "2022-03-22T17:31:34.290162Z",
     "start_time": "2022-03-22T17:31:34.276161Z"
    }
   },
   "outputs": [
    {
     "data": {
      "text/plain": [
       "'My name is KK & 1.0 Haha'"
      ]
     },
     "execution_count": 44,
     "metadata": {},
     "output_type": "execute_result"
    }
   ],
   "source": [
    "# 더하기로 쉽게 문자열을 붙일 수 있음\n",
    "# 다른 프로그래밍 언어에선 숫자가 아닌 문자에 더하기 연산 불가\n"
   ]
  },
  {
   "cell_type": "code",
   "execution_count": 45,
   "metadata": {
    "ExecuteTime": {
     "end_time": "2022-03-22T17:31:34.305166Z",
     "start_time": "2022-03-22T17:31:34.291162Z"
    }
   },
   "outputs": [
    {
     "data": {
      "text/plain": [
       "'110 is your age'"
      ]
     },
     "execution_count": 45,
     "metadata": {},
     "output_type": "execute_result"
    }
   ],
   "source": [
    "# 숫자를 문자로 바꾸기 위해서 str 함수를 사용\n",
    "# %가 위치한 곳에 값을 입력받아 출력\n"
   ]
  },
  {
   "cell_type": "code",
   "execution_count": 46,
   "metadata": {
    "ExecuteTime": {
     "end_time": "2022-03-22T17:31:34.320130Z",
     "start_time": "2022-03-22T17:31:34.306132Z"
    }
   },
   "outputs": [
    {
     "data": {
      "text/plain": [
       "'110 is your age'"
      ]
     },
     "execution_count": 46,
     "metadata": {},
     "output_type": "execute_result"
    }
   ],
   "source": []
  },
  {
   "cell_type": "code",
   "execution_count": 47,
   "metadata": {
    "ExecuteTime": {
     "end_time": "2022-03-22T17:31:34.335163Z",
     "start_time": "2022-03-22T17:31:34.321166Z"
    }
   },
   "outputs": [
    {
     "data": {
      "text/plain": [
       "'I ate 10 apples. So I was sick for three days.'"
      ]
     },
     "execution_count": 47,
     "metadata": {},
     "output_type": "execute_result"
    }
   ],
   "source": [
    "# % 호로 여러개의 문자열 입력받아 출력 가능\n"
   ]
  },
  {
   "cell_type": "code",
   "execution_count": 48,
   "metadata": {
    "ExecuteTime": {
     "end_time": "2022-03-22T17:31:34.350160Z",
     "start_time": "2022-03-22T17:31:34.336129Z"
    }
   },
   "outputs": [
    {
     "data": {
      "text/plain": [
       "'I ate 10 apples. So I was sick for three days.'"
      ]
     },
     "execution_count": 48,
     "metadata": {},
     "output_type": "execute_result"
    }
   ],
   "source": []
  },
  {
   "cell_type": "code",
   "execution_count": 49,
   "metadata": {
    "ExecuteTime": {
     "end_time": "2022-03-22T17:31:34.365130Z",
     "start_time": "2022-03-22T17:31:34.351130Z"
    }
   },
   "outputs": [
    {
     "data": {
      "text/plain": [
       "'I ate {number} apples. So I was sick for {day} days.'"
      ]
     },
     "execution_count": 49,
     "metadata": {},
     "output_type": "execute_result"
    }
   ],
   "source": [
    "number = 10\n",
    "day = 'three'\n",
    "'I ate {number} apples. So I was sick for {day} days.'"
   ]
  },
  {
   "cell_type": "code",
   "execution_count": 50,
   "metadata": {
    "ExecuteTime": {
     "end_time": "2022-03-22T17:31:34.380163Z",
     "start_time": "2022-03-22T17:31:34.366131Z"
    }
   },
   "outputs": [
    {
     "data": {
      "text/plain": [
       "'I ate 10 apples. So I was sick for three days.'"
      ]
     },
     "execution_count": 50,
     "metadata": {},
     "output_type": "execute_result"
    }
   ],
   "source": []
  },
  {
   "cell_type": "code",
   "execution_count": 51,
   "metadata": {
    "ExecuteTime": {
     "end_time": "2022-03-22T17:31:34.395164Z",
     "start_time": "2022-03-22T17:31:34.381131Z"
    }
   },
   "outputs": [
    {
     "data": {
      "text/plain": [
       "'M,y, ,n,a,m,e, ,i,s, ,K,K, ,&, ,1,.,0'"
      ]
     },
     "execution_count": 51,
     "metadata": {},
     "output_type": "execute_result"
    }
   ],
   "source": [
    "# join 함수로 반복적으로 값을 사이에 붙일 수 있음\n",
    "# 접착문자열.join(리스트)\n",
    "# 리스트 값들은 모두 문자열에서만 가능\n"
   ]
  },
  {
   "cell_type": "code",
   "execution_count": 52,
   "metadata": {
    "ExecuteTime": {
     "end_time": "2022-03-22T17:31:34.410161Z",
     "start_time": "2022-03-22T17:31:34.396130Z"
    }
   },
   "outputs": [
    {
     "data": {
      "text/plain": [
       "'M y   n a m e   i s   K K   &   1 . 0'"
      ]
     },
     "execution_count": 52,
     "metadata": {},
     "output_type": "execute_result"
    }
   ],
   "source": []
  },
  {
   "cell_type": "code",
   "execution_count": 53,
   "metadata": {
    "ExecuteTime": {
     "end_time": "2022-03-22T17:31:34.425162Z",
     "start_time": "2022-03-22T17:31:34.411130Z"
    }
   },
   "outputs": [
    {
     "data": {
      "text/plain": [
       "'0.1 & KK si eman yM'"
      ]
     },
     "execution_count": 53,
     "metadata": {},
     "output_type": "execute_result"
    }
   ],
   "source": [
    "# reversed 함수로 쉽게 값을 뒤집을 수 있음\n"
   ]
  },
  {
   "cell_type": "code",
   "execution_count": 54,
   "metadata": {
    "ExecuteTime": {
     "end_time": "2022-03-22T17:31:34.440129Z",
     "start_time": "2022-03-22T17:31:34.427132Z"
    }
   },
   "outputs": [
    {
     "data": {
      "text/plain": [
       "'My name is KK & 1.0'"
      ]
     },
     "execution_count": 54,
     "metadata": {},
     "output_type": "execute_result"
    }
   ],
   "source": [
    "# Intro[시작:끝:간격]\n"
   ]
  },
  {
   "cell_type": "code",
   "execution_count": 55,
   "metadata": {
    "ExecuteTime": {
     "end_time": "2022-03-22T17:31:34.455130Z",
     "start_time": "2022-03-22T17:31:34.441133Z"
    }
   },
   "outputs": [
    {
     "data": {
      "text/plain": [
       "'My name is KK & 1.0'"
      ]
     },
     "execution_count": 55,
     "metadata": {},
     "output_type": "execute_result"
    }
   ],
   "source": [
    "Intro[::1]"
   ]
  },
  {
   "cell_type": "code",
   "execution_count": 56,
   "metadata": {
    "ExecuteTime": {
     "end_time": "2022-03-22T17:31:34.470131Z",
     "start_time": "2022-03-22T17:31:34.456131Z"
    }
   },
   "outputs": [
    {
     "data": {
      "text/plain": [
       "'M aei K&10'"
      ]
     },
     "execution_count": 56,
     "metadata": {},
     "output_type": "execute_result"
    }
   ],
   "source": []
  },
  {
   "cell_type": "code",
   "execution_count": 57,
   "metadata": {
    "ExecuteTime": {
     "end_time": "2022-03-22T17:31:34.485130Z",
     "start_time": "2022-03-22T17:31:34.473134Z"
    }
   },
   "outputs": [
    {
     "data": {
      "text/plain": [
       "'0.1 & KK si eman yM'"
      ]
     },
     "execution_count": 57,
     "metadata": {},
     "output_type": "execute_result"
    }
   ],
   "source": [
    "# 간격도 음수를 사용해 뒤에서 앞으로 추출 가능\n"
   ]
  },
  {
   "cell_type": "code",
   "execution_count": 58,
   "metadata": {
    "ExecuteTime": {
     "end_time": "2022-03-22T17:31:34.501132Z",
     "start_time": "2022-03-22T17:31:34.490132Z"
    }
   },
   "outputs": [
    {
     "data": {
      "text/plain": [
       "['My', 'name', 'is', 'KK', '&', '1.0']"
      ]
     },
     "execution_count": 58,
     "metadata": {},
     "output_type": "execute_result"
    }
   ],
   "source": [
    "# 문자열.split(기준) 함수로 문자열 나누기\n",
    "# '기준'은 쪼개고 나서 사라짐\n",
    "# '기준'이 없으면 자동으로 '공백'을 기준으로 사용\n",
    "# 문자열이 쪼개진 후 결과는 리스트 형태로 반환\n"
   ]
  },
  {
   "cell_type": "code",
   "execution_count": 59,
   "metadata": {
    "ExecuteTime": {
     "end_time": "2022-03-22T17:31:34.516128Z",
     "start_time": "2022-03-22T17:31:34.502133Z"
    }
   },
   "outputs": [
    {
     "data": {
      "text/plain": [
       "'My'"
      ]
     },
     "execution_count": 59,
     "metadata": {},
     "output_type": "execute_result"
    }
   ],
   "source": []
  },
  {
   "cell_type": "code",
   "execution_count": 60,
   "metadata": {
    "ExecuteTime": {
     "end_time": "2022-03-22T17:31:34.531128Z",
     "start_time": "2022-03-22T17:31:34.517130Z"
    }
   },
   "outputs": [
    {
     "data": {
      "text/plain": [
       "2"
      ]
     },
     "execution_count": 60,
     "metadata": {},
     "output_type": "execute_result"
    }
   ],
   "source": [
    "# count 함수로 문자 개수 세기\n"
   ]
  },
  {
   "cell_type": "code",
   "execution_count": 61,
   "metadata": {
    "ExecuteTime": {
     "end_time": "2022-03-22T17:31:34.546131Z",
     "start_time": "2022-03-22T17:31:34.532131Z"
    }
   },
   "outputs": [
    {
     "data": {
      "text/plain": [
       "16"
      ]
     },
     "execution_count": 61,
     "metadata": {},
     "output_type": "execute_result"
    }
   ],
   "source": [
    "# find 함수로 위치 알 수 있음\n",
    "# Intro.find(1)\n"
   ]
  },
  {
   "cell_type": "code",
   "execution_count": 62,
   "metadata": {
    "ExecuteTime": {
     "end_time": "2022-03-22T17:31:34.561133Z",
     "start_time": "2022-03-22T17:31:34.547131Z"
    }
   },
   "outputs": [
    {
     "data": {
      "text/plain": [
       "-1"
      ]
     },
     "execution_count": 62,
     "metadata": {},
     "output_type": "execute_result"
    }
   ],
   "source": []
  },
  {
   "cell_type": "code",
   "execution_count": 63,
   "metadata": {
    "ExecuteTime": {
     "end_time": "2022-03-22T17:31:34.576130Z",
     "start_time": "2022-03-22T17:31:34.562132Z"
    }
   },
   "outputs": [
    {
     "data": {
      "text/plain": [
       "'MY NAME IS KK & 1.0'"
      ]
     },
     "execution_count": 63,
     "metadata": {},
     "output_type": "execute_result"
    }
   ],
   "source": [
    "# Upper / Lower 함수로 대소문자 변경 가능\n"
   ]
  },
  {
   "cell_type": "code",
   "execution_count": 64,
   "metadata": {
    "ExecuteTime": {
     "end_time": "2022-03-22T17:31:34.591131Z",
     "start_time": "2022-03-22T17:31:34.578131Z"
    }
   },
   "outputs": [
    {
     "data": {
      "text/plain": [
       "'my name is kk & 1.0'"
      ]
     },
     "execution_count": 64,
     "metadata": {},
     "output_type": "execute_result"
    }
   ],
   "source": []
  },
  {
   "cell_type": "code",
   "execution_count": 65,
   "metadata": {
    "ExecuteTime": {
     "end_time": "2022-03-22T17:31:34.606131Z",
     "start_time": "2022-03-22T17:31:34.594135Z"
    }
   },
   "outputs": [
    {
     "data": {
      "text/plain": [
       "'Your name is KK & 1.0'"
      ]
     },
     "execution_count": 65,
     "metadata": {},
     "output_type": "execute_result"
    }
   ],
   "source": [
    "# replace 함수로 문자열 바꾸기\n"
   ]
  },
  {
   "cell_type": "markdown",
   "metadata": {},
   "source": [
    "- **Question:** 아래 결과가 출력되도록 코딩하시오('매우'는 13번 등장함)\n",
    "\n",
    "```python\n",
    "파이썬은 매우매우매우매우매우매우매우매우매우매우매우매우매우 쉽다.\n",
    "```"
   ]
  },
  {
   "cell_type": "code",
   "execution_count": 1,
   "metadata": {
    "ExecuteTime": {
     "end_time": "2022-04-07T06:07:51.617429Z",
     "start_time": "2022-04-07T06:07:51.593456Z"
    }
   },
   "outputs": [
    {
     "data": {
      "text/plain": [
       "'파이썬은 매우매우매우매우매우매우매우매우매우매우매우매우매우 쉽다.'"
      ]
     },
     "execution_count": 1,
     "metadata": {},
     "output_type": "execute_result"
    }
   ],
   "source": [
    "\n"
   ]
  },
  {
   "cell_type": "markdown",
   "metadata": {},
   "source": [
    "- **Question:** 아래 문장에서 슬라이싱을 통해 Trial and error와 ladder 단어를 추출하여 출력하시오\n",
    "\n",
    "```markdown\n",
    "'Trial and error' is a ladder that reaching for the truth.\n",
    "```"
   ]
  },
  {
   "cell_type": "code",
   "execution_count": 8,
   "metadata": {
    "ExecuteTime": {
     "end_time": "2022-04-07T06:09:20.580844Z",
     "start_time": "2022-04-07T06:09:20.561339Z"
    }
   },
   "outputs": [
    {
     "data": {
      "text/plain": [
       "'ladder'"
      ]
     },
     "execution_count": 8,
     "metadata": {},
     "output_type": "execute_result"
    }
   ],
   "source": [
    "\n"
   ]
  },
  {
   "cell_type": "markdown",
   "metadata": {},
   "source": [
    "## 리스트(Lists): 여러개의 값을 하나로 모아서 다룰 때 사용"
   ]
  },
  {
   "cell_type": "code",
   "execution_count": 66,
   "metadata": {
    "ExecuteTime": {
     "end_time": "2022-03-22T17:31:34.622131Z",
     "start_time": "2022-03-22T17:31:34.610133Z"
    }
   },
   "outputs": [
    {
     "data": {
      "text/plain": [
       "[1, 2, 3, 4, 5]"
      ]
     },
     "execution_count": 66,
     "metadata": {},
     "output_type": "execute_result"
    }
   ],
   "source": [
    "# 대괄호로 묶인 데이터를 리스트로 인식\n"
   ]
  },
  {
   "cell_type": "code",
   "execution_count": 67,
   "metadata": {
    "ExecuteTime": {
     "end_time": "2022-03-22T17:31:34.638130Z",
     "start_time": "2022-03-22T17:31:34.624131Z"
    }
   },
   "outputs": [
    {
     "data": {
      "text/plain": [
       "list"
      ]
     },
     "execution_count": 67,
     "metadata": {},
     "output_type": "execute_result"
    }
   ],
   "source": [
    "type(Collection)"
   ]
  },
  {
   "cell_type": "code",
   "execution_count": 68,
   "metadata": {
    "ExecuteTime": {
     "end_time": "2022-03-22T17:31:34.653132Z",
     "start_time": "2022-03-22T17:31:34.639133Z"
    }
   },
   "outputs": [
    {
     "name": "stdout",
     "output_type": "stream",
     "text": [
      "[10]\n"
     ]
    },
    {
     "data": {
      "text/plain": [
       "list"
      ]
     },
     "execution_count": 68,
     "metadata": {},
     "output_type": "execute_result"
    }
   ],
   "source": []
  },
  {
   "cell_type": "code",
   "execution_count": 69,
   "metadata": {
    "ExecuteTime": {
     "end_time": "2022-03-22T17:31:34.668130Z",
     "start_time": "2022-03-22T17:31:34.655132Z"
    }
   },
   "outputs": [
    {
     "name": "stdout",
     "output_type": "stream",
     "text": [
      "[]\n"
     ]
    },
    {
     "data": {
      "text/plain": [
       "list"
      ]
     },
     "execution_count": 69,
     "metadata": {},
     "output_type": "execute_result"
    }
   ],
   "source": [
    "# 빈 리스트 생성\n"
   ]
  },
  {
   "cell_type": "code",
   "execution_count": 70,
   "metadata": {
    "ExecuteTime": {
     "end_time": "2022-03-22T17:31:34.683130Z",
     "start_time": "2022-03-22T17:31:34.669131Z"
    }
   },
   "outputs": [
    {
     "data": {
      "text/plain": [
       "[[10], [], [1, 2, 3, 4, 5]]"
      ]
     },
     "execution_count": 70,
     "metadata": {},
     "output_type": "execute_result"
    }
   ],
   "source": [
    "# 리스트끼리 묶어서 차원을 늘릴 수도 있음\n"
   ]
  },
  {
   "cell_type": "code",
   "execution_count": 71,
   "metadata": {
    "ExecuteTime": {
     "end_time": "2022-03-22T17:31:34.698129Z",
     "start_time": "2022-03-22T17:31:34.685132Z"
    }
   },
   "outputs": [
    {
     "data": {
      "text/plain": [
       "list"
      ]
     },
     "execution_count": 71,
     "metadata": {},
     "output_type": "execute_result"
    }
   ],
   "source": []
  },
  {
   "cell_type": "code",
   "execution_count": 72,
   "metadata": {
    "ExecuteTime": {
     "end_time": "2022-03-22T17:31:34.713130Z",
     "start_time": "2022-03-22T17:31:34.700132Z"
    }
   },
   "outputs": [
    {
     "data": {
      "text/plain": [
       "[10]"
      ]
     },
     "execution_count": 72,
     "metadata": {},
     "output_type": "execute_result"
    }
   ],
   "source": [
    "Final[0]    # 0번쨰 row"
   ]
  },
  {
   "cell_type": "code",
   "execution_count": 73,
   "metadata": {
    "ExecuteTime": {
     "end_time": "2022-03-22T17:31:34.728134Z",
     "start_time": "2022-03-22T17:31:34.714131Z"
    }
   },
   "outputs": [
    {
     "data": {
      "text/plain": [
       "[]"
      ]
     },
     "execution_count": 73,
     "metadata": {},
     "output_type": "execute_result"
    }
   ],
   "source": []
  },
  {
   "cell_type": "code",
   "execution_count": 74,
   "metadata": {
    "ExecuteTime": {
     "end_time": "2022-03-22T17:31:34.743130Z",
     "start_time": "2022-03-22T17:31:34.730133Z"
    }
   },
   "outputs": [
    {
     "data": {
      "text/plain": [
       "[1, 2, 3, 4, 5]"
      ]
     },
     "execution_count": 74,
     "metadata": {},
     "output_type": "execute_result"
    }
   ],
   "source": []
  },
  {
   "cell_type": "code",
   "execution_count": 75,
   "metadata": {
    "ExecuteTime": {
     "end_time": "2022-03-22T17:31:34.758131Z",
     "start_time": "2022-03-22T17:31:34.745132Z"
    }
   },
   "outputs": [
    {
     "data": {
      "text/plain": [
       "2"
      ]
     },
     "execution_count": 75,
     "metadata": {},
     "output_type": "execute_result"
    }
   ],
   "source": [
    "Final[2][1]    # 2번째 row에서 1번째 값"
   ]
  },
  {
   "cell_type": "code",
   "execution_count": 76,
   "metadata": {
    "ExecuteTime": {
     "end_time": "2022-03-22T17:31:34.773131Z",
     "start_time": "2022-03-22T17:31:34.761133Z"
    }
   },
   "outputs": [
    {
     "data": {
      "text/plain": [
       "5"
      ]
     },
     "execution_count": 76,
     "metadata": {},
     "output_type": "execute_result"
    }
   ],
   "source": []
  },
  {
   "cell_type": "code",
   "execution_count": 77,
   "metadata": {
    "ExecuteTime": {
     "end_time": "2022-03-22T17:31:34.788131Z",
     "start_time": "2022-03-22T17:31:34.775132Z"
    }
   },
   "outputs": [
    {
     "data": {
      "text/plain": [
       "[[10]]"
      ]
     },
     "execution_count": 77,
     "metadata": {},
     "output_type": "execute_result"
    }
   ],
   "source": []
  },
  {
   "cell_type": "code",
   "execution_count": 78,
   "metadata": {
    "ExecuteTime": {
     "end_time": "2022-03-22T17:31:34.803133Z",
     "start_time": "2022-03-22T17:31:34.790133Z"
    }
   },
   "outputs": [
    {
     "data": {
      "text/plain": [
       "[[10], [], [1, 2, 3, 4, 5]]"
      ]
     },
     "execution_count": 78,
     "metadata": {},
     "output_type": "execute_result"
    }
   ],
   "source": [
    "Final[:3]"
   ]
  },
  {
   "cell_type": "code",
   "execution_count": 79,
   "metadata": {
    "ExecuteTime": {
     "end_time": "2022-03-22T17:31:34.818130Z",
     "start_time": "2022-03-22T17:31:34.805131Z"
    }
   },
   "outputs": [
    {
     "data": {
      "text/plain": [
       "[[10], [], [1, 2, 3, 4, 5]]"
      ]
     },
     "execution_count": 79,
     "metadata": {},
     "output_type": "execute_result"
    }
   ],
   "source": []
  },
  {
   "cell_type": "code",
   "execution_count": 80,
   "metadata": {
    "ExecuteTime": {
     "end_time": "2022-03-22T17:31:34.833130Z",
     "start_time": "2022-03-22T17:31:34.819130Z"
    }
   },
   "outputs": [
    {
     "data": {
      "text/plain": [
       "[1, 2, 3]"
      ]
     },
     "execution_count": 80,
     "metadata": {},
     "output_type": "execute_result"
    }
   ],
   "source": []
  },
  {
   "cell_type": "code",
   "execution_count": 81,
   "metadata": {
    "ExecuteTime": {
     "end_time": "2022-03-22T17:31:34.848130Z",
     "start_time": "2022-03-22T17:31:34.834131Z"
    }
   },
   "outputs": [
    {
     "data": {
      "text/plain": [
       "[1, 2, 3, 4, 5]"
      ]
     },
     "execution_count": 81,
     "metadata": {},
     "output_type": "execute_result"
    }
   ],
   "source": [
    "Final[2]"
   ]
  },
  {
   "cell_type": "code",
   "execution_count": 82,
   "metadata": {
    "ExecuteTime": {
     "end_time": "2022-03-22T17:31:34.878133Z",
     "start_time": "2022-03-22T17:31:34.858131Z"
    }
   },
   "outputs": [
    {
     "data": {
      "text/plain": [
       "[1, 2, 3, 4, 5, 100]"
      ]
     },
     "execution_count": 82,
     "metadata": {},
     "output_type": "execute_result"
    }
   ],
   "source": [
    "# append 함수로 값을 추가 가능\n"
   ]
  },
  {
   "cell_type": "code",
   "execution_count": 83,
   "metadata": {
    "ExecuteTime": {
     "end_time": "2022-03-22T17:31:34.893132Z",
     "start_time": "2022-03-22T17:31:34.881138Z"
    }
   },
   "outputs": [
    {
     "data": {
      "text/plain": [
       "[[10], [], [1, 2, 3, 4, 5, 100]]"
      ]
     },
     "execution_count": 83,
     "metadata": {},
     "output_type": "execute_result"
    }
   ],
   "source": [
    "Final"
   ]
  },
  {
   "cell_type": "code",
   "execution_count": 84,
   "metadata": {
    "ExecuteTime": {
     "end_time": "2022-03-22T17:31:34.908132Z",
     "start_time": "2022-03-22T17:31:34.896134Z"
    }
   },
   "outputs": [
    {
     "data": {
      "text/plain": [
       "[1, 2, 3, 4, 5, 100, 1, 2, 3, 4, 5, 100]"
      ]
     },
     "execution_count": 84,
     "metadata": {},
     "output_type": "execute_result"
    }
   ],
   "source": [
    "# 더하기와 반복으로 쉽게 확장가능\n"
   ]
  },
  {
   "cell_type": "code",
   "execution_count": 85,
   "metadata": {
    "ExecuteTime": {
     "end_time": "2022-03-22T17:31:34.923132Z",
     "start_time": "2022-03-22T17:31:34.910133Z"
    }
   },
   "outputs": [
    {
     "data": {
      "text/plain": [
       "[1, 2, 3, 4, 5, 100, 1, 2, 3, 4, 5, 100, 1, 2, 3, 4, 5, 100]"
      ]
     },
     "execution_count": 85,
     "metadata": {},
     "output_type": "execute_result"
    }
   ],
   "source": [
    "# 곱하기로 쉽게 확장가능\n"
   ]
  },
  {
   "cell_type": "code",
   "execution_count": 86,
   "metadata": {
    "ExecuteTime": {
     "end_time": "2022-03-22T17:31:34.939131Z",
     "start_time": "2022-03-22T17:31:34.924132Z"
    }
   },
   "outputs": [
    {
     "data": {
      "text/plain": [
       "3"
      ]
     },
     "execution_count": 86,
     "metadata": {},
     "output_type": "execute_result"
    }
   ],
   "source": [
    "# 길이를 구할때는 len 함수사용\n"
   ]
  },
  {
   "cell_type": "code",
   "execution_count": 87,
   "metadata": {
    "ExecuteTime": {
     "end_time": "2022-03-22T17:31:34.954130Z",
     "start_time": "2022-03-22T17:31:34.940132Z"
    }
   },
   "outputs": [
    {
     "data": {
      "text/plain": [
       "6"
      ]
     },
     "execution_count": 87,
     "metadata": {},
     "output_type": "execute_result"
    }
   ],
   "source": []
  },
  {
   "cell_type": "code",
   "execution_count": 88,
   "metadata": {
    "ExecuteTime": {
     "end_time": "2022-03-22T17:31:34.969131Z",
     "start_time": "2022-03-22T17:31:34.955131Z"
    }
   },
   "outputs": [
    {
     "data": {
      "text/plain": [
       "'1 First'"
      ]
     },
     "execution_count": 88,
     "metadata": {},
     "output_type": "execute_result"
    }
   ],
   "source": [
    "# 숫자를 문자와 붙이려면 형태를 문자로 맞춰야 함\n",
    "# Final[2][0] + ' First'\n"
   ]
  },
  {
   "cell_type": "code",
   "execution_count": 89,
   "metadata": {
    "ExecuteTime": {
     "end_time": "2022-03-22T17:31:34.984128Z",
     "start_time": "2022-03-22T17:31:34.970132Z"
    }
   },
   "outputs": [
    {
     "data": {
      "text/plain": [
       "[1, 2, 3, 4, 5, 100]"
      ]
     },
     "execution_count": 89,
     "metadata": {},
     "output_type": "execute_result"
    }
   ],
   "source": []
  },
  {
   "cell_type": "code",
   "execution_count": 90,
   "metadata": {
    "ExecuteTime": {
     "end_time": "2022-03-22T17:31:34.999130Z",
     "start_time": "2022-03-22T17:31:34.985130Z"
    }
   },
   "outputs": [
    {
     "data": {
      "text/plain": [
       "[[10], [], [100, 2, 3, 4, 5, 100]]"
      ]
     },
     "execution_count": 90,
     "metadata": {},
     "output_type": "execute_result"
    }
   ],
   "source": [
    "# 값의 수정은 대입으로 가능\n"
   ]
  },
  {
   "cell_type": "code",
   "execution_count": 91,
   "metadata": {
    "ExecuteTime": {
     "end_time": "2022-03-22T17:31:35.014132Z",
     "start_time": "2022-03-22T17:31:35.000130Z"
    }
   },
   "outputs": [
    {
     "data": {
      "text/plain": [
       "[[10], [], [100, 2, 3, 4, 5]]"
      ]
     },
     "execution_count": 91,
     "metadata": {},
     "output_type": "execute_result"
    }
   ],
   "source": [
    "# 값의 삭제는 del 함수 사용\n"
   ]
  },
  {
   "cell_type": "code",
   "execution_count": 92,
   "metadata": {
    "ExecuteTime": {
     "end_time": "2022-03-22T17:31:35.029134Z",
     "start_time": "2022-03-22T17:31:35.016132Z"
    }
   },
   "outputs": [],
   "source": [
    "# 값의 추가\n"
   ]
  },
  {
   "cell_type": "code",
   "execution_count": 93,
   "metadata": {
    "ExecuteTime": {
     "end_time": "2022-03-22T17:31:35.044130Z",
     "start_time": "2022-03-22T17:31:35.031135Z"
    }
   },
   "outputs": [
    {
     "data": {
      "text/plain": [
       "[[10], [], [100, 2, 3, 4, 5], 111]"
      ]
     },
     "execution_count": 93,
     "metadata": {},
     "output_type": "execute_result"
    }
   ],
   "source": [
    "Final"
   ]
  },
  {
   "cell_type": "code",
   "execution_count": 94,
   "metadata": {
    "ExecuteTime": {
     "end_time": "2022-03-22T17:31:35.059130Z",
     "start_time": "2022-03-22T17:31:35.045132Z"
    }
   },
   "outputs": [
    {
     "data": {
      "text/plain": [
       "[[10], [], [2, 3, 4, 5, 100], 111]"
      ]
     },
     "execution_count": 94,
     "metadata": {},
     "output_type": "execute_result"
    }
   ],
   "source": [
    "# 정렬하기\n",
    "# 같은 유형의 값으로만 들어있어야 비교가 가능하고 정렬이 됨\n"
   ]
  },
  {
   "cell_type": "code",
   "execution_count": 95,
   "metadata": {
    "ExecuteTime": {
     "end_time": "2022-03-22T17:31:35.074131Z",
     "start_time": "2022-03-22T17:31:35.060133Z"
    }
   },
   "outputs": [
    {
     "data": {
      "text/plain": [
       "[[10], [], [100, 5, 4, 3, 2], 111]"
      ]
     },
     "execution_count": 95,
     "metadata": {},
     "output_type": "execute_result"
    }
   ],
   "source": [
    "# 역순정렬\n"
   ]
  },
  {
   "cell_type": "code",
   "execution_count": 96,
   "metadata": {
    "ExecuteTime": {
     "end_time": "2022-03-22T17:31:35.089130Z",
     "start_time": "2022-03-22T17:31:35.076131Z"
    }
   },
   "outputs": [
    {
     "data": {
      "text/plain": [
       "3"
      ]
     },
     "execution_count": 96,
     "metadata": {},
     "output_type": "execute_result"
    }
   ],
   "source": [
    "# 위치 반환\n"
   ]
  },
  {
   "cell_type": "code",
   "execution_count": 97,
   "metadata": {
    "ExecuteTime": {
     "end_time": "2022-03-22T17:31:35.104131Z",
     "start_time": "2022-03-22T17:31:35.091131Z"
    }
   },
   "outputs": [
    {
     "data": {
      "text/plain": [
       "0"
      ]
     },
     "execution_count": 97,
     "metadata": {},
     "output_type": "execute_result"
    }
   ],
   "source": []
  },
  {
   "cell_type": "code",
   "execution_count": 98,
   "metadata": {
    "ExecuteTime": {
     "end_time": "2022-03-22T17:31:35.119131Z",
     "start_time": "2022-03-22T17:31:35.105131Z"
    }
   },
   "outputs": [
    {
     "data": {
      "text/plain": [
       "[100, 5, 4, 3, 2]"
      ]
     },
     "execution_count": 98,
     "metadata": {},
     "output_type": "execute_result"
    }
   ],
   "source": []
  },
  {
   "cell_type": "code",
   "execution_count": 99,
   "metadata": {
    "ExecuteTime": {
     "end_time": "2022-03-22T17:31:35.134129Z",
     "start_time": "2022-03-22T17:31:35.120131Z"
    }
   },
   "outputs": [
    {
     "data": {
      "text/plain": [
       "[[10], [], [100, 6, 5, 4, 3, 2], 111]"
      ]
     },
     "execution_count": 99,
     "metadata": {},
     "output_type": "execute_result"
    }
   ],
   "source": [
    "# a번째 위치에 b를 추가하는건 insert(a,b) 사용\n"
   ]
  },
  {
   "cell_type": "code",
   "execution_count": 100,
   "metadata": {
    "ExecuteTime": {
     "end_time": "2022-03-22T17:31:35.149129Z",
     "start_time": "2022-03-22T17:31:35.135131Z"
    }
   },
   "outputs": [
    {
     "data": {
      "text/plain": [
       "[[10], [], [100, 6, 6, 5, 4, 3, 2], 111]"
      ]
     },
     "execution_count": 100,
     "metadata": {},
     "output_type": "execute_result"
    }
   ],
   "source": []
  },
  {
   "cell_type": "code",
   "execution_count": 101,
   "metadata": {
    "ExecuteTime": {
     "end_time": "2022-03-22T17:31:35.164133Z",
     "start_time": "2022-03-22T17:31:35.150131Z"
    }
   },
   "outputs": [
    {
     "data": {
      "text/plain": [
       "[[10], [], [100, 6, 6, 5, 4, 6, 3, 2], 111]"
      ]
     },
     "execution_count": 101,
     "metadata": {},
     "output_type": "execute_result"
    }
   ],
   "source": []
  },
  {
   "cell_type": "code",
   "execution_count": 102,
   "metadata": {
    "ExecuteTime": {
     "end_time": "2022-03-22T17:31:35.179133Z",
     "start_time": "2022-03-22T17:31:35.165131Z"
    }
   },
   "outputs": [
    {
     "data": {
      "text/plain": [
       "[[10], [], [100, 6, 5, 4, 6, 3, 2], 111]"
      ]
     },
     "execution_count": 102,
     "metadata": {},
     "output_type": "execute_result"
    }
   ],
   "source": [
    "# 값의 삭제\n",
    "# 여러개일 경우 맨 처음 나오는 한개만 삭제\n"
   ]
  },
  {
   "cell_type": "code",
   "execution_count": 103,
   "metadata": {
    "ExecuteTime": {
     "end_time": "2022-03-22T17:31:35.194138Z",
     "start_time": "2022-03-22T17:31:35.180131Z"
    }
   },
   "outputs": [
    {
     "data": {
      "text/plain": [
       "2"
      ]
     },
     "execution_count": 103,
     "metadata": {},
     "output_type": "execute_result"
    }
   ],
   "source": [
    "# 특정 값의 개수 세기\n"
   ]
  },
  {
   "cell_type": "code",
   "execution_count": 104,
   "metadata": {
    "ExecuteTime": {
     "end_time": "2022-03-22T17:31:35.209131Z",
     "start_time": "2022-03-22T17:31:35.196133Z"
    }
   },
   "outputs": [
    {
     "data": {
      "text/plain": [
       "[[10], [], [100, 6, 5, 4, 6, 3, 2, 1, 2, 3], 111]"
      ]
     },
     "execution_count": 104,
     "metadata": {},
     "output_type": "execute_result"
    }
   ],
   "source": [
    "# append는 값의 추가이며 extend는 리스트 확장\n"
   ]
  },
  {
   "cell_type": "code",
   "execution_count": 105,
   "metadata": {
    "ExecuteTime": {
     "end_time": "2022-03-22T17:31:35.224131Z",
     "start_time": "2022-03-22T17:31:35.210131Z"
    }
   },
   "outputs": [
    {
     "data": {
      "text/plain": [
       "[[10], [], [100, 6, 5, 4, 6, 3, 2, 1, 2, 3, [1, 2, 3]], 111]"
      ]
     },
     "execution_count": 105,
     "metadata": {},
     "output_type": "execute_result"
    }
   ],
   "source": []
  },
  {
   "cell_type": "code",
   "execution_count": 106,
   "metadata": {
    "ExecuteTime": {
     "end_time": "2022-03-22T17:31:35.239130Z",
     "start_time": "2022-03-22T17:31:35.225130Z"
    }
   },
   "outputs": [
    {
     "data": {
      "text/plain": [
       "[[10], [], [100, 6, 5, 4, 6, 3, 2, 1, 2, 3, [1, 2, 3], 1], 111]"
      ]
     },
     "execution_count": 106,
     "metadata": {},
     "output_type": "execute_result"
    }
   ],
   "source": []
  },
  {
   "cell_type": "code",
   "execution_count": 107,
   "metadata": {
    "ExecuteTime": {
     "end_time": "2022-03-22T17:31:35.254129Z",
     "start_time": "2022-03-22T17:31:35.240132Z"
    }
   },
   "outputs": [],
   "source": [
    "# Final[2].append(1,2)"
   ]
  },
  {
   "cell_type": "markdown",
   "metadata": {},
   "source": [
    "## 튜플(Tuples): 리스트와 유사하나 순서와 값의 변경 불가\n",
    "\n",
    "- 리스트는 값의 생성/삭제/수정이 가능하지만 저장된 값이 쉽게 바뀔수 있는 단점\n",
    "- 리스트는 **`[ ]`**, 튜플은 **`( )`** 기호를 사용하여 형태를 구분\n",
    "- 튜플은 값의 생성/삭제/수정이 불가하지만 그외 기능은 리스트와 동일\n",
    "- 인덱스/인덱싱/슬라이싱/연산 등은 모두 가능\n",
    "\n",
    "```python\n",
    "()    # 빈 튜플\n",
    "('a',)    # 값이 1개인 튜플이며 콤마는 필수!\n",
    "('a', 'b', 'c')    # 값이 3개인 튜플\n",
    "'a', 'b', 'c'    # 위와 동일하게 인식\n",
    "```"
   ]
  },
  {
   "cell_type": "code",
   "execution_count": 108,
   "metadata": {
    "ExecuteTime": {
     "end_time": "2022-03-22T17:31:35.269129Z",
     "start_time": "2022-03-22T17:31:35.255130Z"
    }
   },
   "outputs": [
    {
     "data": {
      "text/plain": [
       "list"
      ]
     },
     "execution_count": 108,
     "metadata": {},
     "output_type": "execute_result"
    }
   ],
   "source": [
    "KK = [1,2]\n",
    "type(KK)"
   ]
  },
  {
   "cell_type": "code",
   "execution_count": 109,
   "metadata": {
    "ExecuteTime": {
     "end_time": "2022-03-22T17:31:35.284130Z",
     "start_time": "2022-03-22T17:31:35.270131Z"
    }
   },
   "outputs": [
    {
     "data": {
      "text/plain": [
       "tuple"
      ]
     },
     "execution_count": 109,
     "metadata": {},
     "output_type": "execute_result"
    }
   ],
   "source": []
  },
  {
   "cell_type": "code",
   "execution_count": 110,
   "metadata": {
    "ExecuteTime": {
     "end_time": "2022-03-22T17:31:35.299129Z",
     "start_time": "2022-03-22T17:31:35.285131Z"
    }
   },
   "outputs": [
    {
     "data": {
      "text/plain": [
       "tuple"
      ]
     },
     "execution_count": 110,
     "metadata": {},
     "output_type": "execute_result"
    }
   ],
   "source": [
    "# 문자 숫자 결합된 튜플 가능\n"
   ]
  },
  {
   "cell_type": "code",
   "execution_count": 111,
   "metadata": {
    "ExecuteTime": {
     "end_time": "2022-03-22T17:31:35.314130Z",
     "start_time": "2022-03-22T17:31:35.300131Z"
    }
   },
   "outputs": [
    {
     "data": {
      "text/plain": [
       "('a', 'b', 100)"
      ]
     },
     "execution_count": 111,
     "metadata": {},
     "output_type": "execute_result"
    }
   ],
   "source": []
  },
  {
   "cell_type": "code",
   "execution_count": 112,
   "metadata": {
    "ExecuteTime": {
     "end_time": "2022-03-22T17:31:35.330135Z",
     "start_time": "2022-03-22T17:31:35.315132Z"
    }
   },
   "outputs": [
    {
     "data": {
      "text/plain": [
       "tuple"
      ]
     },
     "execution_count": 112,
     "metadata": {},
     "output_type": "execute_result"
    }
   ],
   "source": [
    "# 반 튜플 생성\n"
   ]
  },
  {
   "cell_type": "code",
   "execution_count": 113,
   "metadata": {
    "ExecuteTime": {
     "end_time": "2022-03-22T17:31:35.345130Z",
     "start_time": "2022-03-22T17:31:35.332132Z"
    }
   },
   "outputs": [
    {
     "data": {
      "text/plain": [
       "()"
      ]
     },
     "execution_count": 113,
     "metadata": {},
     "output_type": "execute_result"
    }
   ],
   "source": [
    "KK_test"
   ]
  },
  {
   "cell_type": "code",
   "execution_count": 114,
   "metadata": {
    "ExecuteTime": {
     "end_time": "2022-03-22T17:31:35.360131Z",
     "start_time": "2022-03-22T17:31:35.346132Z"
    }
   },
   "outputs": [],
   "source": [
    "# 리스트와 마찬가지로 값의 추출 및 연산으로 확장 가능"
   ]
  },
  {
   "cell_type": "code",
   "execution_count": 115,
   "metadata": {
    "ExecuteTime": {
     "end_time": "2022-03-22T17:31:35.375130Z",
     "start_time": "2022-03-22T17:31:35.361134Z"
    }
   },
   "outputs": [
    {
     "data": {
      "text/plain": [
       "('a', 'b')"
      ]
     },
     "execution_count": 115,
     "metadata": {},
     "output_type": "execute_result"
    }
   ],
   "source": []
  },
  {
   "cell_type": "code",
   "execution_count": 116,
   "metadata": {
    "ExecuteTime": {
     "end_time": "2022-03-22T17:31:35.390131Z",
     "start_time": "2022-03-22T17:31:35.376131Z"
    }
   },
   "outputs": [
    {
     "data": {
      "text/plain": [
       "('b', 100)"
      ]
     },
     "execution_count": 116,
     "metadata": {},
     "output_type": "execute_result"
    }
   ],
   "source": []
  },
  {
   "cell_type": "code",
   "execution_count": 117,
   "metadata": {
    "ExecuteTime": {
     "end_time": "2022-03-22T17:31:35.405129Z",
     "start_time": "2022-03-22T17:31:35.391132Z"
    }
   },
   "outputs": [
    {
     "data": {
      "text/plain": [
       "('b', 100, 'b', 100, 'b', 100)"
      ]
     },
     "execution_count": 117,
     "metadata": {},
     "output_type": "execute_result"
    }
   ],
   "source": []
  },
  {
   "cell_type": "markdown",
   "metadata": {},
   "source": [
    "## 집합(Sets): 중복없는 값을 선택하거나 값을 비교할 때 사용"
   ]
  },
  {
   "cell_type": "code",
   "execution_count": 118,
   "metadata": {
    "ExecuteTime": {
     "end_time": "2022-03-22T17:31:35.420130Z",
     "start_time": "2022-03-22T17:31:35.406131Z"
    }
   },
   "outputs": [
    {
     "data": {
      "text/plain": [
       "{1, 2, 3, 4, 5}"
      ]
     },
     "execution_count": 118,
     "metadata": {},
     "output_type": "execute_result"
    }
   ],
   "source": [
    "# 중복되지 않은 값들을 추출\n"
   ]
  },
  {
   "cell_type": "code",
   "execution_count": 119,
   "metadata": {
    "ExecuteTime": {
     "end_time": "2022-03-22T17:31:35.435161Z",
     "start_time": "2022-03-22T17:31:35.421133Z"
    }
   },
   "outputs": [
    {
     "data": {
      "text/plain": [
       "set"
      ]
     },
     "execution_count": 119,
     "metadata": {},
     "output_type": "execute_result"
    }
   ],
   "source": []
  },
  {
   "cell_type": "code",
   "execution_count": 120,
   "metadata": {
    "ExecuteTime": {
     "end_time": "2022-03-22T17:31:35.450161Z",
     "start_time": "2022-03-22T17:31:35.436180Z"
    }
   },
   "outputs": [
    {
     "data": {
      "text/plain": [
       "{4, 5, 6, 7}"
      ]
     },
     "execution_count": 120,
     "metadata": {},
     "output_type": "execute_result"
    }
   ],
   "source": []
  },
  {
   "cell_type": "code",
   "execution_count": 121,
   "metadata": {
    "ExecuteTime": {
     "end_time": "2022-03-22T17:31:35.465164Z",
     "start_time": "2022-03-22T17:31:35.451161Z"
    }
   },
   "outputs": [
    {
     "name": "stdout",
     "output_type": "stream",
     "text": [
      "{1, 2, 3, 4, 5} {4, 5, 6, 7}\n"
     ]
    }
   ],
   "source": []
  },
  {
   "cell_type": "code",
   "execution_count": 122,
   "metadata": {
    "ExecuteTime": {
     "end_time": "2022-03-22T17:31:35.480131Z",
     "start_time": "2022-03-22T17:31:35.466133Z"
    }
   },
   "outputs": [
    {
     "data": {
      "text/plain": [
       "{4, 5}"
      ]
     },
     "execution_count": 122,
     "metadata": {},
     "output_type": "execute_result"
    }
   ],
   "source": [
    "# 교집합, 합집합, 차집합 계산 가능\n"
   ]
  },
  {
   "cell_type": "code",
   "execution_count": 123,
   "metadata": {
    "ExecuteTime": {
     "end_time": "2022-03-22T17:31:35.495133Z",
     "start_time": "2022-03-22T17:31:35.481131Z"
    }
   },
   "outputs": [
    {
     "data": {
      "text/plain": [
       "{4, 5}"
      ]
     },
     "execution_count": 123,
     "metadata": {},
     "output_type": "execute_result"
    }
   ],
   "source": []
  },
  {
   "cell_type": "code",
   "execution_count": 124,
   "metadata": {
    "ExecuteTime": {
     "end_time": "2022-03-22T17:31:35.510130Z",
     "start_time": "2022-03-22T17:31:35.497131Z"
    }
   },
   "outputs": [
    {
     "data": {
      "text/plain": [
       "{1, 2, 3, 4, 5, 6, 7}"
      ]
     },
     "execution_count": 124,
     "metadata": {},
     "output_type": "execute_result"
    }
   ],
   "source": []
  },
  {
   "cell_type": "code",
   "execution_count": 125,
   "metadata": {
    "ExecuteTime": {
     "end_time": "2022-03-22T17:31:35.525155Z",
     "start_time": "2022-03-22T17:31:35.511131Z"
    }
   },
   "outputs": [
    {
     "data": {
      "text/plain": [
       "{1, 2, 3, 4, 5, 6, 7}"
      ]
     },
     "execution_count": 125,
     "metadata": {},
     "output_type": "execute_result"
    }
   ],
   "source": []
  },
  {
   "cell_type": "code",
   "execution_count": 126,
   "metadata": {
    "ExecuteTime": {
     "end_time": "2022-03-22T17:31:35.540130Z",
     "start_time": "2022-03-22T17:31:35.527131Z"
    }
   },
   "outputs": [
    {
     "data": {
      "text/plain": [
       "{1, 2, 3}"
      ]
     },
     "execution_count": 126,
     "metadata": {},
     "output_type": "execute_result"
    }
   ],
   "source": []
  },
  {
   "cell_type": "code",
   "execution_count": 127,
   "metadata": {
    "ExecuteTime": {
     "end_time": "2022-03-22T17:31:35.555135Z",
     "start_time": "2022-03-22T17:31:35.541132Z"
    }
   },
   "outputs": [
    {
     "data": {
      "text/plain": [
       "{6, 7}"
      ]
     },
     "execution_count": 127,
     "metadata": {},
     "output_type": "execute_result"
    }
   ],
   "source": []
  },
  {
   "cell_type": "code",
   "execution_count": 128,
   "metadata": {
    "ExecuteTime": {
     "end_time": "2022-03-22T17:31:35.570128Z",
     "start_time": "2022-03-22T17:31:35.556130Z"
    }
   },
   "outputs": [
    {
     "data": {
      "text/plain": [
       "{1, 2, 3}"
      ]
     },
     "execution_count": 128,
     "metadata": {},
     "output_type": "execute_result"
    }
   ],
   "source": []
  },
  {
   "cell_type": "code",
   "execution_count": 129,
   "metadata": {
    "ExecuteTime": {
     "end_time": "2022-03-22T17:31:35.585129Z",
     "start_time": "2022-03-22T17:31:35.571130Z"
    }
   },
   "outputs": [
    {
     "data": {
      "text/plain": [
       "{6, 7}"
      ]
     },
     "execution_count": 129,
     "metadata": {},
     "output_type": "execute_result"
    }
   ],
   "source": []
  },
  {
   "cell_type": "code",
   "execution_count": 130,
   "metadata": {
    "ExecuteTime": {
     "end_time": "2022-03-22T17:31:35.600136Z",
     "start_time": "2022-03-22T17:31:35.586130Z"
    }
   },
   "outputs": [
    {
     "data": {
      "text/plain": [
       "{1, 2, 3, 4, 5}"
      ]
     },
     "execution_count": 130,
     "metadata": {},
     "output_type": "execute_result"
    }
   ],
   "source": [
    "left"
   ]
  },
  {
   "cell_type": "code",
   "execution_count": 131,
   "metadata": {
    "ExecuteTime": {
     "end_time": "2022-03-22T17:31:35.615131Z",
     "start_time": "2022-03-22T17:31:35.602133Z"
    }
   },
   "outputs": [
    {
     "data": {
      "text/plain": [
       "{1, 2, 3, 4, 5, 6}"
      ]
     },
     "execution_count": 131,
     "metadata": {},
     "output_type": "execute_result"
    }
   ],
   "source": [
    "# add 함수로 신규 값 추가 가능\n"
   ]
  },
  {
   "cell_type": "code",
   "execution_count": 132,
   "metadata": {
    "ExecuteTime": {
     "end_time": "2022-03-22T17:31:35.630130Z",
     "start_time": "2022-03-22T17:31:35.616131Z"
    }
   },
   "outputs": [
    {
     "data": {
      "text/plain": [
       "{1, 2, 3, 4, 5, 6}"
      ]
     },
     "execution_count": 132,
     "metadata": {},
     "output_type": "execute_result"
    }
   ],
   "source": []
  },
  {
   "cell_type": "code",
   "execution_count": 133,
   "metadata": {
    "ExecuteTime": {
     "end_time": "2022-03-22T17:31:35.645129Z",
     "start_time": "2022-03-22T17:31:35.631130Z"
    }
   },
   "outputs": [
    {
     "data": {
      "text/plain": [
       "{2, 3, 4, 5, 6}"
      ]
     },
     "execution_count": 133,
     "metadata": {},
     "output_type": "execute_result"
    }
   ],
   "source": [
    "# remove 함수로 기존 값 삭제 가능\n"
   ]
  },
  {
   "cell_type": "code",
   "execution_count": 134,
   "metadata": {
    "ExecuteTime": {
     "end_time": "2022-03-22T17:31:35.660129Z",
     "start_time": "2022-03-22T17:31:35.646132Z"
    }
   },
   "outputs": [
    {
     "data": {
      "text/plain": [
       "{1, 2, 3, 4, 5, 6, 7}"
      ]
     },
     "execution_count": 134,
     "metadata": {},
     "output_type": "execute_result"
    }
   ],
   "source": [
    "# update 함수로 신규 값 추가 가능\n"
   ]
  },
  {
   "cell_type": "code",
   "execution_count": 135,
   "metadata": {
    "ExecuteTime": {
     "end_time": "2022-03-22T17:31:35.675130Z",
     "start_time": "2022-03-22T17:31:35.661135Z"
    }
   },
   "outputs": [],
   "source": [
    "# 값의 순서가 없는 자료형태이기 때문에 인덱싱으로 값에 접근하려면 리스트나 튜플로 변환해야 함\n",
    "# left[0]"
   ]
  },
  {
   "cell_type": "code",
   "execution_count": 136,
   "metadata": {
    "ExecuteTime": {
     "end_time": "2022-03-22T17:31:35.690130Z",
     "start_time": "2022-03-22T17:31:35.676132Z"
    }
   },
   "outputs": [
    {
     "data": {
      "text/plain": [
       "[4, 5, 6, 1, 7]"
      ]
     },
     "execution_count": 136,
     "metadata": {},
     "output_type": "execute_result"
    }
   ],
   "source": []
  },
  {
   "cell_type": "code",
   "execution_count": 137,
   "metadata": {
    "ExecuteTime": {
     "end_time": "2022-03-22T17:31:35.705130Z",
     "start_time": "2022-03-22T17:31:35.691130Z"
    }
   },
   "outputs": [
    {
     "data": {
      "text/plain": [
       "(4, 5, 6, 1, 7)"
      ]
     },
     "execution_count": 137,
     "metadata": {},
     "output_type": "execute_result"
    }
   ],
   "source": []
  },
  {
   "cell_type": "markdown",
   "metadata": {},
   "source": [
    "## 딕셔너리(Dictionaries): 짝으로 이루어진 값을 표현할 때 사용\n",
    "\n",
    "- 중괄호기호 **`{ }`** 로 값을 묶어서 형태를 구분\n",
    "- 값은 따옴표 **`Key:Value`** 를 기준으로 키(Key)와 자료(Value)를 묶어서 생성\n",
    "- **Key:** 왼쪽에 있는 키는 데이터의 **`열쇠`** 와 같은 기능\n",
    "> - Key는 변할수 없도록 지정하고 있어서, 변하지 않는 자료형만 사용이 가능\n",
    "> - 리스트는 사용 불가하지만 튜플을 사용 가능\n",
    "- **Value:** 오른쪽에 있는 값은 **`Key`** 로 꺼낼수 있는 지정된 자료\n",
    "> - Key 값이 같은 Value가 2개 이상 있으면 마지막 Value만 Key에 대응되어 저장"
   ]
  },
  {
   "cell_type": "code",
   "execution_count": 138,
   "metadata": {
    "ExecuteTime": {
     "end_time": "2022-03-22T17:31:35.720129Z",
     "start_time": "2022-03-22T17:31:35.707132Z"
    }
   },
   "outputs": [
    {
     "data": {
      "text/plain": [
       "{'Name': 'KK',\n",
       " 'Age': 100,\n",
       " 'Birth': '1104',\n",
       " 'Phone': '010-0000-0000',\n",
       " '1': 'test'}"
      ]
     },
     "execution_count": 138,
     "metadata": {},
     "output_type": "execute_result"
    }
   ],
   "source": [
    "# {키1:값1, 키2:값2, 키3:값3, ...}\n",
    "Teacher = {'Name':'KK', 'Age':100, 'Birth':'1104', 'Phone':'010-0000-0000', '1':'test'}\n",
    "Teacher"
   ]
  },
  {
   "cell_type": "code",
   "execution_count": 139,
   "metadata": {
    "ExecuteTime": {
     "end_time": "2022-03-22T17:31:35.735130Z",
     "start_time": "2022-03-22T17:31:35.721130Z"
    }
   },
   "outputs": [
    {
     "data": {
      "text/plain": [
       "{'Name': ['KK', 'WW'],\n",
       " 'Age': 100,\n",
       " 'Birth': '1104',\n",
       " 'Phone': '010-0000-0000',\n",
       " '1': 'test'}"
      ]
     },
     "execution_count": 139,
     "metadata": {},
     "output_type": "execute_result"
    }
   ],
   "source": [
    "Teacher2 = {'Name':['KK', 'WW'], 'Age':100, 'Birth':'1104', 'Phone':'010-0000-0000', '1':'test'}\n",
    "Teacher2"
   ]
  },
  {
   "cell_type": "markdown",
   "metadata": {},
   "source": [
    "- 함수의 입력값이 많아질때 별도로 처리해서 한꺼번에 입력\n",
    "- 2차원 이상의 데이터를 표현"
   ]
  },
  {
   "cell_type": "code",
   "execution_count": 140,
   "metadata": {
    "ExecuteTime": {
     "end_time": "2022-03-22T17:31:36.440166Z",
     "start_time": "2022-03-22T17:31:35.736132Z"
    }
   },
   "outputs": [
    {
     "data": {
      "text/html": [
       "<div>\n",
       "<style scoped>\n",
       "    .dataframe tbody tr th:only-of-type {\n",
       "        vertical-align: middle;\n",
       "    }\n",
       "\n",
       "    .dataframe tbody tr th {\n",
       "        vertical-align: top;\n",
       "    }\n",
       "\n",
       "    .dataframe thead th {\n",
       "        text-align: right;\n",
       "    }\n",
       "</style>\n",
       "<table border=\"1\" class=\"dataframe\">\n",
       "  <thead>\n",
       "    <tr style=\"text-align: right;\">\n",
       "      <th></th>\n",
       "      <th>Example</th>\n",
       "    </tr>\n",
       "  </thead>\n",
       "  <tbody>\n",
       "    <tr>\n",
       "      <th>Name</th>\n",
       "      <td>KK</td>\n",
       "    </tr>\n",
       "    <tr>\n",
       "      <th>Age</th>\n",
       "      <td>100</td>\n",
       "    </tr>\n",
       "    <tr>\n",
       "      <th>Birth</th>\n",
       "      <td>1104</td>\n",
       "    </tr>\n",
       "    <tr>\n",
       "      <th>Phone</th>\n",
       "      <td>010-0000-0000</td>\n",
       "    </tr>\n",
       "    <tr>\n",
       "      <th>1</th>\n",
       "      <td>test</td>\n",
       "    </tr>\n",
       "  </tbody>\n",
       "</table>\n",
       "</div>"
      ],
      "text/plain": [
       "             Example\n",
       "Name              KK\n",
       "Age              100\n",
       "Birth           1104\n",
       "Phone  010-0000-0000\n",
       "1               test"
      ]
     },
     "execution_count": 140,
     "metadata": {},
     "output_type": "execute_result"
    }
   ],
   "source": [
    "import pandas as pd\n",
    "\n",
    "pd.DataFrame.from_dict(Teacher, orient='index', columns=['Example'])"
   ]
  },
  {
   "cell_type": "code",
   "execution_count": 141,
   "metadata": {
    "ExecuteTime": {
     "end_time": "2022-03-22T17:31:36.455132Z",
     "start_time": "2022-03-22T17:31:36.441134Z"
    }
   },
   "outputs": [
    {
     "data": {
      "text/html": [
       "<div>\n",
       "<style scoped>\n",
       "    .dataframe tbody tr th:only-of-type {\n",
       "        vertical-align: middle;\n",
       "    }\n",
       "\n",
       "    .dataframe tbody tr th {\n",
       "        vertical-align: top;\n",
       "    }\n",
       "\n",
       "    .dataframe thead th {\n",
       "        text-align: right;\n",
       "    }\n",
       "</style>\n",
       "<table border=\"1\" class=\"dataframe\">\n",
       "  <thead>\n",
       "    <tr style=\"text-align: right;\">\n",
       "      <th></th>\n",
       "      <th>Name</th>\n",
       "      <th>Age</th>\n",
       "      <th>Birth</th>\n",
       "      <th>Phone</th>\n",
       "      <th>1</th>\n",
       "    </tr>\n",
       "  </thead>\n",
       "  <tbody>\n",
       "    <tr>\n",
       "      <th>Example</th>\n",
       "      <td>KK</td>\n",
       "      <td>100</td>\n",
       "      <td>1104</td>\n",
       "      <td>010-0000-0000</td>\n",
       "      <td>test</td>\n",
       "    </tr>\n",
       "  </tbody>\n",
       "</table>\n",
       "</div>"
      ],
      "text/plain": [
       "        Name  Age Birth          Phone     1\n",
       "Example   KK  100  1104  010-0000-0000  test"
      ]
     },
     "execution_count": 141,
     "metadata": {},
     "output_type": "execute_result"
    }
   ],
   "source": [
    "pd.DataFrame.from_dict(Teacher, orient='index', columns=['Example']).T"
   ]
  },
  {
   "cell_type": "code",
   "execution_count": 142,
   "metadata": {
    "ExecuteTime": {
     "end_time": "2022-03-22T17:31:36.470161Z",
     "start_time": "2022-03-22T17:31:36.456132Z"
    }
   },
   "outputs": [
    {
     "data": {
      "text/plain": [
       "{'Name': 'KK',\n",
       " 'Age': 100,\n",
       " 'Birth': '1104',\n",
       " 'Phone': '010-0000-0000',\n",
       " 1: 'test2'}"
      ]
     },
     "execution_count": 142,
     "metadata": {},
     "output_type": "execute_result"
    }
   ],
   "source": [
    "# 동일한 key가 2개 존재할 경우 이전 입력값은 무시됨\n"
   ]
  },
  {
   "cell_type": "code",
   "execution_count": 143,
   "metadata": {
    "ExecuteTime": {
     "end_time": "2022-03-22T17:31:36.485161Z",
     "start_time": "2022-03-22T17:31:36.471172Z"
    }
   },
   "outputs": [],
   "source": [
    "# Teacher = {'Name':'KK', 'Age':100, 'Birth':'1104', 'Phone':'010-0000-0000', 1:'test', [1]:'test2'}\n",
    "# Teacher"
   ]
  },
  {
   "cell_type": "code",
   "execution_count": 144,
   "metadata": {
    "ExecuteTime": {
     "end_time": "2022-03-22T17:31:36.500162Z",
     "start_time": "2022-03-22T17:31:36.486132Z"
    }
   },
   "outputs": [
    {
     "data": {
      "text/plain": [
       "{'Name': 'KK',\n",
       " 'Age': 100,\n",
       " 'Birth': '1104',\n",
       " 'Phone': '010-0000-0000',\n",
       " 1: 'test2',\n",
       " 'Hobby': None}"
      ]
     },
     "execution_count": 144,
     "metadata": {},
     "output_type": "execute_result"
    }
   ],
   "source": [
    "# key 값을 추가하면 쉽게 데이터 반영\n",
    "# dict[키] = 값\n"
   ]
  },
  {
   "cell_type": "code",
   "execution_count": 145,
   "metadata": {
    "ExecuteTime": {
     "end_time": "2022-03-22T17:31:36.515161Z",
     "start_time": "2022-03-22T17:31:36.501165Z"
    }
   },
   "outputs": [
    {
     "data": {
      "text/plain": [
       "dict"
      ]
     },
     "execution_count": 145,
     "metadata": {},
     "output_type": "execute_result"
    }
   ],
   "source": []
  },
  {
   "cell_type": "code",
   "execution_count": 146,
   "metadata": {
    "ExecuteTime": {
     "end_time": "2022-03-22T17:31:36.530161Z",
     "start_time": "2022-03-22T17:31:36.516132Z"
    }
   },
   "outputs": [
    {
     "data": {
      "text/plain": [
       "'KK'"
      ]
     },
     "execution_count": 146,
     "metadata": {},
     "output_type": "execute_result"
    }
   ],
   "source": []
  },
  {
   "cell_type": "code",
   "execution_count": 147,
   "metadata": {
    "ExecuteTime": {
     "end_time": "2022-03-22T17:31:36.545132Z",
     "start_time": "2022-03-22T17:31:36.531131Z"
    }
   },
   "outputs": [
    {
     "data": {
      "text/plain": [
       "'test2'"
      ]
     },
     "execution_count": 147,
     "metadata": {},
     "output_type": "execute_result"
    }
   ],
   "source": []
  },
  {
   "cell_type": "code",
   "execution_count": 148,
   "metadata": {
    "ExecuteTime": {
     "end_time": "2022-03-22T17:31:36.560131Z",
     "start_time": "2022-03-22T17:31:36.546132Z"
    }
   },
   "outputs": [
    {
     "data": {
      "text/plain": [
       "dict_keys(['Name', 'Age', 'Birth', 'Phone', 1, 'Hobby'])"
      ]
     },
     "execution_count": 148,
     "metadata": {},
     "output_type": "execute_result"
    }
   ],
   "source": [
    "# key, value 값만 추출하기\n"
   ]
  },
  {
   "cell_type": "code",
   "execution_count": 149,
   "metadata": {
    "ExecuteTime": {
     "end_time": "2022-03-22T17:31:36.575131Z",
     "start_time": "2022-03-22T17:31:36.562135Z"
    }
   },
   "outputs": [
    {
     "data": {
      "text/plain": [
       "dict_values(['KK', 100, '1104', '010-0000-0000', 'test2', None])"
      ]
     },
     "execution_count": 149,
     "metadata": {},
     "output_type": "execute_result"
    }
   ],
   "source": []
  },
  {
   "cell_type": "code",
   "execution_count": 150,
   "metadata": {
    "ExecuteTime": {
     "end_time": "2022-03-22T17:31:36.590162Z",
     "start_time": "2022-03-22T17:31:36.576131Z"
    }
   },
   "outputs": [
    {
     "data": {
      "text/plain": [
       "dict_items([('Name', 'KK'), ('Age', 100), ('Birth', '1104'), ('Phone', '010-0000-0000'), (1, 'test2'), ('Hobby', None)])"
      ]
     },
     "execution_count": 150,
     "metadata": {},
     "output_type": "execute_result"
    }
   ],
   "source": []
  },
  {
   "cell_type": "code",
   "execution_count": 151,
   "metadata": {
    "ExecuteTime": {
     "end_time": "2022-03-22T17:31:36.605161Z",
     "start_time": "2022-03-22T17:31:36.591132Z"
    }
   },
   "outputs": [
    {
     "data": {
      "text/plain": [
       "dict_keys(['Name', 'Age', 'Birth', 'Phone', 1, 'Hobby'])"
      ]
     },
     "execution_count": 151,
     "metadata": {},
     "output_type": "execute_result"
    }
   ],
   "source": []
  },
  {
   "cell_type": "code",
   "execution_count": 152,
   "metadata": {
    "ExecuteTime": {
     "end_time": "2022-03-22T17:31:36.620165Z",
     "start_time": "2022-03-22T17:31:36.606132Z"
    }
   },
   "outputs": [
    {
     "data": {
      "text/plain": [
       "['Name', 'Age', 'Birth', 'Phone', 1, 'Hobby']"
      ]
     },
     "execution_count": 152,
     "metadata": {},
     "output_type": "execute_result"
    }
   ],
   "source": []
  },
  {
   "cell_type": "code",
   "execution_count": 153,
   "metadata": {
    "ExecuteTime": {
     "end_time": "2022-03-22T17:31:36.635156Z",
     "start_time": "2022-03-22T17:31:36.621132Z"
    }
   },
   "outputs": [
    {
     "data": {
      "text/plain": [
       "True"
      ]
     },
     "execution_count": 153,
     "metadata": {},
     "output_type": "execute_result"
    }
   ],
   "source": [
    "# 영어어순의 in 전치사로 key 존재(포함)여부 확인\n"
   ]
  },
  {
   "cell_type": "code",
   "execution_count": 154,
   "metadata": {
    "ExecuteTime": {
     "end_time": "2022-03-22T17:31:36.650131Z",
     "start_time": "2022-03-22T17:31:36.636131Z"
    }
   },
   "outputs": [
    {
     "data": {
      "text/plain": [
       "False"
      ]
     },
     "execution_count": 154,
     "metadata": {},
     "output_type": "execute_result"
    }
   ],
   "source": []
  },
  {
   "cell_type": "code",
   "execution_count": 155,
   "metadata": {
    "ExecuteTime": {
     "end_time": "2022-03-22T17:31:36.665132Z",
     "start_time": "2022-03-22T17:31:36.651133Z"
    }
   },
   "outputs": [
    {
     "data": {
      "text/plain": [
       "{'Age': 100,\n",
       " 'Birth': '1104',\n",
       " 'Phone': '010-0000-0000',\n",
       " 1: 'test2',\n",
       " 'Hobby': None}"
      ]
     },
     "execution_count": 155,
     "metadata": {},
     "output_type": "execute_result"
    }
   ],
   "source": [
    "# 딕셔너리 자료 삭제\n"
   ]
  },
  {
   "cell_type": "code",
   "execution_count": 156,
   "metadata": {
    "ExecuteTime": {
     "end_time": "2022-03-22T17:31:36.680161Z",
     "start_time": "2022-03-22T17:31:36.666164Z"
    }
   },
   "outputs": [
    {
     "data": {
      "text/plain": [
       "{}"
      ]
     },
     "execution_count": 156,
     "metadata": {},
     "output_type": "execute_result"
    }
   ],
   "source": [
    "# 딕셔너리 삭제\n"
   ]
  },
  {
   "cell_type": "markdown",
   "metadata": {},
   "source": [
    "# **파이썬에서 데이터의 형태 변환**\n",
    "\n",
    "**1. 파이썬 정수 변환:** int()     \n",
    "**2. 파이썬 실수 변환:** float()     \n",
    "**3. 파이썬 불리언 변환:** bool()     \n",
    "**4. 파이썬 문자열 변환:** str()     \n",
    "**5. 파이썬 리스트/튜플/집합/딕셔너리 변환:** list()/tuple()/set()/dict()     "
   ]
  },
  {
   "cell_type": "markdown",
   "metadata": {},
   "source": [
    "## 정수로 변환(Int)\n",
    "\n",
    "> 입력값을 정수형으로 변환\n",
    "> - int(숫자)\n",
    "> - int(불리언)\n",
    "> - int(계산식)\n",
    "> - int('문자열')"
   ]
  },
  {
   "cell_type": "code",
   "execution_count": 157,
   "metadata": {
    "ExecuteTime": {
     "end_time": "2022-03-22T17:31:36.695170Z",
     "start_time": "2022-03-22T17:31:36.681131Z"
    }
   },
   "outputs": [
    {
     "data": {
      "text/plain": [
       "10"
      ]
     },
     "execution_count": 157,
     "metadata": {},
     "output_type": "execute_result"
    }
   ],
   "source": [
    "int(10)"
   ]
  },
  {
   "cell_type": "code",
   "execution_count": 158,
   "metadata": {
    "ExecuteTime": {
     "end_time": "2022-03-22T17:31:36.710154Z",
     "start_time": "2022-03-22T17:31:36.697133Z"
    }
   },
   "outputs": [
    {
     "data": {
      "text/plain": [
       "3"
      ]
     },
     "execution_count": 158,
     "metadata": {},
     "output_type": "execute_result"
    }
   ],
   "source": [
    "# 3.141592 정수로 변환\n"
   ]
  },
  {
   "cell_type": "code",
   "execution_count": 159,
   "metadata": {
    "ExecuteTime": {
     "end_time": "2022-03-22T17:31:36.725166Z",
     "start_time": "2022-03-22T17:31:36.711134Z"
    }
   },
   "outputs": [
    {
     "data": {
      "text/plain": [
       "1"
      ]
     },
     "execution_count": 159,
     "metadata": {},
     "output_type": "execute_result"
    }
   ],
   "source": [
    "# True 정수로 변환\n"
   ]
  },
  {
   "cell_type": "code",
   "execution_count": 160,
   "metadata": {
    "ExecuteTime": {
     "end_time": "2022-03-22T17:31:36.740130Z",
     "start_time": "2022-03-22T17:31:36.726136Z"
    }
   },
   "outputs": [
    {
     "data": {
      "text/plain": [
       "2"
      ]
     },
     "execution_count": 160,
     "metadata": {},
     "output_type": "execute_result"
    }
   ],
   "source": [
    "# 5를 2로 나누고 정수로 변환\n"
   ]
  },
  {
   "cell_type": "code",
   "execution_count": 161,
   "metadata": {
    "ExecuteTime": {
     "end_time": "2022-03-22T17:31:36.755132Z",
     "start_time": "2022-03-22T17:31:36.741131Z"
    }
   },
   "outputs": [
    {
     "data": {
      "text/plain": [
       "10"
      ]
     },
     "execution_count": 161,
     "metadata": {},
     "output_type": "execute_result"
    }
   ],
   "source": [
    "# 숫자형태의 문자 10을 정수로 변환\n"
   ]
  },
  {
   "cell_type": "code",
   "execution_count": 162,
   "metadata": {
    "ExecuteTime": {
     "end_time": "2022-03-22T17:31:36.770161Z",
     "start_time": "2022-03-22T17:31:36.756130Z"
    }
   },
   "outputs": [],
   "source": [
    "# 문자는 기본적으로 정수 변환 불가\n"
   ]
  },
  {
   "cell_type": "markdown",
   "metadata": {},
   "source": [
    "## 실수로 변환(Float)\n",
    "\n",
    "> 입력값을 실수형으로 변환\n",
    "> - float(숫자)\n",
    "> - float(불리언)\n",
    "> - float(계산식)\n",
    "> - float('문자열')"
   ]
  },
  {
   "cell_type": "code",
   "execution_count": 163,
   "metadata": {
    "ExecuteTime": {
     "end_time": "2022-03-22T17:31:36.785161Z",
     "start_time": "2022-03-22T17:31:36.771132Z"
    }
   },
   "outputs": [
    {
     "data": {
      "text/plain": [
       "5.0"
      ]
     },
     "execution_count": 163,
     "metadata": {},
     "output_type": "execute_result"
    }
   ],
   "source": [
    "float(5)"
   ]
  },
  {
   "cell_type": "code",
   "execution_count": 164,
   "metadata": {
    "ExecuteTime": {
     "end_time": "2022-03-22T17:31:36.800154Z",
     "start_time": "2022-03-22T17:31:36.786163Z"
    }
   },
   "outputs": [
    {
     "data": {
      "text/plain": [
       "3.141592"
      ]
     },
     "execution_count": 164,
     "metadata": {},
     "output_type": "execute_result"
    }
   ],
   "source": [
    "# 3.141592 실수로 변환\n"
   ]
  },
  {
   "cell_type": "code",
   "execution_count": 165,
   "metadata": {
    "ExecuteTime": {
     "end_time": "2022-03-22T17:31:36.815163Z",
     "start_time": "2022-03-22T17:31:36.801133Z"
    }
   },
   "outputs": [
    {
     "data": {
      "text/plain": [
       "0.0"
      ]
     },
     "execution_count": 165,
     "metadata": {},
     "output_type": "execute_result"
    }
   ],
   "source": [
    "# False 실수로 변환\n"
   ]
  },
  {
   "cell_type": "code",
   "execution_count": 166,
   "metadata": {
    "ExecuteTime": {
     "end_time": "2022-03-22T17:31:36.830172Z",
     "start_time": "2022-03-22T17:31:36.816163Z"
    }
   },
   "outputs": [
    {
     "data": {
      "text/plain": [
       "1.0"
      ]
     },
     "execution_count": 166,
     "metadata": {},
     "output_type": "execute_result"
    }
   ],
   "source": [
    "# True 실수로 변환\n"
   ]
  },
  {
   "cell_type": "code",
   "execution_count": 167,
   "metadata": {
    "ExecuteTime": {
     "end_time": "2022-03-22T17:31:36.845129Z",
     "start_time": "2022-03-22T17:31:36.831136Z"
    }
   },
   "outputs": [
    {
     "data": {
      "text/plain": [
       "3.0"
      ]
     },
     "execution_count": 167,
     "metadata": {},
     "output_type": "execute_result"
    }
   ],
   "source": [
    "# 1 + 2 연산 후 실수로 변환\n"
   ]
  },
  {
   "cell_type": "code",
   "execution_count": 168,
   "metadata": {
    "ExecuteTime": {
     "end_time": "2022-03-22T17:31:36.860166Z",
     "start_time": "2022-03-22T17:31:36.846165Z"
    }
   },
   "outputs": [
    {
     "data": {
      "text/plain": [
       "5.3"
      ]
     },
     "execution_count": 168,
     "metadata": {},
     "output_type": "execute_result"
    }
   ],
   "source": [
    "# 숫자형태의 문자를 실수로 변환\n"
   ]
  },
  {
   "cell_type": "code",
   "execution_count": 169,
   "metadata": {
    "ExecuteTime": {
     "end_time": "2022-03-22T17:31:36.875132Z",
     "start_time": "2022-03-22T17:31:36.862134Z"
    }
   },
   "outputs": [
    {
     "data": {
      "text/plain": [
       "(1+0j)"
      ]
     },
     "execution_count": 169,
     "metadata": {},
     "output_type": "execute_result"
    }
   ],
   "source": [
    "# True 불리언을 복소수로 변환\n"
   ]
  },
  {
   "cell_type": "markdown",
   "metadata": {},
   "source": [
    "## 불리언으로 변환(Bool)\n",
    "\n",
    "> 입력값을 불리언형으로 변환(숫자의 경우 **`0인지`** 여부, 문자의 경우 **`비어있는지`** 여부)\n",
    "> - bool(숫자)\n",
    "> - bool(불리언)\n",
    "> - bool(계산식)\n",
    "> - bool('문자열')"
   ]
  },
  {
   "cell_type": "code",
   "execution_count": 170,
   "metadata": {
    "ExecuteTime": {
     "end_time": "2022-03-22T17:31:36.890131Z",
     "start_time": "2022-03-22T17:31:36.876131Z"
    }
   },
   "outputs": [
    {
     "data": {
      "text/plain": [
       "True"
      ]
     },
     "execution_count": 170,
     "metadata": {},
     "output_type": "execute_result"
    }
   ],
   "source": [
    "bool(54)"
   ]
  },
  {
   "cell_type": "code",
   "execution_count": 171,
   "metadata": {
    "ExecuteTime": {
     "end_time": "2022-03-22T17:31:36.905130Z",
     "start_time": "2022-03-22T17:31:36.892131Z"
    }
   },
   "outputs": [
    {
     "data": {
      "text/plain": [
       "False"
      ]
     },
     "execution_count": 171,
     "metadata": {},
     "output_type": "execute_result"
    }
   ],
   "source": [
    "# 0을 불리언으로 변환\n"
   ]
  },
  {
   "cell_type": "code",
   "execution_count": 172,
   "metadata": {
    "ExecuteTime": {
     "end_time": "2022-03-22T17:31:36.920130Z",
     "start_time": "2022-03-22T17:31:36.907131Z"
    }
   },
   "outputs": [
    {
     "data": {
      "text/plain": [
       "True"
      ]
     },
     "execution_count": 172,
     "metadata": {},
     "output_type": "execute_result"
    }
   ],
   "source": [
    "# 3.141592 불리언으로 변환\n"
   ]
  },
  {
   "cell_type": "code",
   "execution_count": 173,
   "metadata": {
    "ExecuteTime": {
     "end_time": "2022-03-22T17:31:36.935129Z",
     "start_time": "2022-03-22T17:31:36.921132Z"
    }
   },
   "outputs": [
    {
     "data": {
      "text/plain": [
       "False"
      ]
     },
     "execution_count": 173,
     "metadata": {},
     "output_type": "execute_result"
    }
   ],
   "source": [
    "# 0.00 불리언으로 변환\n"
   ]
  },
  {
   "cell_type": "code",
   "execution_count": 174,
   "metadata": {
    "ExecuteTime": {
     "end_time": "2022-03-22T17:31:36.950131Z",
     "start_time": "2022-03-22T17:31:36.936131Z"
    }
   },
   "outputs": [
    {
     "data": {
      "text/plain": [
       "False"
      ]
     },
     "execution_count": 174,
     "metadata": {},
     "output_type": "execute_result"
    }
   ],
   "source": [
    "# 1-1 연산결과 불리언으로 변환\n"
   ]
  },
  {
   "cell_type": "code",
   "execution_count": 175,
   "metadata": {
    "ExecuteTime": {
     "end_time": "2022-03-22T17:31:36.965132Z",
     "start_time": "2022-03-22T17:31:36.952132Z"
    }
   },
   "outputs": [
    {
     "data": {
      "text/plain": [
       "True"
      ]
     },
     "execution_count": 175,
     "metadata": {},
     "output_type": "execute_result"
    }
   ],
   "source": [
    "# 1-2 연산결과 불리언으로 변환\n"
   ]
  },
  {
   "cell_type": "code",
   "execution_count": 176,
   "metadata": {
    "ExecuteTime": {
     "end_time": "2022-03-22T17:31:36.980130Z",
     "start_time": "2022-03-22T17:31:36.966131Z"
    }
   },
   "outputs": [
    {
     "data": {
      "text/plain": [
       "True"
      ]
     },
     "execution_count": 176,
     "metadata": {},
     "output_type": "execute_result"
    }
   ],
   "source": [
    "# 2-1 연산결과 불리언으로 변환\n"
   ]
  },
  {
   "cell_type": "code",
   "execution_count": 177,
   "metadata": {
    "ExecuteTime": {
     "end_time": "2022-03-22T17:31:36.995131Z",
     "start_time": "2022-03-22T17:31:36.981133Z"
    }
   },
   "outputs": [
    {
     "data": {
      "text/plain": [
       "True"
      ]
     },
     "execution_count": 177,
     "metadata": {},
     "output_type": "execute_result"
    }
   ],
   "source": [
    "# True 불리언으로 변환\n"
   ]
  },
  {
   "cell_type": "code",
   "execution_count": 178,
   "metadata": {
    "ExecuteTime": {
     "end_time": "2022-03-22T17:31:37.010130Z",
     "start_time": "2022-03-22T17:31:36.998133Z"
    }
   },
   "outputs": [
    {
     "data": {
      "text/plain": [
       "True"
      ]
     },
     "execution_count": 178,
     "metadata": {},
     "output_type": "execute_result"
    }
   ],
   "source": [
    "# KK 문자 불리언으로 변환\n"
   ]
  },
  {
   "cell_type": "code",
   "execution_count": 179,
   "metadata": {
    "ExecuteTime": {
     "end_time": "2022-03-22T17:31:37.025131Z",
     "start_time": "2022-03-22T17:31:37.011131Z"
    }
   },
   "outputs": [
    {
     "data": {
      "text/plain": [
       "False"
      ]
     },
     "execution_count": 179,
     "metadata": {},
     "output_type": "execute_result"
    }
   ],
   "source": [
    "# 빈문자 불리언으로 변환\n"
   ]
  },
  {
   "cell_type": "code",
   "execution_count": 180,
   "metadata": {
    "ExecuteTime": {
     "end_time": "2022-03-22T17:31:37.040131Z",
     "start_time": "2022-03-22T17:31:37.026132Z"
    }
   },
   "outputs": [
    {
     "data": {
      "text/plain": [
       "True"
      ]
     },
     "execution_count": 180,
     "metadata": {},
     "output_type": "execute_result"
    }
   ],
   "source": [
    "# 공백문자 불리언으로 변환\n"
   ]
  },
  {
   "cell_type": "markdown",
   "metadata": {},
   "source": [
    "## 문자열로 변환(Str)\n",
    "\n",
    "> 입력값을 문자열형으로 변환    \n",
    ">\n",
    "> 출력값은 문자열형을 의미하는 따옴표가 반드시 동반    \n",
    ">\n",
    "> - str(숫자)\n",
    "> - str(불리언)\n",
    "> - str(계산식)\n",
    "> - str('문자열')"
   ]
  },
  {
   "cell_type": "code",
   "execution_count": 181,
   "metadata": {
    "ExecuteTime": {
     "end_time": "2022-03-22T17:31:37.055132Z",
     "start_time": "2022-03-22T17:31:37.041131Z"
    }
   },
   "outputs": [
    {
     "data": {
      "text/plain": [
       "'10'"
      ]
     },
     "execution_count": 181,
     "metadata": {},
     "output_type": "execute_result"
    }
   ],
   "source": [
    "# 숫자를 문자열로 변환\n"
   ]
  },
  {
   "cell_type": "code",
   "execution_count": 182,
   "metadata": {
    "ExecuteTime": {
     "end_time": "2022-03-22T17:31:37.070132Z",
     "start_time": "2022-03-22T17:31:37.056131Z"
    }
   },
   "outputs": [
    {
     "data": {
      "text/plain": [
       "'3.141592'"
      ]
     },
     "execution_count": 182,
     "metadata": {},
     "output_type": "execute_result"
    }
   ],
   "source": [
    "# 3.141592 문자열로 변환\n"
   ]
  },
  {
   "cell_type": "code",
   "execution_count": 183,
   "metadata": {
    "ExecuteTime": {
     "end_time": "2022-03-22T17:31:37.085131Z",
     "start_time": "2022-03-22T17:31:37.071131Z"
    }
   },
   "outputs": [
    {
     "data": {
      "text/plain": [
       "'True'"
      ]
     },
     "execution_count": 183,
     "metadata": {},
     "output_type": "execute_result"
    }
   ],
   "source": [
    "# True를 문자열로 변환\n"
   ]
  },
  {
   "cell_type": "code",
   "execution_count": 184,
   "metadata": {
    "ExecuteTime": {
     "end_time": "2022-03-22T17:31:37.100130Z",
     "start_time": "2022-03-22T17:31:37.086131Z"
    }
   },
   "outputs": [
    {
     "data": {
      "text/plain": [
       "'False'"
      ]
     },
     "execution_count": 184,
     "metadata": {},
     "output_type": "execute_result"
    }
   ],
   "source": [
    "# False를 문자열로 변환\n"
   ]
  },
  {
   "cell_type": "code",
   "execution_count": 185,
   "metadata": {
    "ExecuteTime": {
     "end_time": "2022-03-22T17:31:37.115130Z",
     "start_time": "2022-03-22T17:31:37.101132Z"
    }
   },
   "outputs": [
    {
     "data": {
      "text/plain": [
       "'2'"
      ]
     },
     "execution_count": 185,
     "metadata": {},
     "output_type": "execute_result"
    }
   ],
   "source": [
    "# 숫자형태 문자 2를 문자열로 변환\n"
   ]
  },
  {
   "cell_type": "code",
   "execution_count": 186,
   "metadata": {
    "ExecuteTime": {
     "end_time": "2022-03-22T17:31:37.130133Z",
     "start_time": "2022-03-22T17:31:37.116130Z"
    }
   },
   "outputs": [
    {
     "data": {
      "text/plain": [
       "'KK'"
      ]
     },
     "execution_count": 186,
     "metadata": {},
     "output_type": "execute_result"
    }
   ],
   "source": [
    "# 문자 KK 문자열로 변환\n"
   ]
  },
  {
   "cell_type": "markdown",
   "metadata": {},
   "source": [
    "## 리스트/튜플/집합/딕셔너리 변환"
   ]
  },
  {
   "cell_type": "code",
   "execution_count": 187,
   "metadata": {
    "ExecuteTime": {
     "end_time": "2022-03-22T17:31:37.146130Z",
     "start_time": "2022-03-22T17:31:37.131135Z"
    }
   },
   "outputs": [
    {
     "data": {
      "text/plain": [
       "[1, 2]"
      ]
     },
     "execution_count": 187,
     "metadata": {},
     "output_type": "execute_result"
    }
   ],
   "source": [
    "# (1,2) 튜플을 리스트로 변환\n"
   ]
  },
  {
   "cell_type": "code",
   "execution_count": 188,
   "metadata": {
    "ExecuteTime": {
     "end_time": "2022-03-22T17:31:37.161130Z",
     "start_time": "2022-03-22T17:31:37.147131Z"
    }
   },
   "outputs": [
    {
     "data": {
      "text/plain": [
       "(1, 2)"
      ]
     },
     "execution_count": 188,
     "metadata": {},
     "output_type": "execute_result"
    }
   ],
   "source": [
    "# [1,2] 리스트를 튜플로 변환\n"
   ]
  },
  {
   "cell_type": "code",
   "execution_count": 189,
   "metadata": {
    "ExecuteTime": {
     "end_time": "2022-03-22T17:31:37.176130Z",
     "start_time": "2022-03-22T17:31:37.162133Z"
    }
   },
   "outputs": [
    {
     "data": {
      "text/plain": [
       "{1, 2}"
      ]
     },
     "execution_count": 189,
     "metadata": {},
     "output_type": "execute_result"
    }
   ],
   "source": [
    "# [1,2,2] 리스트를 집합으로 변환\n"
   ]
  },
  {
   "cell_type": "code",
   "execution_count": 190,
   "metadata": {
    "ExecuteTime": {
     "end_time": "2022-03-22T17:31:37.191135Z",
     "start_time": "2022-03-22T17:31:37.177131Z"
    }
   },
   "outputs": [
    {
     "data": {
      "text/plain": [
       "{1: 2, 3: 4}"
      ]
     },
     "execution_count": 190,
     "metadata": {},
     "output_type": "execute_result"
    }
   ],
   "source": [
    "# [[1,2],[3,4]] 리스트를 딕셔너리로 변환\n"
   ]
  },
  {
   "cell_type": "code",
   "execution_count": 191,
   "metadata": {
    "ExecuteTime": {
     "end_time": "2022-03-22T17:31:37.206130Z",
     "start_time": "2022-03-22T17:31:37.192132Z"
    }
   },
   "outputs": [
    {
     "data": {
      "text/plain": [
       "dict"
      ]
     },
     "execution_count": 191,
     "metadata": {},
     "output_type": "execute_result"
    }
   ],
   "source": []
  },
  {
   "cell_type": "code",
   "execution_count": 192,
   "metadata": {
    "ExecuteTime": {
     "end_time": "2022-03-22T17:31:37.221130Z",
     "start_time": "2022-03-22T17:31:37.208132Z"
    }
   },
   "outputs": [
    {
     "data": {
      "text/plain": [
       "{'a': 1, 'b': 2, 'c': 3}"
      ]
     },
     "execution_count": 192,
     "metadata": {},
     "output_type": "execute_result"
    }
   ],
   "source": [
    "x"
   ]
  },
  {
   "cell_type": "code",
   "execution_count": 193,
   "metadata": {
    "ExecuteTime": {
     "end_time": "2022-03-22T17:31:37.236130Z",
     "start_time": "2022-03-22T17:31:37.222131Z"
    }
   },
   "outputs": [
    {
     "data": {
      "text/plain": [
       "['a', 'b', 'c']"
      ]
     },
     "execution_count": 193,
     "metadata": {},
     "output_type": "execute_result"
    }
   ],
   "source": [
    "# x 딕셔너리를 리스트로 변환\n"
   ]
  },
  {
   "cell_type": "code",
   "execution_count": 194,
   "metadata": {
    "ExecuteTime": {
     "end_time": "2022-03-22T17:31:37.251131Z",
     "start_time": "2022-03-22T17:31:37.237132Z"
    }
   },
   "outputs": [
    {
     "data": {
      "text/plain": [
       "[('a', 1), ('b', 2), ('c', 3)]"
      ]
     },
     "execution_count": 194,
     "metadata": {},
     "output_type": "execute_result"
    }
   ],
   "source": [
    "# x 딕셔너리를 튜플기반 리스트로 변환\n",
    "temp = []\n",
    "for i in x:\n",
    "    temp.append((i, x[i]))\n",
    "    \n",
    "temp"
   ]
  },
  {
   "cell_type": "code",
   "execution_count": 195,
   "metadata": {
    "ExecuteTime": {
     "end_time": "2022-03-22T17:31:37.266129Z",
     "start_time": "2022-03-22T17:31:37.252130Z"
    }
   },
   "outputs": [
    {
     "data": {
      "text/plain": [
       "list"
      ]
     },
     "execution_count": 195,
     "metadata": {},
     "output_type": "execute_result"
    }
   ],
   "source": []
  },
  {
   "cell_type": "code",
   "execution_count": 196,
   "metadata": {
    "ExecuteTime": {
     "end_time": "2022-03-22T17:31:37.281131Z",
     "start_time": "2022-03-22T17:31:37.267131Z"
    }
   },
   "outputs": [
    {
     "data": {
      "text/plain": [
       "[('a', 1), ('b', 2), ('c', 3)]"
      ]
     },
     "execution_count": 196,
     "metadata": {},
     "output_type": "execute_result"
    }
   ],
   "source": []
  },
  {
   "cell_type": "code",
   "execution_count": 197,
   "metadata": {
    "ExecuteTime": {
     "end_time": "2022-03-22T17:31:37.296134Z",
     "start_time": "2022-03-22T17:31:37.282132Z"
    }
   },
   "outputs": [
    {
     "data": {
      "text/plain": [
       "dict"
      ]
     },
     "execution_count": 197,
     "metadata": {},
     "output_type": "execute_result"
    }
   ],
   "source": []
  },
  {
   "cell_type": "code",
   "execution_count": 198,
   "metadata": {
    "ExecuteTime": {
     "end_time": "2022-03-22T17:31:37.311131Z",
     "start_time": "2022-03-22T17:31:37.298131Z"
    }
   },
   "outputs": [
    {
     "data": {
      "text/plain": [
       "{'a': 1, 'b': 2, 'c': 3}"
      ]
     },
     "execution_count": 198,
     "metadata": {},
     "output_type": "execute_result"
    }
   ],
   "source": []
  },
  {
   "cell_type": "markdown",
   "metadata": {},
   "source": [
    "# **파이썬이 사용하는 연산의 형태**\n",
    "\n",
    "- **목적:** 실제 생활에서 사람이 생각(f)하는 사칙연산과 수리적 로직을 파이썬 방식으로 이해\n",
    "> - **산술연산자(Arithmetic Operator)**\n",
    "> - **할당연산자(Assignment Operator)**\n",
    "> - **비교연산자(Comparison Operator)**\n",
    "> - **논리연산자(Logical Operator)**\n",
    "> - **식별연산자(Identity Operator)**\n",
    "> - **멤버연산자(Menbership Operator)**"
   ]
  },
  {
   "cell_type": "markdown",
   "metadata": {},
   "source": [
    "## 산술연산자(Arithmetic Operator): 수학 연산을 위해 사용\n",
    "\n",
    "| 산술연산자 |  기능  |\n",
    "|:----------:|:------:|\n",
    "|     A + B    | 더하기 |\n",
    "|     A - B    |  빼기  |\n",
    "|     A * B    | 곱하기 |\n",
    "|     A / B    | 나누기 |\n",
    "|     A % B    | 나머지 |\n",
    "|    A ** B    |  제곱  |\n",
    "|    A // B    |   몫   |\n",
    "|   divmod(A,B)   | (몫, 나머지) |"
   ]
  },
  {
   "cell_type": "code",
   "execution_count": 199,
   "metadata": {
    "ExecuteTime": {
     "end_time": "2022-03-22T17:31:37.326132Z",
     "start_time": "2022-03-22T17:31:37.312131Z"
    }
   },
   "outputs": [
    {
     "data": {
      "text/plain": [
       "2"
      ]
     },
     "execution_count": 199,
     "metadata": {},
     "output_type": "execute_result"
    }
   ],
   "source": [
    "1 + 1"
   ]
  },
  {
   "cell_type": "code",
   "execution_count": 200,
   "metadata": {
    "ExecuteTime": {
     "end_time": "2022-03-22T17:31:37.341129Z",
     "start_time": "2022-03-22T17:31:37.327131Z"
    }
   },
   "outputs": [
    {
     "data": {
      "text/plain": [
       "1"
      ]
     },
     "execution_count": 200,
     "metadata": {},
     "output_type": "execute_result"
    }
   ],
   "source": [
    "3 - 2"
   ]
  },
  {
   "cell_type": "code",
   "execution_count": 201,
   "metadata": {
    "ExecuteTime": {
     "end_time": "2022-03-22T17:31:37.356131Z",
     "start_time": "2022-03-22T17:31:37.343131Z"
    }
   },
   "outputs": [
    {
     "data": {
      "text/plain": [
       "4"
      ]
     },
     "execution_count": 201,
     "metadata": {},
     "output_type": "execute_result"
    }
   ],
   "source": [
    "2 * 2"
   ]
  },
  {
   "cell_type": "code",
   "execution_count": 202,
   "metadata": {
    "ExecuteTime": {
     "end_time": "2022-03-22T17:31:37.371130Z",
     "start_time": "2022-03-22T17:31:37.357131Z"
    }
   },
   "outputs": [
    {
     "data": {
      "text/plain": [
       "2.0"
      ]
     },
     "execution_count": 202,
     "metadata": {},
     "output_type": "execute_result"
    }
   ],
   "source": [
    "4 / 2"
   ]
  },
  {
   "cell_type": "code",
   "execution_count": 203,
   "metadata": {
    "ExecuteTime": {
     "end_time": "2022-03-22T17:31:37.386131Z",
     "start_time": "2022-03-22T17:31:37.372132Z"
    }
   },
   "outputs": [
    {
     "data": {
      "text/plain": [
       "1"
      ]
     },
     "execution_count": 203,
     "metadata": {},
     "output_type": "execute_result"
    }
   ],
   "source": [
    "5 % 2"
   ]
  },
  {
   "cell_type": "code",
   "execution_count": 204,
   "metadata": {
    "ExecuteTime": {
     "end_time": "2022-03-22T17:31:37.401129Z",
     "start_time": "2022-03-22T17:31:37.387131Z"
    }
   },
   "outputs": [
    {
     "data": {
      "text/plain": [
       "27"
      ]
     },
     "execution_count": 204,
     "metadata": {},
     "output_type": "execute_result"
    }
   ],
   "source": [
    "3 ** 3    # 3 * 3 * 3"
   ]
  },
  {
   "cell_type": "code",
   "execution_count": 205,
   "metadata": {
    "ExecuteTime": {
     "end_time": "2022-03-22T17:31:37.416130Z",
     "start_time": "2022-03-22T17:31:37.402132Z"
    }
   },
   "outputs": [
    {
     "data": {
      "text/plain": [
       "3.5"
      ]
     },
     "execution_count": 205,
     "metadata": {},
     "output_type": "execute_result"
    }
   ],
   "source": [
    "7 / 2"
   ]
  },
  {
   "cell_type": "code",
   "execution_count": 206,
   "metadata": {
    "ExecuteTime": {
     "end_time": "2022-03-22T17:31:37.431131Z",
     "start_time": "2022-03-22T17:31:37.417131Z"
    }
   },
   "outputs": [
    {
     "data": {
      "text/plain": [
       "3"
      ]
     },
     "execution_count": 206,
     "metadata": {},
     "output_type": "execute_result"
    }
   ],
   "source": [
    "7 // 2"
   ]
  },
  {
   "cell_type": "code",
   "execution_count": 207,
   "metadata": {
    "ExecuteTime": {
     "end_time": "2022-03-22T17:31:37.446130Z",
     "start_time": "2022-03-22T17:31:37.433131Z"
    }
   },
   "outputs": [
    {
     "data": {
      "text/plain": [
       "(2, 1)"
      ]
     },
     "execution_count": 207,
     "metadata": {},
     "output_type": "execute_result"
    }
   ],
   "source": [
    "# 몫과 나머지 함께 구하기\n"
   ]
  },
  {
   "cell_type": "code",
   "execution_count": 208,
   "metadata": {
    "ExecuteTime": {
     "end_time": "2022-03-22T17:31:37.461130Z",
     "start_time": "2022-03-22T17:31:37.447131Z"
    }
   },
   "outputs": [],
   "source": [
    "# quotient = divmod(5,2)[0]\n",
    "# remainder = divmod(5,2)[1]"
   ]
  },
  {
   "cell_type": "code",
   "execution_count": 209,
   "metadata": {
    "ExecuteTime": {
     "end_time": "2022-03-22T17:31:37.476131Z",
     "start_time": "2022-03-22T17:31:37.463134Z"
    }
   },
   "outputs": [
    {
     "name": "stdout",
     "output_type": "stream",
     "text": [
      "2 1\n"
     ]
    }
   ],
   "source": []
  },
  {
   "cell_type": "code",
   "execution_count": 210,
   "metadata": {
    "ExecuteTime": {
     "end_time": "2022-03-22T17:31:37.491131Z",
     "start_time": "2022-03-22T17:31:37.477130Z"
    }
   },
   "outputs": [
    {
     "data": {
      "text/plain": [
       "1.5999999999999996"
      ]
     },
     "execution_count": 210,
     "metadata": {},
     "output_type": "execute_result"
    }
   ],
   "source": [
    "# 실수 계산부터는 오차가 발생\n"
   ]
  },
  {
   "cell_type": "code",
   "execution_count": 211,
   "metadata": {
    "ExecuteTime": {
     "end_time": "2022-03-22T17:31:37.506130Z",
     "start_time": "2022-03-22T17:31:37.492131Z"
    }
   },
   "outputs": [
    {
     "data": {
      "text/plain": [
       "9.2"
      ]
     },
     "execution_count": 211,
     "metadata": {},
     "output_type": "execute_result"
    }
   ],
   "source": [
    "# 실수와 정수의 계산은 표현 범위가 넓은 실수로 계산\n"
   ]
  },
  {
   "cell_type": "markdown",
   "metadata": {},
   "source": [
    "## 할당연산자(Assignment Operator): 값을 반영하기 위해 사용\n",
    "\n",
    "| 할당연산자 |                        기능                        |\n",
    "|:----------:|:--------------------------------------------------:|\n",
    "|     A = B    |             왼쪽 값에 오른쪽 값을 할당             |\n",
    "|    A += B    |       왼쪽 값을 오른쪽에 더한 후, 왼쪽에 할당      |\n",
    "|    A -= B    |        왼쪽 값을 오른쪽에 뺀 후, 왼쪽에 할당       |\n",
    "|    A *= B    |       왼쪽 값을 오른쪽에 곱한 후, 왼쪽에 할당      |\n",
    "|    A /= B    |       왼쪽 값을 오른쪽에 나눈 후, 왼쪽에 할당      |\n",
    "|    A %= B    | 왼쪽 값을 오른쪽에 나눈 후, 나머지값을 왼쪽에 할당 |"
   ]
  },
  {
   "cell_type": "code",
   "execution_count": 212,
   "metadata": {
    "ExecuteTime": {
     "end_time": "2022-03-22T17:31:37.521129Z",
     "start_time": "2022-03-22T17:31:37.509132Z"
    }
   },
   "outputs": [
    {
     "data": {
      "text/plain": [
       "5"
      ]
     },
     "execution_count": 212,
     "metadata": {},
     "output_type": "execute_result"
    }
   ],
   "source": [
    "x = 5\n",
    "x"
   ]
  },
  {
   "cell_type": "code",
   "execution_count": 213,
   "metadata": {
    "ExecuteTime": {
     "end_time": "2022-03-22T17:31:37.536129Z",
     "start_time": "2022-03-22T17:31:37.522131Z"
    }
   },
   "outputs": [
    {
     "data": {
      "text/plain": [
       "8"
      ]
     },
     "execution_count": 213,
     "metadata": {},
     "output_type": "execute_result"
    }
   ],
   "source": [
    "x = 5\n",
    "# x = x + 3\n",
    "x += 3\n",
    "x"
   ]
  },
  {
   "cell_type": "code",
   "execution_count": 214,
   "metadata": {
    "ExecuteTime": {
     "end_time": "2022-03-22T17:31:37.551130Z",
     "start_time": "2022-03-22T17:31:37.537131Z"
    }
   },
   "outputs": [
    {
     "data": {
      "text/plain": [
       "2"
      ]
     },
     "execution_count": 214,
     "metadata": {},
     "output_type": "execute_result"
    }
   ],
   "source": [
    "x = 5\n",
    "# x = x - 3\n",
    "x -= 3\n",
    "x"
   ]
  },
  {
   "cell_type": "code",
   "execution_count": 215,
   "metadata": {
    "ExecuteTime": {
     "end_time": "2022-03-22T17:31:37.566130Z",
     "start_time": "2022-03-22T17:31:37.552132Z"
    }
   },
   "outputs": [
    {
     "data": {
      "text/plain": [
       "15"
      ]
     },
     "execution_count": 215,
     "metadata": {},
     "output_type": "execute_result"
    }
   ],
   "source": [
    "x = 5\n",
    "# x = x * 3\n",
    "x *= 3\n",
    "x"
   ]
  },
  {
   "cell_type": "code",
   "execution_count": 216,
   "metadata": {
    "ExecuteTime": {
     "end_time": "2022-03-22T17:31:37.581130Z",
     "start_time": "2022-03-22T17:31:37.567131Z"
    }
   },
   "outputs": [
    {
     "data": {
      "text/plain": [
       "1.6666666666666667"
      ]
     },
     "execution_count": 216,
     "metadata": {},
     "output_type": "execute_result"
    }
   ],
   "source": [
    "x = 5\n",
    "# x = x / 3\n",
    "x /= 3\n",
    "x"
   ]
  },
  {
   "cell_type": "code",
   "execution_count": 217,
   "metadata": {
    "ExecuteTime": {
     "end_time": "2022-03-22T17:31:37.596133Z",
     "start_time": "2022-03-22T17:31:37.582132Z"
    }
   },
   "outputs": [
    {
     "data": {
      "text/plain": [
       "2"
      ]
     },
     "execution_count": 217,
     "metadata": {},
     "output_type": "execute_result"
    }
   ],
   "source": [
    "x = 5\n",
    "# x = x % 3\n",
    "x %= 3\n",
    "x"
   ]
  },
  {
   "cell_type": "markdown",
   "metadata": {},
   "source": [
    "## 비교연산자(Comparison Operator): 두 값을 비교하기 위해 사용\n",
    "\n",
    "| 비교연산자 |              기능             |\n",
    "|:----------:|:-----------------------------:|\n",
    "|    A == B    |              같음             |\n",
    "|    A != B    |           같지 않음           |\n",
    "|     A > B    |      왼쪽이 오른쪽보다 큼     |\n",
    "|     A < B    |      오른쪽이 왼쪽보다 큼     |\n",
    "|    A >= B    | 왼쪽이 오른쪽보다 크거나 같음 |\n",
    "|    A <= B    | 오른쪽이 왼쪽보다 크거나 같음 |"
   ]
  },
  {
   "cell_type": "code",
   "execution_count": 218,
   "metadata": {
    "ExecuteTime": {
     "end_time": "2022-03-22T17:31:37.611129Z",
     "start_time": "2022-03-22T17:31:37.599132Z"
    }
   },
   "outputs": [
    {
     "data": {
      "text/plain": [
       "False"
      ]
     },
     "execution_count": 218,
     "metadata": {},
     "output_type": "execute_result"
    }
   ],
   "source": [
    "5 == 3"
   ]
  },
  {
   "cell_type": "code",
   "execution_count": 219,
   "metadata": {
    "ExecuteTime": {
     "end_time": "2022-03-22T17:31:37.626130Z",
     "start_time": "2022-03-22T17:31:37.612132Z"
    }
   },
   "outputs": [
    {
     "data": {
      "text/plain": [
       "True"
      ]
     },
     "execution_count": 219,
     "metadata": {},
     "output_type": "execute_result"
    }
   ],
   "source": []
  },
  {
   "cell_type": "code",
   "execution_count": 220,
   "metadata": {
    "ExecuteTime": {
     "end_time": "2022-03-22T17:31:37.641129Z",
     "start_time": "2022-03-22T17:31:37.627130Z"
    }
   },
   "outputs": [
    {
     "data": {
      "text/plain": [
       "True"
      ]
     },
     "execution_count": 220,
     "metadata": {},
     "output_type": "execute_result"
    }
   ],
   "source": [
    "4 > 3"
   ]
  },
  {
   "cell_type": "code",
   "execution_count": 221,
   "metadata": {
    "ExecuteTime": {
     "end_time": "2022-03-22T17:31:37.656131Z",
     "start_time": "2022-03-22T17:31:37.642132Z"
    }
   },
   "outputs": [
    {
     "data": {
      "text/plain": [
       "False"
      ]
     },
     "execution_count": 221,
     "metadata": {},
     "output_type": "execute_result"
    }
   ],
   "source": []
  },
  {
   "cell_type": "code",
   "execution_count": 222,
   "metadata": {
    "ExecuteTime": {
     "end_time": "2022-03-22T17:31:37.671130Z",
     "start_time": "2022-03-22T17:31:37.657131Z"
    }
   },
   "outputs": [
    {
     "data": {
      "text/plain": [
       "True"
      ]
     },
     "execution_count": 222,
     "metadata": {},
     "output_type": "execute_result"
    }
   ],
   "source": [
    "6 >= 6"
   ]
  },
  {
   "cell_type": "code",
   "execution_count": 223,
   "metadata": {
    "ExecuteTime": {
     "end_time": "2022-03-22T17:31:37.686163Z",
     "start_time": "2022-03-22T17:31:37.672130Z"
    }
   },
   "outputs": [
    {
     "data": {
      "text/plain": [
       "True"
      ]
     },
     "execution_count": 223,
     "metadata": {},
     "output_type": "execute_result"
    }
   ],
   "source": []
  },
  {
   "cell_type": "markdown",
   "metadata": {},
   "source": [
    "## 논리연산자(Logical Operator): 여러 조건/상황을 반영하기 위해 사용\n",
    "\n",
    "| 논리연산자 |             기능             |\n",
    "|:----------:|:----------------------------:|\n",
    "|    A and B   |    양쪽이 모두 참이면 True   |\n",
    "|    A or B    | 양쪽 중 하나라도 참이면 True |\n",
    "|     not A   |     오른쪽이 False면 True    |"
   ]
  },
  {
   "cell_type": "code",
   "execution_count": 224,
   "metadata": {
    "ExecuteTime": {
     "end_time": "2022-03-22T17:31:37.701131Z",
     "start_time": "2022-03-22T17:31:37.687131Z"
    }
   },
   "outputs": [
    {
     "data": {
      "text/plain": [
       "True"
      ]
     },
     "execution_count": 224,
     "metadata": {},
     "output_type": "execute_result"
    }
   ],
   "source": [
    "# 2는 5보다 작고 그리고 3은 10보다 작은가?\n"
   ]
  },
  {
   "cell_type": "code",
   "execution_count": 225,
   "metadata": {
    "ExecuteTime": {
     "end_time": "2022-03-22T17:31:37.716162Z",
     "start_time": "2022-03-22T17:31:37.702130Z"
    }
   },
   "outputs": [
    {
     "data": {
      "text/plain": [
       "True"
      ]
     },
     "execution_count": 225,
     "metadata": {},
     "output_type": "execute_result"
    }
   ],
   "source": [
    "# 2는 4보다 작고 또는 7은 5보다 작은가?\n"
   ]
  },
  {
   "cell_type": "code",
   "execution_count": 226,
   "metadata": {
    "ExecuteTime": {
     "end_time": "2022-03-22T17:31:37.731161Z",
     "start_time": "2022-03-22T17:31:37.717163Z"
    }
   },
   "outputs": [
    {
     "data": {
      "text/plain": [
       "True"
      ]
     },
     "execution_count": 226,
     "metadata": {},
     "output_type": "execute_result"
    }
   ],
   "source": [
    "# \"3은 4보다 작고 그리고 5는 2보다 작다\" 가 아닌것은 무엇인가?\n"
   ]
  },
  {
   "cell_type": "markdown",
   "metadata": {},
   "source": [
    "## 식별연산자(Identity Operator): 동일여부 비교하기 위해 사용\n",
    "\n",
    "| 식별연산자 |        기능        |\n",
    "|:----------:|:------------------:|\n",
    "|    A is B    | 양쪽이 같으면 True |\n",
    "|  A is not B  | 양쪽이 다르면 True |"
   ]
  },
  {
   "cell_type": "code",
   "execution_count": 227,
   "metadata": {
    "ExecuteTime": {
     "end_time": "2022-03-22T17:31:37.746162Z",
     "start_time": "2022-03-22T17:31:37.732130Z"
    }
   },
   "outputs": [
    {
     "data": {
      "text/plain": [
       "True"
      ]
     },
     "execution_count": 227,
     "metadata": {},
     "output_type": "execute_result"
    }
   ],
   "source": [
    "x = 'KK'\n",
    "y = 'KK'\n",
    "# x 와 y는 같은가?\n"
   ]
  },
  {
   "cell_type": "code",
   "execution_count": 228,
   "metadata": {
    "ExecuteTime": {
     "end_time": "2022-03-22T17:31:37.761161Z",
     "start_time": "2022-03-22T17:31:37.747131Z"
    }
   },
   "outputs": [
    {
     "data": {
      "text/plain": [
       "True"
      ]
     },
     "execution_count": 228,
     "metadata": {},
     "output_type": "execute_result"
    }
   ],
   "source": [
    "# x 와 y는 같은가?\n"
   ]
  },
  {
   "cell_type": "code",
   "execution_count": 229,
   "metadata": {
    "ExecuteTime": {
     "end_time": "2022-03-22T17:31:37.776132Z",
     "start_time": "2022-03-22T17:31:37.762130Z"
    }
   },
   "outputs": [
    {
     "data": {
      "text/plain": [
       "False"
      ]
     },
     "execution_count": 229,
     "metadata": {},
     "output_type": "execute_result"
    }
   ],
   "source": [
    "x = 'KK'\n",
    "y = 'Korea'\n",
    "# x 와 y는 같은가?\n"
   ]
  },
  {
   "cell_type": "code",
   "execution_count": 230,
   "metadata": {
    "ExecuteTime": {
     "end_time": "2022-03-22T17:31:37.791162Z",
     "start_time": "2022-03-22T17:31:37.777131Z"
    }
   },
   "outputs": [
    {
     "data": {
      "text/plain": [
       "True"
      ]
     },
     "execution_count": 230,
     "metadata": {},
     "output_type": "execute_result"
    }
   ],
   "source": [
    "x = 'KK'\n",
    "y = 'Korea'\n",
    "# x 와 y는 다른가?\n"
   ]
  },
  {
   "cell_type": "markdown",
   "metadata": {},
   "source": [
    "## 멤버연산자(Menbership Operator): 포함여부 확인하기 위해 사용\n",
    "\n",
    "| 멤버연산자 |                기능                |\n",
    "|:----------:|:----------------------------------:|\n",
    "|    A in B    |     값이 오른쪽에 포함되면 True    |\n",
    "|  A not in B  | 값이 오른쪽에 포함되지 않으면 True |"
   ]
  },
  {
   "cell_type": "code",
   "execution_count": 231,
   "metadata": {
    "ExecuteTime": {
     "end_time": "2022-03-22T17:31:37.806165Z",
     "start_time": "2022-03-22T17:31:37.793132Z"
    }
   },
   "outputs": [
    {
     "data": {
      "text/plain": [
       "True"
      ]
     },
     "execution_count": 231,
     "metadata": {},
     "output_type": "execute_result"
    }
   ],
   "source": [
    "list_test = ['KK', 'Korea']\n",
    "# 'KK' 문자열은 list_test에 포함되는가?\n"
   ]
  },
  {
   "cell_type": "code",
   "execution_count": 232,
   "metadata": {
    "ExecuteTime": {
     "end_time": "2022-03-22T17:31:37.821160Z",
     "start_time": "2022-03-22T17:31:37.807131Z"
    }
   },
   "outputs": [
    {
     "data": {
      "text/plain": [
       "False"
      ]
     },
     "execution_count": 232,
     "metadata": {},
     "output_type": "execute_result"
    }
   ],
   "source": [
    "# 'KKK' 문자열은 list_test에 포함되는가?\n"
   ]
  },
  {
   "cell_type": "code",
   "execution_count": 233,
   "metadata": {
    "ExecuteTime": {
     "end_time": "2022-03-22T17:31:37.836166Z",
     "start_time": "2022-03-22T17:31:37.822167Z"
    },
    "scrolled": true
   },
   "outputs": [
    {
     "data": {
      "text/plain": [
       "True"
      ]
     },
     "execution_count": 233,
     "metadata": {},
     "output_type": "execute_result"
    }
   ],
   "source": [
    "# 'KKK' 문자열은 list_test에 포함되지 않는가?\n"
   ]
  },
  {
   "cell_type": "markdown",
   "metadata": {},
   "source": [
    "## 연산의 우선순위(Priority): 여러개 연산시 우선순위부터 계산\n",
    "\n",
    "> - 괄호가 있으면 먼저 계산하고 나머지는 우선순위대로 계산\n",
    "> - 우선순위가 같다면 왼쪽 항부터 계산\n",
    "\n",
    "| 우선순위 | 연산자 | 설명 |\n",
    "|:---:|:---:|:---:|\n",
    "| 1 | (값...), [값...], {키: 값...}, {값...} | 튜플, 리스트, 딕셔너리, 세트 생성 |\n",
    "| 2 | x[인덱스], x[인덱스:인덱스], x(인수...), x.속성 | 리스트(튜플)   첨자, 슬라이싱, 함수 호출, 속성 참조 |\n",
    "| 3 | await   x | await 표현식 |\n",
    "| 4 | ** | 거듭제곱 |\n",
    "| 5 | +x, -x, ~x | 단항 덧셈(양의 부호), 단항 뺄셈(음의 부호), 비트 NOT |\n",
    "| 6 | *, @, /, //, % | 곱셈, 행렬 곱셈, 나눗셈, 버림 나눗셈, 나머지 |\n",
    "| 7 | +, - | 덧셈, 뺄셈 |\n",
    "| 8 | <<, >> | 비트 시프트 |\n",
    "| 9 | & | 비트 AND |\n",
    "| 10 | ^ | 비트 XOR |\n",
    "| 11 | \\| | 비트 OR |\n",
    "| 12 | in, not   in, is, is not,   <, <=, >, >=, !=, == | 포함 연산자, 객체 비교 연산자, 비교 연산자 |\n",
    "| 13 | not   x | 논리   NOT |\n",
    "| 14 | and | 논리 AND |\n",
    "| 15 | or | 논리 OR |\n",
    "| 16 | if else | 조건부 표현식 |\n",
    "| 17 | lambda | 람다 표현식 |\n",
    "\n",
    "- **Question:** 하기 출력을 실행하고 각 계산마다 어떤 순서로 계산하는지 주석(#)으로 서술하시오\n",
    "```python\n",
    "print(2 ** 2 ** 3)\n",
    "print(5 - 2 * 3 ** 4 // (( 5 + 6) % 7 ) / 8 )\n",
    "print(3 + 4 * 4 > 5 * 7 - 1)\n",
    "```"
   ]
  },
  {
   "cell_type": "code",
   "execution_count": 234,
   "metadata": {
    "ExecuteTime": {
     "end_time": "2022-03-22T17:31:37.851161Z",
     "start_time": "2022-03-22T17:31:37.838163Z"
    }
   },
   "outputs": [
    {
     "name": "stdout",
     "output_type": "stream",
     "text": [
      "256\n"
     ]
    }
   ],
   "source": [
    "print(2 ** 2 ** 3)"
   ]
  },
  {
   "cell_type": "code",
   "execution_count": 235,
   "metadata": {
    "ExecuteTime": {
     "end_time": "2022-03-22T17:31:37.866162Z",
     "start_time": "2022-03-22T17:31:37.852167Z"
    }
   },
   "outputs": [],
   "source": [
    "# 위 결과 출력 순서 작성\n",
    "# 1)\n",
    "# 2)\n",
    "# ..."
   ]
  },
  {
   "cell_type": "code",
   "execution_count": 236,
   "metadata": {
    "ExecuteTime": {
     "end_time": "2022-03-22T17:31:37.881129Z",
     "start_time": "2022-03-22T17:31:37.867132Z"
    }
   },
   "outputs": [
    {
     "name": "stdout",
     "output_type": "stream",
     "text": [
      "0.0\n"
     ]
    }
   ],
   "source": [
    "print(5 - 2 * 3 ** 4 // (( 5 + 6) % 7 ) / 8 )"
   ]
  },
  {
   "cell_type": "code",
   "execution_count": 237,
   "metadata": {
    "ExecuteTime": {
     "end_time": "2022-03-22T17:31:37.896132Z",
     "start_time": "2022-03-22T17:31:37.882130Z"
    }
   },
   "outputs": [],
   "source": [
    "# 위 결과 출력 순서 작성\n",
    "# 1)\n",
    "# 2)\n",
    "# ..."
   ]
  },
  {
   "cell_type": "code",
   "execution_count": 238,
   "metadata": {
    "ExecuteTime": {
     "end_time": "2022-03-22T17:31:37.911157Z",
     "start_time": "2022-03-22T17:31:37.898133Z"
    }
   },
   "outputs": [
    {
     "name": "stdout",
     "output_type": "stream",
     "text": [
      "False\n"
     ]
    }
   ],
   "source": [
    "print(3 + 4 * 4 > 5 * 7 - 1)"
   ]
  },
  {
   "cell_type": "code",
   "execution_count": 239,
   "metadata": {
    "ExecuteTime": {
     "end_time": "2022-03-22T17:31:37.926161Z",
     "start_time": "2022-03-22T17:31:37.914139Z"
    }
   },
   "outputs": [],
   "source": [
    "# 위 결과 출력 순서 작성\n",
    "# 1)\n",
    "# 2)\n",
    "# ..."
   ]
  },
  {
   "cell_type": "code",
   "execution_count": 3,
   "metadata": {
    "ExecuteTime": {
     "end_time": "2022-03-24T06:17:12.334419Z",
     "start_time": "2022-03-24T06:17:12.312423Z"
    }
   },
   "outputs": [
    {
     "name": "stdout",
     "output_type": "stream",
     "text": [
      "Intel64 Family 6 Model 158 Stepping 10, GenuineIntel\n",
      "48(GB)\n",
      "Windows\n",
      "10.0.22000\n",
      "C:\\DataScience\\Lecture\\[DataScience]\n",
      "2022-03-21 01:44:14.436007\n",
      "2022-03-24 15:16:47.278880\n",
      "2022-03-24 15:16:47.278880\n",
      "2022-03-24 15:17:12.318420\n",
      "다음 출력을 파일명으로 설정하고 제출하시오: 김경원_20211011_비즈니스혁신을위한데이터사이언스응용_1반_InputOutput\n"
     ]
    }
   ],
   "source": [
    "# 반드시 이 cell을 실행하시오\n",
    "# 실행하지 않을 시 직접 하지 않은 것으로 간주\n",
    "# 마지막 줄 출력으로 파일명을 설정하고 제출 필수\n",
    "import platform, psutil, os, datetime\n",
    "print(platform.processor())\n",
    "print(str(round(psutil.virtual_memory().total / (1024.0 **3)))+\"(GB)\")\n",
    "print(platform.system())\n",
    "print(platform.version())\n",
    "print(os.getcwd())\n",
    "print(datetime.datetime.fromtimestamp(os.path.getctime(os.getcwd())))\n",
    "print(datetime.datetime.fromtimestamp(os.path.getmtime(os.getcwd())))\n",
    "print(datetime.datetime.fromtimestamp(os.path.getatime(os.getcwd())))\n",
    "print(datetime.datetime.now())\n",
    "title = 'InputOutput'    # 고정값\n",
    "name = '김경원'    # 본인 이름을 작성\n",
    "studentid = '20211011'    # 본인 학번을 작성\n",
    "course = '비즈니스혁신을위한데이터사이언스응용'    # 'E정보시스템', 'E데이터베이스', '빅데이터', \n",
    "                          # '비즈니스혁신을위한데이터사이언스응용', '인공지능활용디지털경제플랫폼연구'\n",
    "course_number = '1반'    #  학수번호 끝자리\n",
    "                         # E데이터베이스 (0003854001) => 1반\n",
    "                         # E데이터베이스 (0003854002) => 2반\n",
    "                         # 빅데이터 (0006718001) => 1반\n",
    "                         # 비즈니스혁신을위한데이터사이언스응용 (1002667001) => 1반\n",
    "print('다음 출력을 파일명으로 설정하고 제출하시오:', name + '_' + studentid + '_' + course + '_' + course_number + '_' + title)"
   ]
  },
  {
   "cell_type": "code",
   "execution_count": null,
   "metadata": {},
   "outputs": [],
   "source": []
  }
 ],
 "metadata": {
  "hide_input": false,
  "kernelspec": {
   "display_name": "Python 3 (ipykernel)",
   "language": "python",
   "name": "python3"
  },
  "language_info": {
   "codemirror_mode": {
    "name": "ipython",
    "version": 3
   },
   "file_extension": ".py",
   "mimetype": "text/x-python",
   "name": "python",
   "nbconvert_exporter": "python",
   "pygments_lexer": "ipython3",
   "version": "3.9.7"
  },
  "toc": {
   "base_numbering": 1,
   "nav_menu": {},
   "number_sections": true,
   "sideBar": true,
   "skip_h1_title": false,
   "title_cell": "Table of Contents",
   "title_sidebar": "Contents",
   "toc_cell": false,
   "toc_position": {
    "height": "calc(100% - 180px)",
    "left": "10px",
    "top": "150px",
    "width": "471.75px"
   },
   "toc_section_display": true,
   "toc_window_display": true
  },
  "varInspector": {
   "cols": {
    "lenName": 16,
    "lenType": 16,
    "lenVar": 40
   },
   "kernels_config": {
    "python": {
     "delete_cmd_postfix": "",
     "delete_cmd_prefix": "del ",
     "library": "var_list.py",
     "varRefreshCmd": "print(var_dic_list())"
    },
    "r": {
     "delete_cmd_postfix": ") ",
     "delete_cmd_prefix": "rm(",
     "library": "var_list.r",
     "varRefreshCmd": "cat(var_dic_list()) "
    }
   },
   "types_to_exclude": [
    "module",
    "function",
    "builtin_function_or_method",
    "instance",
    "_Feature"
   ],
   "window_display": false
  }
 },
 "nbformat": 4,
 "nbformat_minor": 4
}
