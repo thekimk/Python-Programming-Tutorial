{
 "cells": [
  {
   "cell_type": "code",
   "execution_count": 1,
   "metadata": {
    "ExecuteTime": {
     "end_time": "2022-03-30T07:23:12.763042Z",
     "start_time": "2022-03-30T07:23:12.735039Z"
    }
   },
   "outputs": [
    {
     "name": "stdout",
     "output_type": "stream",
     "text": [
      "Intel64 Family 6 Model 158 Stepping 10, GenuineIntel\n",
      "48(GB)\n",
      "Windows\n",
      "10.0.22000\n",
      "C:\\DataScience\\Lecture\\[DataScience]\n",
      "2022-03-21 01:44:14.436007\n",
      "2022-03-30 16:22:28.459866\n",
      "2022-03-30 16:22:28.459866\n",
      "2022-03-30 16:23:12.754039\n",
      "다음 출력을 파일명으로 설정하고 제출하시오: 김경원_20211011_비즈니스혁신을위한데이터사이언스응용_1반_InputVariable\n"
     ]
    }
   ],
   "source": [
    "# 반드시 이 cell을 실행하시오\n",
    "# 실행하지 않을 시 직접 하지 않은 것으로 간주\n",
    "# 마지막 줄 출력으로 파일명을 설정하고 제출 필수\n",
    "import platform, psutil, os, datetime\n",
    "print(platform.processor())\n",
    "print(str(round(psutil.virtual_memory().total / (1024.0 **3)))+\"(GB)\")\n",
    "print(platform.system())\n",
    "print(platform.version())\n",
    "print(os.getcwd())\n",
    "print(datetime.datetime.fromtimestamp(os.path.getctime(os.getcwd())))\n",
    "print(datetime.datetime.fromtimestamp(os.path.getmtime(os.getcwd())))\n",
    "print(datetime.datetime.fromtimestamp(os.path.getatime(os.getcwd())))\n",
    "print(datetime.datetime.now())\n",
    "title = 'InputVariable'    # 고정값\n",
    "name = '김경원'    # 본인 이름을 작성\n",
    "studentid = '20211011'    # 본인 학번을 작성\n",
    "course = '비즈니스혁신을위한데이터사이언스응용'    # 'E정보시스템', 'E데이터베이스', '빅데이터', \n",
    "                          # '비즈니스혁신을위한데이터사이언스응용', '인공지능활용디지털경제플랫폼연구'\n",
    "course_number = '1반'    #  학수번호 끝자리\n",
    "                         # E데이터베이스 (0003854001) => 1반\n",
    "                         # E데이터베이스 (0003854002) => 2반\n",
    "                         # 빅데이터 (0006718001) => 1반\n",
    "                         # 비즈니스혁신을위한데이터사이언스응용 (1002667001) => 1반\n",
    "print('다음 출력을 파일명으로 설정하고 제출하시오:', name + '_' + studentid + '_' + course + '_' + course_number + '_' + title)"
   ]
  },
  {
   "cell_type": "markdown",
   "metadata": {},
   "source": [
    "# **파이썬에서 변하는 데이터 형태**\n",
    "\n",
    "[![Open in Colab](http://colab.research.google.com/assets/colab-badge.svg)](https://colab.research.google.com/github/cheonbi/ProgrammingPython/blob/main/Practice1-4_Basic_InputVariable_KK(Practice).ipynb)\n",
    "\n",
    "> **\"파이썬의 데이터 형에 연산자를 직접 계산/출력 할 수 있지만, 데이터 형을 저장 할수도 있음\"**\n",
    "> - 파이썬이 이해하는 데이터 형태\n",
    "> - 파이썬에서 데이터의 형태 변환\n",
    "> - 파이썬이 사용하는 연산의 형태\n",
    "\n",
    "- **변수(Variable):** 변할수 있는 값으로 임시로 혹은 영구적으로 데이터 형을 기억해두기 위한 저장소\n",
    "> - 비어있는 변수를 만들고 데이터 형을 담아 할당(저장)\n",
    "> - 할당된 변수를 사용하여 그 안에 담긴 데이터를 사용할 수 있음\n",
    "> - 프로그래밍에서 **`같다`** 의미 기호는 **`==`**\n",
    "> <center><img src='Image/Variable_Structure.png' width='200'></center>\n",
    "> - **예시:**\n",
    ">```python\n",
    "name = 'KK'\n",
    "age = 100\n",
    "location = ['서울시', '용산구']\n",
    "age = 10\n",
    "print(age)    # 10\n",
    ">\n",
    "> - **생성규칙:** 규칙을 지킨 경우만 변수로 인식\n",
    ">> - 영문 문자와 숫자, _(밑줄 문자)를 사용할 수 있음\n",
    ">> - 문자부터 시작해야 하며 숫자부터 시작하면 안됨\n",
    ">> - 숫자로만 구성된 변수는 사용할 수 없음\n",
    ">> - 대소문자를 구분하기 때문에 크기가 다르면 다른 변수\n",
    ">> - 빈칸과 특수 문자(+, -, *, /, $, @, &, % 등) 사용할 수 없음\n",
    ">> - 다른 프로그래밍 언어와의 차이점\n",
    ">>> - 변수 생성시 타입(Type)을 미 선언\n",
    ">>> - 변수 생성 없이 바로 사용 가능\n",
    ">> **`C언어`*\n",
    ">> ```c\n",
    "#include <stdio.h>\n",
    "int a;\n",
    "int b;\n",
    "int c;\n",
    "a = 20;\n",
    "b = 100;\n",
    "c = a*b\n",
    "printf(c)\n",
    ">>```\n",
    ">> **`Python`*\n",
    ">> ```python\n",
    "a,b = 20,100\n",
    "print(a*b)\n",
    ">```\n",
    ">\n",
    "> - **변수생성팁:** 누가 봐도 이해하기 쉬운 센스 있는 변수 선언 추천\n",
    "> ```python\n",
    "a = [500, 800, 600, 1200]    # ??\n",
    "price_flow = [500, 800, 600, 1200]    # 가격흐름\n",
    "```"
   ]
  },
  {
   "cell_type": "code",
   "execution_count": 1,
   "metadata": {
    "ExecuteTime": {
     "end_time": "2021-10-14T11:39:18.420787Z",
     "start_time": "2021-10-14T11:39:18.406826Z"
    }
   },
   "outputs": [],
   "source": [
    "# 숫자가 가장 처음에 등장하면 에러가 발생\n"
   ]
  },
  {
   "cell_type": "code",
   "execution_count": 2,
   "metadata": {
    "ExecuteTime": {
     "end_time": "2021-10-14T11:39:18.435748Z",
     "start_time": "2021-10-14T11:39:18.422782Z"
    }
   },
   "outputs": [
    {
     "data": {
      "text/plain": [
       "50"
      ]
     },
     "execution_count": 2,
     "metadata": {},
     "output_type": "execute_result"
    }
   ],
   "source": [
    "# 정상적으로 admin이란 변수 생성\n"
   ]
  },
  {
   "cell_type": "code",
   "execution_count": 3,
   "metadata": {
    "ExecuteTime": {
     "end_time": "2021-10-14T11:39:18.450707Z",
     "start_time": "2021-10-14T11:39:18.436744Z"
    }
   },
   "outputs": [
    {
     "data": {
      "text/plain": [
       "60"
      ]
     },
     "execution_count": 3,
     "metadata": {},
     "output_type": "execute_result"
    }
   ],
   "source": [
    "# 정상적으로 Apple이란 변수 생성\n"
   ]
  },
  {
   "cell_type": "code",
   "execution_count": 4,
   "metadata": {
    "ExecuteTime": {
     "end_time": "2021-10-14T11:39:18.465669Z",
     "start_time": "2021-10-14T11:39:18.453701Z"
    }
   },
   "outputs": [
    {
     "data": {
      "text/plain": [
       "70"
      ]
     },
     "execution_count": 4,
     "metadata": {},
     "output_type": "execute_result"
    }
   ],
   "source": [
    "# 대소문자를 구분하기 때문에 앞에 나온 변수인 Apple과는 별개의 변수\n"
   ]
  },
  {
   "cell_type": "code",
   "execution_count": 5,
   "metadata": {
    "ExecuteTime": {
     "end_time": "2021-10-14T11:39:18.480627Z",
     "start_time": "2021-10-14T11:39:18.467663Z"
    }
   },
   "outputs": [
    {
     "data": {
      "text/plain": [
       "False"
      ]
     },
     "execution_count": 5,
     "metadata": {},
     "output_type": "execute_result"
    }
   ],
   "source": [
    "# Apple과 apple이 같은지 비교\n"
   ]
  },
  {
   "cell_type": "code",
   "execution_count": 6,
   "metadata": {
    "ExecuteTime": {
     "end_time": "2021-10-14T11:39:18.495591Z",
     "start_time": "2021-10-14T11:39:18.481624Z"
    }
   },
   "outputs": [
    {
     "name": "stdout",
     "output_type": "stream",
     "text": [
      "50 60 70\n"
     ]
    }
   ],
   "source": [
    "# 세 변수의 값을 모두 출력하면 50 60 70이다.\n"
   ]
  },
  {
   "cell_type": "code",
   "execution_count": 7,
   "metadata": {
    "ExecuteTime": {
     "end_time": "2021-10-14T11:39:18.510546Z",
     "start_time": "2021-10-14T11:39:18.498579Z"
    }
   },
   "outputs": [
    {
     "data": {
      "text/plain": [
       "10"
      ]
     },
     "execution_count": 7,
     "metadata": {},
     "output_type": "execute_result"
    }
   ],
   "source": [
    "# 변수에 어떤 데이터/값의 형태를 반영할지 미리 선언할 필요없이\n",
    "# 변수에 저장된 값의 형태를 파악해서 자동으로 인지\n"
   ]
  },
  {
   "cell_type": "code",
   "execution_count": 8,
   "metadata": {
    "ExecuteTime": {
     "end_time": "2021-10-14T11:39:18.525507Z",
     "start_time": "2021-10-14T11:39:18.511545Z"
    }
   },
   "outputs": [
    {
     "data": {
      "text/plain": [
       "int"
      ]
     },
     "execution_count": 8,
     "metadata": {},
     "output_type": "execute_result"
    }
   ],
   "source": [
    "type(x)"
   ]
  },
  {
   "cell_type": "code",
   "execution_count": 9,
   "metadata": {
    "ExecuteTime": {
     "end_time": "2021-10-14T11:39:18.540467Z",
     "start_time": "2021-10-14T11:39:18.526504Z"
    }
   },
   "outputs": [
    {
     "data": {
      "text/plain": [
       "'Hello, world!'"
      ]
     },
     "execution_count": 9,
     "metadata": {},
     "output_type": "execute_result"
    }
   ],
   "source": [
    "y = 'Hello, world!'\n",
    "y"
   ]
  },
  {
   "cell_type": "code",
   "execution_count": 10,
   "metadata": {
    "ExecuteTime": {
     "end_time": "2021-10-14T11:39:18.555428Z",
     "start_time": "2021-10-14T11:39:18.541464Z"
    }
   },
   "outputs": [
    {
     "data": {
      "text/plain": [
       "str"
      ]
     },
     "execution_count": 10,
     "metadata": {},
     "output_type": "execute_result"
    }
   ],
   "source": [
    "# 타입확인\n"
   ]
  },
  {
   "cell_type": "code",
   "execution_count": 11,
   "metadata": {
    "ExecuteTime": {
     "end_time": "2021-10-14T11:39:18.570386Z",
     "start_time": "2021-10-14T11:39:18.557422Z"
    }
   },
   "outputs": [
    {
     "data": {
      "text/plain": [
       "{'name': 'KK'}"
      ]
     },
     "execution_count": 11,
     "metadata": {},
     "output_type": "execute_result"
    }
   ],
   "source": [
    "z = {'name': 'KK'}\n",
    "z"
   ]
  },
  {
   "cell_type": "code",
   "execution_count": 12,
   "metadata": {
    "ExecuteTime": {
     "end_time": "2021-10-14T11:39:18.585347Z",
     "start_time": "2021-10-14T11:39:18.571385Z"
    }
   },
   "outputs": [
    {
     "data": {
      "text/plain": [
       "dict"
      ]
     },
     "execution_count": 12,
     "metadata": {},
     "output_type": "execute_result"
    }
   ],
   "source": [
    "# 타입확인\n"
   ]
  },
  {
   "cell_type": "markdown",
   "metadata": {},
   "source": [
    "## 예약어/외장함수/내장함수 이름 불가\n",
    "\n",
    "**\"파이썬 예약어(if, for, while, and, or 등)/외장함수/내장함수는 변수명 사용불가(비권장)\"**\n",
    "- **예약어(Reserved Words):** 파이썬에서 이미 문법적인 용도로 사용되는 단어들"
   ]
  },
  {
   "cell_type": "code",
   "execution_count": 13,
   "metadata": {
    "ExecuteTime": {
     "end_time": "2021-10-14T11:39:18.600307Z",
     "start_time": "2021-10-14T11:39:18.586344Z"
    }
   },
   "outputs": [
    {
     "name": "stdout",
     "output_type": "stream",
     "text": [
      "35\n",
      "\n",
      "['False', 'None', 'True', 'and', 'as', 'assert', 'async', 'await', 'break', 'class', 'continue', 'def', 'del', 'elif', 'else', 'except', 'finally', 'for', 'from', 'global', 'if', 'import', 'in', 'is', 'lambda', 'nonlocal', 'not', 'or', 'pass', 'raise', 'return', 'try', 'while', 'with', 'yield']\n"
     ]
    }
   ],
   "source": []
  },
  {
   "cell_type": "markdown",
   "metadata": {},
   "source": [
    "- **외장함수:** 자주 사용하는 기능을 정의하고 실행하는 역할을 담은 파일(함수/클래스)\n",
    "> - 패키지(Package) > 모듈(Module) > 함수(Function)\n",
    "> - 모듈/함수 이름을 변수로 써도 상관 없지만, 기존에 모듈/함수 사용 불가\n"
   ]
  },
  {
   "cell_type": "code",
   "execution_count": 14,
   "metadata": {
    "ExecuteTime": {
     "end_time": "2021-10-14T11:39:18.615266Z",
     "start_time": "2021-10-14T11:39:18.601305Z"
    }
   },
   "outputs": [],
   "source": [
    "# keyword = 10"
   ]
  },
  {
   "cell_type": "code",
   "execution_count": 15,
   "metadata": {
    "ExecuteTime": {
     "end_time": "2021-10-14T11:39:18.630230Z",
     "start_time": "2021-10-14T11:39:18.616264Z"
    }
   },
   "outputs": [],
   "source": [
    "# keyword.    # tab을 누르면 내장 함수 목록 출력"
   ]
  },
  {
   "cell_type": "code",
   "execution_count": 16,
   "metadata": {
    "ExecuteTime": {
     "end_time": "2021-10-14T11:39:18.645186Z",
     "start_time": "2021-10-14T11:39:18.632223Z"
    }
   },
   "outputs": [
    {
     "data": {
      "text/plain": [
       "['__all__',\n",
       " '__builtins__',\n",
       " '__cached__',\n",
       " '__doc__',\n",
       " '__file__',\n",
       " '__loader__',\n",
       " '__name__',\n",
       " '__package__',\n",
       " '__spec__',\n",
       " 'iskeyword',\n",
       " 'kwlist']"
      ]
     },
     "execution_count": 16,
     "metadata": {},
     "output_type": "execute_result"
    }
   ],
   "source": []
  },
  {
   "cell_type": "code",
   "execution_count": 17,
   "metadata": {
    "ExecuteTime": {
     "end_time": "2021-10-14T11:39:19.037166Z",
     "start_time": "2021-10-14T11:39:18.646184Z"
    },
    "scrolled": true
   },
   "outputs": [
    {
     "data": {
      "text/plain": [
       "['BooleanDtype',\n",
       " 'Categorical',\n",
       " 'CategoricalDtype',\n",
       " 'CategoricalIndex',\n",
       " 'DataFrame',\n",
       " 'DateOffset',\n",
       " 'DatetimeIndex',\n",
       " 'DatetimeTZDtype',\n",
       " 'ExcelFile',\n",
       " 'ExcelWriter',\n",
       " 'Flags',\n",
       " 'Float32Dtype',\n",
       " 'Float64Dtype',\n",
       " 'Float64Index',\n",
       " 'Grouper',\n",
       " 'HDFStore',\n",
       " 'Index',\n",
       " 'IndexSlice',\n",
       " 'Int16Dtype',\n",
       " 'Int32Dtype',\n",
       " 'Int64Dtype',\n",
       " 'Int64Index',\n",
       " 'Int8Dtype',\n",
       " 'Interval',\n",
       " 'IntervalDtype',\n",
       " 'IntervalIndex',\n",
       " 'MultiIndex',\n",
       " 'NA',\n",
       " 'NaT',\n",
       " 'NamedAgg',\n",
       " 'Period',\n",
       " 'PeriodDtype',\n",
       " 'PeriodIndex',\n",
       " 'RangeIndex',\n",
       " 'Series',\n",
       " 'SparseDtype',\n",
       " 'StringDtype',\n",
       " 'Timedelta',\n",
       " 'TimedeltaIndex',\n",
       " 'Timestamp',\n",
       " 'UInt16Dtype',\n",
       " 'UInt32Dtype',\n",
       " 'UInt64Dtype',\n",
       " 'UInt64Index',\n",
       " 'UInt8Dtype',\n",
       " '__builtins__',\n",
       " '__cached__',\n",
       " '__doc__',\n",
       " '__docformat__',\n",
       " '__file__',\n",
       " '__getattr__',\n",
       " '__git_version__',\n",
       " '__loader__',\n",
       " '__name__',\n",
       " '__package__',\n",
       " '__path__',\n",
       " '__spec__',\n",
       " '__version__',\n",
       " '_config',\n",
       " '_hashtable',\n",
       " '_is_numpy_dev',\n",
       " '_lib',\n",
       " '_libs',\n",
       " '_np_version_under1p18',\n",
       " '_testing',\n",
       " '_tslib',\n",
       " '_typing',\n",
       " '_version',\n",
       " 'api',\n",
       " 'array',\n",
       " 'arrays',\n",
       " 'bdate_range',\n",
       " 'compat',\n",
       " 'concat',\n",
       " 'core',\n",
       " 'crosstab',\n",
       " 'cut',\n",
       " 'date_range',\n",
       " 'describe_option',\n",
       " 'errors',\n",
       " 'eval',\n",
       " 'factorize',\n",
       " 'get_dummies',\n",
       " 'get_option',\n",
       " 'infer_freq',\n",
       " 'interval_range',\n",
       " 'io',\n",
       " 'isna',\n",
       " 'isnull',\n",
       " 'json_normalize',\n",
       " 'lreshape',\n",
       " 'melt',\n",
       " 'merge',\n",
       " 'merge_asof',\n",
       " 'merge_ordered',\n",
       " 'notna',\n",
       " 'notnull',\n",
       " 'offsets',\n",
       " 'option_context',\n",
       " 'options',\n",
       " 'pandas',\n",
       " 'period_range',\n",
       " 'pivot',\n",
       " 'pivot_table',\n",
       " 'plotting',\n",
       " 'qcut',\n",
       " 'read_clipboard',\n",
       " 'read_csv',\n",
       " 'read_excel',\n",
       " 'read_feather',\n",
       " 'read_fwf',\n",
       " 'read_gbq',\n",
       " 'read_hdf',\n",
       " 'read_html',\n",
       " 'read_json',\n",
       " 'read_orc',\n",
       " 'read_parquet',\n",
       " 'read_pickle',\n",
       " 'read_sas',\n",
       " 'read_spss',\n",
       " 'read_sql',\n",
       " 'read_sql_query',\n",
       " 'read_sql_table',\n",
       " 'read_stata',\n",
       " 'read_table',\n",
       " 'read_xml',\n",
       " 'reset_option',\n",
       " 'set_eng_float_format',\n",
       " 'set_option',\n",
       " 'show_versions',\n",
       " 'test',\n",
       " 'testing',\n",
       " 'timedelta_range',\n",
       " 'to_datetime',\n",
       " 'to_numeric',\n",
       " 'to_pickle',\n",
       " 'to_timedelta',\n",
       " 'tseries',\n",
       " 'unique',\n",
       " 'util',\n",
       " 'value_counts',\n",
       " 'wide_to_long']"
      ]
     },
     "execution_count": 17,
     "metadata": {},
     "output_type": "execute_result"
    }
   ],
   "source": [
    "# 예시\n"
   ]
  },
  {
   "cell_type": "markdown",
   "metadata": {},
   "source": [
    "- **[내장함수(Built-in Function)](https://docs.python.org/ko/3.8/library/functions.html):** 별도의 모듈(Module)/라이브러리 추가 없이 기본적으로 제공되는 함수\n",
    "\n",
    "> - 수많은 내장 함수 존재하며 일일이 설명은 어렵고, 필요시 지속적으로 언급"
   ]
  },
  {
   "cell_type": "code",
   "execution_count": 18,
   "metadata": {
    "ExecuteTime": {
     "end_time": "2021-10-14T11:39:19.052099Z",
     "start_time": "2021-10-14T11:39:19.038137Z"
    }
   },
   "outputs": [
    {
     "data": {
      "text/plain": [
       "3"
      ]
     },
     "execution_count": 18,
     "metadata": {},
     "output_type": "execute_result"
    }
   ],
   "source": [
    "# -3의 절대값\n"
   ]
  },
  {
   "cell_type": "code",
   "execution_count": 19,
   "metadata": {
    "ExecuteTime": {
     "end_time": "2021-10-14T11:39:19.067058Z",
     "start_time": "2021-10-14T11:39:19.053097Z"
    }
   },
   "outputs": [
    {
     "data": {
      "text/plain": [
       "2"
      ]
     },
     "execution_count": 19,
     "metadata": {},
     "output_type": "execute_result"
    }
   ],
   "source": [
    "# 1과 2 중에서 최대값\n"
   ]
  },
  {
   "cell_type": "code",
   "execution_count": 20,
   "metadata": {
    "ExecuteTime": {
     "end_time": "2021-10-14T11:39:19.082019Z",
     "start_time": "2021-10-14T11:39:19.068056Z"
    }
   },
   "outputs": [
    {
     "data": {
      "text/plain": [
       "3"
      ]
     },
     "execution_count": 20,
     "metadata": {},
     "output_type": "execute_result"
    }
   ],
   "source": [
    "# [1,2,3] 중에서 최대값\n"
   ]
  },
  {
   "cell_type": "code",
   "execution_count": 21,
   "metadata": {
    "ExecuteTime": {
     "end_time": "2021-10-14T11:39:19.096980Z",
     "start_time": "2021-10-14T11:39:19.083015Z"
    }
   },
   "outputs": [
    {
     "data": {
      "text/plain": [
       "1"
      ]
     },
     "execution_count": 21,
     "metadata": {},
     "output_type": "execute_result"
    }
   ],
   "source": [
    "# 1과 2 중에서 최소값\n"
   ]
  },
  {
   "cell_type": "code",
   "execution_count": 22,
   "metadata": {
    "ExecuteTime": {
     "end_time": "2021-10-14T11:39:19.111967Z",
     "start_time": "2021-10-14T11:39:19.100968Z"
    }
   },
   "outputs": [
    {
     "data": {
      "text/plain": [
       "1"
      ]
     },
     "execution_count": 22,
     "metadata": {},
     "output_type": "execute_result"
    }
   ],
   "source": [
    "# [1,2,3] 중에서 최소값\n"
   ]
  },
  {
   "cell_type": "code",
   "execution_count": 23,
   "metadata": {
    "ExecuteTime": {
     "end_time": "2021-10-14T11:39:19.126900Z",
     "start_time": "2021-10-14T11:39:19.113961Z"
    }
   },
   "outputs": [
    {
     "data": {
      "text/plain": [
       "16"
      ]
     },
     "execution_count": 23,
     "metadata": {},
     "output_type": "execute_result"
    }
   ],
   "source": [
    "# 2^4\n"
   ]
  },
  {
   "cell_type": "code",
   "execution_count": 24,
   "metadata": {
    "ExecuteTime": {
     "end_time": "2021-10-14T11:39:19.142857Z",
     "start_time": "2021-10-14T11:39:19.128895Z"
    }
   },
   "outputs": [
    {
     "data": {
      "text/plain": [
       "16"
      ]
     },
     "execution_count": 24,
     "metadata": {},
     "output_type": "execute_result"
    }
   ],
   "source": [
    "# 2^4\n"
   ]
  },
  {
   "cell_type": "code",
   "execution_count": 25,
   "metadata": {
    "ExecuteTime": {
     "end_time": "2021-10-14T11:39:19.157816Z",
     "start_time": "2021-10-14T11:39:19.143853Z"
    }
   },
   "outputs": [
    {
     "data": {
      "text/plain": [
       "27"
      ]
     },
     "execution_count": 25,
     "metadata": {},
     "output_type": "execute_result"
    }
   ],
   "source": [
    "# 3^3\n"
   ]
  },
  {
   "cell_type": "code",
   "execution_count": 26,
   "metadata": {
    "ExecuteTime": {
     "end_time": "2021-10-14T11:39:19.172805Z",
     "start_time": "2021-10-14T11:39:19.159812Z"
    }
   },
   "outputs": [
    {
     "data": {
      "text/plain": [
       "0.5"
      ]
     },
     "execution_count": 26,
     "metadata": {},
     "output_type": "execute_result"
    }
   ],
   "source": [
    "# 2^(-1)\n"
   ]
  },
  {
   "cell_type": "markdown",
   "metadata": {},
   "source": [
    "- range([start], stop, [step]) 내장함수로 쉽게 시퀀스(Sequence) 생성 가능\n",
    "- start와 step은 생략 가능하며 start는 0, step은 1이 고정값"
   ]
  },
  {
   "cell_type": "code",
   "execution_count": 27,
   "metadata": {
    "ExecuteTime": {
     "end_time": "2021-10-14T11:39:19.187737Z",
     "start_time": "2021-10-14T11:39:19.173773Z"
    }
   },
   "outputs": [
    {
     "data": {
      "text/plain": [
       "range(0, 10)"
      ]
     },
     "execution_count": 27,
     "metadata": {},
     "output_type": "execute_result"
    }
   ],
   "source": [
    "# 0이상 10미만 시퀀스 생성\n"
   ]
  },
  {
   "cell_type": "code",
   "execution_count": 28,
   "metadata": {
    "ExecuteTime": {
     "end_time": "2021-10-14T11:39:19.202724Z",
     "start_time": "2021-10-14T11:39:19.189731Z"
    }
   },
   "outputs": [
    {
     "data": {
      "text/plain": [
       "[0, 1, 2, 3, 4, 5, 6, 7, 8, 9]"
      ]
     },
     "execution_count": 28,
     "metadata": {},
     "output_type": "execute_result"
    }
   ],
   "source": [
    "# 0이상 10미만 시퀀스 리스트 생성\n"
   ]
  },
  {
   "cell_type": "code",
   "execution_count": 29,
   "metadata": {
    "ExecuteTime": {
     "end_time": "2021-10-14T11:39:19.217684Z",
     "start_time": "2021-10-14T11:39:19.203694Z"
    }
   },
   "outputs": [
    {
     "data": {
      "text/plain": [
       "[3, 4, 5, 6, 7, 8, 9]"
      ]
     },
     "execution_count": 29,
     "metadata": {},
     "output_type": "execute_result"
    }
   ],
   "source": [
    "# 3이상 10미만 시퀀스 리스트 생성\n"
   ]
  },
  {
   "cell_type": "code",
   "execution_count": 30,
   "metadata": {
    "ExecuteTime": {
     "end_time": "2021-10-14T11:39:19.232646Z",
     "start_time": "2021-10-14T11:39:19.218654Z"
    }
   },
   "outputs": [
    {
     "data": {
      "text/plain": [
       "[]"
      ]
     },
     "execution_count": 30,
     "metadata": {},
     "output_type": "execute_result"
    }
   ],
   "source": [
    "# 0이상 3미만 역 시퀀스 리스트 생성\n"
   ]
  },
  {
   "cell_type": "code",
   "execution_count": 31,
   "metadata": {
    "ExecuteTime": {
     "end_time": "2021-10-14T11:39:19.247604Z",
     "start_time": "2021-10-14T11:39:19.233613Z"
    }
   },
   "outputs": [
    {
     "data": {
      "text/plain": [
       "[3, 5, 7, 9]"
      ]
     },
     "execution_count": 31,
     "metadata": {},
     "output_type": "execute_result"
    }
   ],
   "source": [
    "# 3이상 10미만 2간격 시퀀스 리스트 생성\n"
   ]
  },
  {
   "cell_type": "code",
   "execution_count": 32,
   "metadata": {
    "ExecuteTime": {
     "end_time": "2021-10-14T11:39:19.262564Z",
     "start_time": "2021-10-14T11:39:19.248573Z"
    }
   },
   "outputs": [
    {
     "data": {
      "text/plain": [
       "[10, 9, 8, 7, 6, 5, 4]"
      ]
     },
     "execution_count": 32,
     "metadata": {},
     "output_type": "execute_result"
    }
   ],
   "source": [
    "# 10이상 3미만 역 시퀀스 리스트 생성\n"
   ]
  },
  {
   "cell_type": "code",
   "execution_count": 33,
   "metadata": {
    "ExecuteTime": {
     "end_time": "2021-10-14T11:39:19.277523Z",
     "start_time": "2021-10-14T11:39:19.263533Z"
    }
   },
   "outputs": [
    {
     "data": {
      "text/plain": [
       "(0, 1, 2, 3, 4, 5, 6, 7, 8, 9)"
      ]
     },
     "execution_count": 33,
     "metadata": {},
     "output_type": "execute_result"
    }
   ],
   "source": [
    "# 0이상 10미만 튜플 생성\n"
   ]
  },
  {
   "cell_type": "code",
   "execution_count": 34,
   "metadata": {
    "ExecuteTime": {
     "end_time": "2021-10-14T11:39:19.292480Z",
     "start_time": "2021-10-14T11:39:19.278493Z"
    }
   },
   "outputs": [
    {
     "data": {
      "text/plain": [
       "['h', 'e', 'l', 'l', 'o']"
      ]
     },
     "execution_count": 34,
     "metadata": {},
     "output_type": "execute_result"
    }
   ],
   "source": [
    "# 'hello' 문자열 리스트 변환\n"
   ]
  },
  {
   "cell_type": "code",
   "execution_count": 35,
   "metadata": {
    "ExecuteTime": {
     "end_time": "2021-10-14T11:39:19.307440Z",
     "start_time": "2021-10-14T11:39:19.293478Z"
    }
   },
   "outputs": [
    {
     "data": {
      "text/plain": [
       "('h', 'e', 'l', 'l', 'o')"
      ]
     },
     "execution_count": 35,
     "metadata": {},
     "output_type": "execute_result"
    }
   ],
   "source": [
    "# 'hello' 문자열 튜플 변환\n"
   ]
  },
  {
   "cell_type": "markdown",
   "metadata": {},
   "source": [
    "- **Question:** range 함수를 사용하여 아래와 같은 tuple 값을 출력하시오\n",
    "\n",
    "```python\n",
    "(5, 3, 1, -1, -3, -5, -7, -9)\n",
    "```"
   ]
  },
  {
   "cell_type": "code",
   "execution_count": null,
   "metadata": {
    "ExecuteTime": {
     "end_time": "2022-04-07T08:24:38.824801Z",
     "start_time": "2022-04-07T08:24:38.804798Z"
    }
   },
   "outputs": [],
   "source": [
    "\n"
   ]
  },
  {
   "cell_type": "markdown",
   "metadata": {},
   "source": [
    "## 변수의 생성과 삭제\n",
    "\n",
    "- 변수이름1, 변수이름2, 변수이름3 = 값1, 값2, 값3\n",
    "- 변수의 갯수와 값의 갯수는 동일해야 하며 나열된 순서대로 할당"
   ]
  },
  {
   "cell_type": "code",
   "execution_count": 36,
   "metadata": {
    "ExecuteTime": {
     "end_time": "2021-10-14T11:39:19.322377Z",
     "start_time": "2021-10-14T11:39:19.308413Z"
    }
   },
   "outputs": [],
   "source": [
    "# x = 10\n",
    "# y = 20\n",
    "# z = 30\n"
   ]
  },
  {
   "cell_type": "code",
   "execution_count": 37,
   "metadata": {
    "ExecuteTime": {
     "end_time": "2021-10-14T11:39:19.337363Z",
     "start_time": "2021-10-14T11:39:19.323401Z"
    }
   },
   "outputs": [
    {
     "data": {
      "text/plain": [
       "10"
      ]
     },
     "execution_count": 37,
     "metadata": {},
     "output_type": "execute_result"
    }
   ],
   "source": []
  },
  {
   "cell_type": "code",
   "execution_count": 38,
   "metadata": {
    "ExecuteTime": {
     "end_time": "2021-10-14T11:39:19.352297Z",
     "start_time": "2021-10-14T11:39:19.338333Z"
    }
   },
   "outputs": [
    {
     "data": {
      "text/plain": [
       "20"
      ]
     },
     "execution_count": 38,
     "metadata": {},
     "output_type": "execute_result"
    }
   ],
   "source": []
  },
  {
   "cell_type": "code",
   "execution_count": 39,
   "metadata": {
    "ExecuteTime": {
     "end_time": "2021-10-14T11:39:19.367279Z",
     "start_time": "2021-10-14T11:39:19.354291Z"
    }
   },
   "outputs": [
    {
     "data": {
      "text/plain": [
       "30"
      ]
     },
     "execution_count": 39,
     "metadata": {},
     "output_type": "execute_result"
    }
   ],
   "source": []
  },
  {
   "cell_type": "markdown",
   "metadata": {},
   "source": [
    "- 변수1 = 변수2 = 변수3 = 값\n",
    "- 마지막 값으로 앞의 변수에 모두 할당"
   ]
  },
  {
   "cell_type": "code",
   "execution_count": 40,
   "metadata": {
    "ExecuteTime": {
     "end_time": "2021-10-14T11:39:19.382243Z",
     "start_time": "2021-10-14T11:39:19.368253Z"
    }
   },
   "outputs": [],
   "source": []
  },
  {
   "cell_type": "code",
   "execution_count": 41,
   "metadata": {
    "ExecuteTime": {
     "end_time": "2021-10-14T11:39:19.397208Z",
     "start_time": "2021-10-14T11:39:19.383213Z"
    }
   },
   "outputs": [
    {
     "data": {
      "text/plain": [
       "10"
      ]
     },
     "execution_count": 41,
     "metadata": {},
     "output_type": "execute_result"
    }
   ],
   "source": []
  },
  {
   "cell_type": "code",
   "execution_count": 42,
   "metadata": {
    "ExecuteTime": {
     "end_time": "2021-10-14T11:39:19.412136Z",
     "start_time": "2021-10-14T11:39:19.398174Z"
    }
   },
   "outputs": [
    {
     "data": {
      "text/plain": [
       "10"
      ]
     },
     "execution_count": 42,
     "metadata": {},
     "output_type": "execute_result"
    }
   ],
   "source": []
  },
  {
   "cell_type": "code",
   "execution_count": 43,
   "metadata": {
    "ExecuteTime": {
     "end_time": "2021-10-14T11:39:19.427097Z",
     "start_time": "2021-10-14T11:39:19.413133Z"
    }
   },
   "outputs": [
    {
     "data": {
      "text/plain": [
       "10"
      ]
     },
     "execution_count": 43,
     "metadata": {},
     "output_type": "execute_result"
    }
   ],
   "source": []
  },
  {
   "cell_type": "code",
   "execution_count": 44,
   "metadata": {
    "ExecuteTime": {
     "end_time": "2021-10-14T11:39:19.442084Z",
     "start_time": "2021-10-14T11:39:19.429091Z"
    }
   },
   "outputs": [
    {
     "name": "stdout",
     "output_type": "stream",
     "text": [
      "1 python [1, 2, 3]\n"
     ]
    }
   ],
   "source": []
  },
  {
   "cell_type": "code",
   "execution_count": 45,
   "metadata": {
    "ExecuteTime": {
     "end_time": "2021-10-14T11:39:19.457018Z",
     "start_time": "2021-10-14T11:39:19.444050Z"
    }
   },
   "outputs": [
    {
     "name": "stdout",
     "output_type": "stream",
     "text": [
      "10 35.2 pineapple\n"
     ]
    }
   ],
   "source": []
  },
  {
   "cell_type": "markdown",
   "metadata": {},
   "source": [
    "- 변수1, 변수2 = 변수2, 변수1\n",
    "- 변수1과 변수2의 값 치환"
   ]
  },
  {
   "cell_type": "code",
   "execution_count": 46,
   "metadata": {
    "ExecuteTime": {
     "end_time": "2021-10-14T11:39:19.472007Z",
     "start_time": "2021-10-14T11:39:19.460010Z"
    }
   },
   "outputs": [
    {
     "name": "stdout",
     "output_type": "stream",
     "text": [
      "10 20\n"
     ]
    }
   ],
   "source": [
    "x, y = 10, 20\n",
    "print(x, y)"
   ]
  },
  {
   "cell_type": "code",
   "execution_count": 47,
   "metadata": {
    "ExecuteTime": {
     "end_time": "2021-10-14T11:39:19.486936Z",
     "start_time": "2021-10-14T11:39:19.472973Z"
    }
   },
   "outputs": [],
   "source": [
    "# 값 치환\n"
   ]
  },
  {
   "cell_type": "code",
   "execution_count": 48,
   "metadata": {
    "ExecuteTime": {
     "end_time": "2021-10-14T11:39:19.501896Z",
     "start_time": "2021-10-14T11:39:19.488932Z"
    }
   },
   "outputs": [
    {
     "data": {
      "text/plain": [
       "20"
      ]
     },
     "execution_count": 48,
     "metadata": {},
     "output_type": "execute_result"
    }
   ],
   "source": []
  },
  {
   "cell_type": "code",
   "execution_count": 49,
   "metadata": {
    "ExecuteTime": {
     "end_time": "2021-10-14T11:39:19.516855Z",
     "start_time": "2021-10-14T11:39:19.502893Z"
    }
   },
   "outputs": [
    {
     "data": {
      "text/plain": [
       "10"
      ]
     },
     "execution_count": 49,
     "metadata": {},
     "output_type": "execute_result"
    }
   ],
   "source": []
  },
  {
   "cell_type": "code",
   "execution_count": 50,
   "metadata": {
    "ExecuteTime": {
     "end_time": "2021-10-14T11:39:19.531817Z",
     "start_time": "2021-10-14T11:39:19.517854Z"
    }
   },
   "outputs": [],
   "source": [
    "# del 명령어로 변수 삭제 가능\n"
   ]
  },
  {
   "cell_type": "markdown",
   "metadata": {},
   "source": [
    "- **(주의)** 변수끼리 할당 시 복사하지 않고 할당하면 동일 변수로 취급"
   ]
  },
  {
   "cell_type": "code",
   "execution_count": 51,
   "metadata": {
    "ExecuteTime": {
     "end_time": "2021-10-14T11:39:19.546775Z",
     "start_time": "2021-10-14T11:39:19.533814Z"
    }
   },
   "outputs": [
    {
     "name": "stdout",
     "output_type": "stream",
     "text": [
      "[200, 20, 30] [200, 20, 30]\n"
     ]
    }
   ],
   "source": []
  },
  {
   "cell_type": "code",
   "execution_count": 52,
   "metadata": {
    "ExecuteTime": {
     "end_time": "2021-10-14T11:39:19.561737Z",
     "start_time": "2021-10-14T11:39:19.547773Z"
    }
   },
   "outputs": [
    {
     "name": "stdout",
     "output_type": "stream",
     "text": [
      "[200, 20, 30] [10, 20, 30]\n"
     ]
    }
   ],
   "source": [
    "# 복사방법1\n"
   ]
  },
  {
   "cell_type": "code",
   "execution_count": 53,
   "metadata": {
    "ExecuteTime": {
     "end_time": "2021-10-14T11:39:19.576695Z",
     "start_time": "2021-10-14T11:39:19.564727Z"
    }
   },
   "outputs": [
    {
     "name": "stdout",
     "output_type": "stream",
     "text": [
      "[200, 20, 30] [10, 20, 30]\n"
     ]
    }
   ],
   "source": [
    "# 복사방법2\n"
   ]
  },
  {
   "cell_type": "code",
   "execution_count": 54,
   "metadata": {
    "ExecuteTime": {
     "end_time": "2021-10-14T11:39:19.591657Z",
     "start_time": "2021-10-14T11:39:19.577693Z"
    }
   },
   "outputs": [
    {
     "name": "stdout",
     "output_type": "stream",
     "text": [
      "python life\n"
     ]
    }
   ],
   "source": []
  },
  {
   "cell_type": "code",
   "execution_count": 55,
   "metadata": {
    "ExecuteTime": {
     "end_time": "2021-10-14T11:39:19.606616Z",
     "start_time": "2021-10-14T11:39:19.594650Z"
    }
   },
   "outputs": [
    {
     "name": "stdout",
     "output_type": "stream",
     "text": [
      "python life\n"
     ]
    }
   ],
   "source": []
  },
  {
   "cell_type": "code",
   "execution_count": 56,
   "metadata": {
    "ExecuteTime": {
     "end_time": "2021-10-14T11:39:19.621575Z",
     "start_time": "2021-10-14T11:39:19.607613Z"
    }
   },
   "outputs": [
    {
     "name": "stdout",
     "output_type": "stream",
     "text": [
      "python life\n"
     ]
    }
   ],
   "source": []
  },
  {
   "cell_type": "markdown",
   "metadata": {},
   "source": [
    "- **Question:** 다음 중 사용할 수 없는 변수명을 모두 고르고 이유를 설명하시오\n",
    "\n",
    "(1) class\n",
    "(2) normal\n",
    "(3) 1st\n",
    "(4) _python\n",
    "(5) 변수\n",
    "(6) except"
   ]
  },
  {
   "cell_type": "code",
   "execution_count": 57,
   "metadata": {
    "ExecuteTime": {
     "end_time": "2021-10-14T11:39:19.636537Z",
     "start_time": "2021-10-14T11:39:19.622575Z"
    }
   },
   "outputs": [],
   "source": [
    "# 설명\n",
    "# 1)\n",
    "# 2)\n",
    "# 3)\n",
    "# ..."
   ]
  },
  {
   "cell_type": "markdown",
   "metadata": {},
   "source": [
    "## 빈 변수 생성\n",
    "\n",
    "- **None:** 파이썬에서 아무것도 없는 빈 상태를 나타내는 자료형\n",
    "\n",
    "> - **특징:**\n",
    ">> - 비어있는 문자/리스트/집합/딕셔너리와 다름\n",
    ">> - False나 0과 다름\n",
    ">> - 'None'은 문자와 다름\n",
    "\n",
    "> - **적절한 사용 시점:**\n",
    ">> - 값을 알수 없거나 존재하지 않는 경우\n",
    ">> - 값이 \"없음\" 일 경우\n",
    ">> - 값이 정의되지 않는 경우\n",
    ">> - 값을 초기화 해서 사용하는 경우\n",
    "\n",
    "\n",
    "\n",
    "<!-- https://m.blog.naver.com/PostView.naver?isHttpsRedirect=true&blogId=youndok&logNo=222085870181 -->"
   ]
  },
  {
   "cell_type": "code",
   "execution_count": 58,
   "metadata": {
    "ExecuteTime": {
     "end_time": "2021-10-14T11:39:19.651495Z",
     "start_time": "2021-10-14T11:39:19.637533Z"
    }
   },
   "outputs": [],
   "source": [
    "# x = "
   ]
  },
  {
   "cell_type": "code",
   "execution_count": 59,
   "metadata": {
    "ExecuteTime": {
     "end_time": "2021-10-14T11:39:19.666456Z",
     "start_time": "2021-10-14T11:39:19.653491Z"
    }
   },
   "outputs": [],
   "source": []
  },
  {
   "cell_type": "code",
   "execution_count": 60,
   "metadata": {
    "ExecuteTime": {
     "end_time": "2021-10-14T11:39:19.681416Z",
     "start_time": "2021-10-14T11:39:19.667453Z"
    }
   },
   "outputs": [
    {
     "data": {
      "text/plain": [
       "NoneType"
      ]
     },
     "execution_count": 60,
     "metadata": {},
     "output_type": "execute_result"
    }
   ],
   "source": []
  },
  {
   "cell_type": "code",
   "execution_count": 61,
   "metadata": {
    "ExecuteTime": {
     "end_time": "2021-10-14T11:39:19.696403Z",
     "start_time": "2021-10-14T11:39:19.682414Z"
    }
   },
   "outputs": [
    {
     "data": {
      "text/plain": [
       "False"
      ]
     },
     "execution_count": 61,
     "metadata": {},
     "output_type": "execute_result"
    }
   ],
   "source": [
    "# None과 False가 같은지 비교\n"
   ]
  },
  {
   "cell_type": "code",
   "execution_count": 62,
   "metadata": {
    "ExecuteTime": {
     "end_time": "2021-10-14T11:39:19.711335Z",
     "start_time": "2021-10-14T11:39:19.697373Z"
    }
   },
   "outputs": [
    {
     "data": {
      "text/plain": [
       "False"
      ]
     },
     "execution_count": 62,
     "metadata": {},
     "output_type": "execute_result"
    }
   ],
   "source": [
    "# None과 True가 같은지 비교\n"
   ]
  },
  {
   "cell_type": "markdown",
   "metadata": {},
   "source": [
    "## 변수의 연산"
   ]
  },
  {
   "cell_type": "code",
   "execution_count": 63,
   "metadata": {
    "ExecuteTime": {
     "end_time": "2021-10-14T11:39:19.726295Z",
     "start_time": "2021-10-14T11:39:19.712333Z"
    }
   },
   "outputs": [
    {
     "data": {
      "text/plain": [
       "30"
      ]
     },
     "execution_count": 63,
     "metadata": {},
     "output_type": "execute_result"
    }
   ],
   "source": [
    "a = 10\n",
    "b = 20\n",
    "a + b"
   ]
  },
  {
   "cell_type": "code",
   "execution_count": 64,
   "metadata": {
    "ExecuteTime": {
     "end_time": "2021-10-14T11:39:19.741256Z",
     "start_time": "2021-10-14T11:39:19.727294Z"
    }
   },
   "outputs": [
    {
     "data": {
      "text/plain": [
       "30"
      ]
     },
     "execution_count": 64,
     "metadata": {},
     "output_type": "execute_result"
    }
   ],
   "source": []
  },
  {
   "cell_type": "code",
   "execution_count": 65,
   "metadata": {
    "ExecuteTime": {
     "end_time": "2021-10-14T11:39:19.756217Z",
     "start_time": "2021-10-14T11:39:19.742253Z"
    }
   },
   "outputs": [
    {
     "data": {
      "text/plain": [
       "10"
      ]
     },
     "execution_count": 65,
     "metadata": {},
     "output_type": "execute_result"
    }
   ],
   "source": []
  },
  {
   "cell_type": "code",
   "execution_count": 66,
   "metadata": {
    "ExecuteTime": {
     "end_time": "2021-10-14T11:39:19.771205Z",
     "start_time": "2021-10-14T11:39:19.758211Z"
    }
   },
   "outputs": [
    {
     "data": {
      "text/plain": [
       "30"
      ]
     },
     "execution_count": 66,
     "metadata": {},
     "output_type": "execute_result"
    }
   ],
   "source": []
  },
  {
   "cell_type": "code",
   "execution_count": 67,
   "metadata": {
    "ExecuteTime": {
     "end_time": "2021-10-14T11:39:19.786135Z",
     "start_time": "2021-10-14T11:39:19.778156Z"
    }
   },
   "outputs": [
    {
     "data": {
      "text/plain": [
       "-30"
      ]
     },
     "execution_count": 67,
     "metadata": {},
     "output_type": "execute_result"
    }
   ],
   "source": []
  },
  {
   "cell_type": "markdown",
   "metadata": {},
   "source": [
    "## 변수에 값을 입력받아 연산\n",
    "\n",
    "> - **input():** 사용자가 입력한 값을 가져오는 함수\n",
    "> - 입력값은 문자열로 간주"
   ]
  },
  {
   "cell_type": "code",
   "execution_count": 68,
   "metadata": {
    "ExecuteTime": {
     "end_time": "2021-10-14T11:39:19.802121Z",
     "start_time": "2021-10-14T11:39:19.791122Z"
    }
   },
   "outputs": [],
   "source": [
    "# input()"
   ]
  },
  {
   "cell_type": "code",
   "execution_count": 69,
   "metadata": {
    "ExecuteTime": {
     "end_time": "2021-10-14T11:39:19.817081Z",
     "start_time": "2021-10-14T11:39:19.803119Z"
    }
   },
   "outputs": [],
   "source": []
  },
  {
   "cell_type": "code",
   "execution_count": 70,
   "metadata": {
    "ExecuteTime": {
     "end_time": "2021-10-14T11:39:19.832039Z",
     "start_time": "2021-10-14T11:39:19.818051Z"
    }
   },
   "outputs": [],
   "source": []
  },
  {
   "cell_type": "code",
   "execution_count": 71,
   "metadata": {
    "ExecuteTime": {
     "end_time": "2021-10-14T11:39:19.846998Z",
     "start_time": "2021-10-14T11:39:19.833040Z"
    }
   },
   "outputs": [],
   "source": []
  },
  {
   "cell_type": "code",
   "execution_count": 72,
   "metadata": {
    "ExecuteTime": {
     "end_time": "2021-10-14T11:39:19.861934Z",
     "start_time": "2021-10-14T11:39:19.847971Z"
    }
   },
   "outputs": [],
   "source": []
  },
  {
   "cell_type": "code",
   "execution_count": 73,
   "metadata": {
    "ExecuteTime": {
     "end_time": "2021-10-14T11:39:19.876917Z",
     "start_time": "2021-10-14T11:39:19.863928Z"
    }
   },
   "outputs": [],
   "source": []
  },
  {
   "cell_type": "code",
   "execution_count": 74,
   "metadata": {
    "ExecuteTime": {
     "end_time": "2021-10-14T11:39:19.891854Z",
     "start_time": "2021-10-14T11:39:19.877891Z"
    }
   },
   "outputs": [],
   "source": []
  },
  {
   "cell_type": "code",
   "execution_count": 75,
   "metadata": {
    "ExecuteTime": {
     "end_time": "2021-10-14T11:39:19.906848Z",
     "start_time": "2021-10-14T11:39:19.893849Z"
    }
   },
   "outputs": [],
   "source": []
  },
  {
   "cell_type": "code",
   "execution_count": 76,
   "metadata": {
    "ExecuteTime": {
     "end_time": "2021-10-14T11:39:19.921775Z",
     "start_time": "2021-10-14T11:39:19.907810Z"
    }
   },
   "outputs": [],
   "source": []
  },
  {
   "cell_type": "code",
   "execution_count": 77,
   "metadata": {
    "ExecuteTime": {
     "end_time": "2021-10-14T11:39:19.936762Z",
     "start_time": "2021-10-14T11:39:19.923768Z"
    }
   },
   "outputs": [],
   "source": []
  },
  {
   "cell_type": "markdown",
   "metadata": {},
   "source": [
    "- 변수1, 변수2 = input('문자열').split('기준문자열')\n",
    "- 여러개의 문자열을 입력받을 시, 분리(split) 구분자(기준문자열)를 지정하여 사용 가능"
   ]
  },
  {
   "cell_type": "code",
   "execution_count": 78,
   "metadata": {
    "ExecuteTime": {
     "end_time": "2021-10-14T11:39:19.951724Z",
     "start_time": "2021-10-14T11:39:19.937732Z"
    }
   },
   "outputs": [
    {
     "name": "stdout",
     "output_type": "stream",
     "text": [
      "['My', 'name', 'is', 'KK']\n",
      "My name is KK\n"
     ]
    }
   ],
   "source": [
    "temp = 'My name is KK'\n",
    "print(temp.split(' '))\n",
    "print(''.join(temp))"
   ]
  },
  {
   "cell_type": "code",
   "execution_count": 79,
   "metadata": {
    "ExecuteTime": {
     "end_time": "2021-10-14T11:39:19.966687Z",
     "start_time": "2021-10-14T11:39:19.953689Z"
    }
   },
   "outputs": [],
   "source": [
    "# a, b = input('문자열 2개를 입력하세요: ').split(',')\n"
   ]
  },
  {
   "cell_type": "code",
   "execution_count": 80,
   "metadata": {
    "ExecuteTime": {
     "end_time": "2021-10-14T11:39:19.981612Z",
     "start_time": "2021-10-14T11:39:19.969646Z"
    }
   },
   "outputs": [],
   "source": [
    "# a, b = input('숫자 두 개를 입력하세요: ').split() # split 값이 없으면 공백을 기준으로 분리\n"
   ]
  },
  {
   "cell_type": "code",
   "execution_count": 81,
   "metadata": {
    "ExecuteTime": {
     "end_time": "2021-10-14T11:39:19.996574Z",
     "start_time": "2021-10-14T11:39:19.982610Z"
    }
   },
   "outputs": [],
   "source": [
    "# a, b = input('숫자 두 개를 입력하세요: ').split() \n"
   ]
  },
  {
   "cell_type": "code",
   "execution_count": 82,
   "metadata": {
    "ExecuteTime": {
     "end_time": "2021-10-14T11:39:20.011536Z",
     "start_time": "2021-10-14T11:39:19.998568Z"
    }
   },
   "outputs": [],
   "source": [
    "# a, b = input('숫자 두 개를 입력하세요: ').split() \n"
   ]
  },
  {
   "cell_type": "code",
   "execution_count": 83,
   "metadata": {
    "ExecuteTime": {
     "end_time": "2021-10-14T11:39:20.026506Z",
     "start_time": "2021-10-14T11:39:20.012535Z"
    }
   },
   "outputs": [],
   "source": [
    "# map(함수, 값) 내장함수를 사용하여 각각의 값의 함수처리 출력\n",
    "# 숫자 입력시 공백을 기준으로 2개를 입력\n",
    "# 출력은 2개의 입력값 합\n"
   ]
  },
  {
   "cell_type": "markdown",
   "metadata": {},
   "source": [
    "- **Question:** 정수 3개를 입력받아 합계를 출력하시오"
   ]
  },
  {
   "cell_type": "code",
   "execution_count": null,
   "metadata": {
    "ExecuteTime": {
     "end_time": "2022-04-26T14:28:41.756532Z",
     "start_time": "2022-04-26T14:28:40.169354Z"
    }
   },
   "outputs": [],
   "source": [
    "\n"
   ]
  },
  {
   "cell_type": "markdown",
   "metadata": {},
   "source": [
    "## 변수의 비교와 논리\n",
    "\n",
    "- **Question:** 한 과목이라도 50점 미만이면 불합격(False)를 출력하시오\n",
    "\n",
    "```python\n",
    "korean = 92\n",
    "english = 47\n",
    "mathematics = 86\n",
    "science = 81\n",
    "```"
   ]
  },
  {
   "cell_type": "code",
   "execution_count": 9,
   "metadata": {
    "ExecuteTime": {
     "end_time": "2022-04-07T08:28:14.511165Z",
     "start_time": "2022-04-07T08:28:14.502647Z"
    }
   },
   "outputs": [],
   "source": [
    "korean = 92\n",
    "english = 47\n",
    "mathematics = 86\n",
    "science = 81\n",
    "\n"
   ]
  },
  {
   "cell_type": "markdown",
   "metadata": {},
   "source": [
    "## 순서가 있는 시퀀스 데이터 형태\n",
    "\n",
    "- **시퀀스(Sequence):** 리스트/튜플/문자열 등으로 연속적으로 이어진 순서가 있는 자료형\n",
    "> - 시퀀스는 어떠한 자료형으로 구성되든 공통된 동작과 기능을 제공\n",
    "> - 시퀀스의 각 값을 요소(Element)라고 함\n",
    "> - 순서가 있기 때문에 인덱스/인덱싱/슬라이싱 가능"
   ]
  },
  {
   "cell_type": "code",
   "execution_count": 85,
   "metadata": {
    "ExecuteTime": {
     "end_time": "2021-10-14T11:39:20.056435Z",
     "start_time": "2021-10-14T11:39:20.042473Z"
    }
   },
   "outputs": [
    {
     "data": {
      "text/plain": [
       "[0, 10, 20, 30, 40, 50, 60, 70, 80, 90]"
      ]
     },
     "execution_count": 85,
     "metadata": {},
     "output_type": "execute_result"
    }
   ],
   "source": [
    "a = [0, 10, 20, 30, 40, 50, 60, 70, 80, 90]\n",
    "a"
   ]
  },
  {
   "cell_type": "code",
   "execution_count": 86,
   "metadata": {
    "ExecuteTime": {
     "end_time": "2021-10-14T11:39:20.071396Z",
     "start_time": "2021-10-14T11:39:20.058433Z"
    }
   },
   "outputs": [
    {
     "data": {
      "text/plain": [
       "[0, 10, 20, 30, 40, 50, 60, 70, 80, 90]"
      ]
     },
     "execution_count": 86,
     "metadata": {},
     "output_type": "execute_result"
    }
   ],
   "source": [
    "# 0이상 100미만 10간격 시퀀스 리스트 생성\n"
   ]
  },
  {
   "cell_type": "markdown",
   "metadata": {},
   "source": [
    "- 시퀀스는 멤버연산자를 사용해서 멤버를 조회 할 수 있음"
   ]
  },
  {
   "cell_type": "code",
   "execution_count": 87,
   "metadata": {
    "ExecuteTime": {
     "end_time": "2021-10-14T11:39:20.086357Z",
     "start_time": "2021-10-14T11:39:20.072394Z"
    }
   },
   "outputs": [
    {
     "data": {
      "text/plain": [
       "True"
      ]
     },
     "execution_count": 87,
     "metadata": {},
     "output_type": "execute_result"
    }
   ],
   "source": [
    "# 30이 a리스트에 포함되는지 여부\n"
   ]
  },
  {
   "cell_type": "code",
   "execution_count": 88,
   "metadata": {
    "ExecuteTime": {
     "end_time": "2021-10-14T11:39:20.101316Z",
     "start_time": "2021-10-14T11:39:20.087354Z"
    }
   },
   "outputs": [
    {
     "data": {
      "text/plain": [
       "False"
      ]
     },
     "execution_count": 88,
     "metadata": {},
     "output_type": "execute_result"
    }
   ],
   "source": [
    "# 100이 a리스트에 포함되는지 여부\n"
   ]
  },
  {
   "cell_type": "code",
   "execution_count": 89,
   "metadata": {
    "ExecuteTime": {
     "end_time": "2021-10-14T11:39:20.116276Z",
     "start_time": "2021-10-14T11:39:20.102313Z"
    }
   },
   "outputs": [
    {
     "data": {
      "text/plain": [
       "True"
      ]
     },
     "execution_count": 89,
     "metadata": {},
     "output_type": "execute_result"
    }
   ],
   "source": [
    "# 100이 a리스트에 포함되지 않는지 여부\n"
   ]
  },
  {
   "cell_type": "code",
   "execution_count": 90,
   "metadata": {
    "ExecuteTime": {
     "end_time": "2021-10-14T11:39:20.131236Z",
     "start_time": "2021-10-14T11:39:20.117273Z"
    }
   },
   "outputs": [
    {
     "data": {
      "text/plain": [
       "True"
      ]
     },
     "execution_count": 90,
     "metadata": {},
     "output_type": "execute_result"
    }
   ],
   "source": [
    "# 43이 (38, 76, 43, 62, 19) 튜플에 포함되는지 여부 \n"
   ]
  },
  {
   "cell_type": "markdown",
   "metadata": {},
   "source": [
    "- 시퀀스가 길어지고 일일이 만들기 어려우면 **`range()`** 함수로 쉽게 생성 가능\n",
    "\n",
    "```python\n",
    "range(start, stop, step)    # start부터 stop-1까지 step간격으로 생성\n",
    "```\n",
    "\n",
    "```python\n",
    "range(5)    # 0,1,2,3,4 (시작 인덱스완 간격이 자동으로 0과 1로 지정)\n",
    "range(1,5)    # 1,2,3,4 (간격은 자동으로 1로 지정)\n",
    "range(1,5,2)    # 1,3\n",
    "```"
   ]
  },
  {
   "cell_type": "code",
   "execution_count": 91,
   "metadata": {
    "ExecuteTime": {
     "end_time": "2021-10-14T11:39:20.146223Z",
     "start_time": "2021-10-14T11:39:20.132233Z"
    }
   },
   "outputs": [
    {
     "data": {
      "text/plain": [
       "True"
      ]
     },
     "execution_count": 91,
     "metadata": {},
     "output_type": "execute_result"
    }
   ],
   "source": [
    "# 1이 0이상 10미만 시퀀스에 포함되는지 여부\n"
   ]
  },
  {
   "cell_type": "code",
   "execution_count": 92,
   "metadata": {
    "ExecuteTime": {
     "end_time": "2021-10-14T11:39:20.161187Z",
     "start_time": "2021-10-14T11:39:20.147193Z"
    }
   },
   "outputs": [
    {
     "data": {
      "text/plain": [
       "True"
      ]
     },
     "execution_count": 92,
     "metadata": {},
     "output_type": "execute_result"
    }
   ],
   "source": [
    "# 'P'문자가 'Hello, Python'에 포함되는지 여부\n"
   ]
  },
  {
   "cell_type": "markdown",
   "metadata": {},
   "source": [
    "- 시퀀스는 일부 산술연산자를 사용할 수 있으면 오로지 **`Python`** 에서만 가능!"
   ]
  },
  {
   "cell_type": "code",
   "execution_count": 93,
   "metadata": {
    "ExecuteTime": {
     "end_time": "2021-10-14T11:39:20.176143Z",
     "start_time": "2021-10-14T11:39:20.162153Z"
    }
   },
   "outputs": [
    {
     "data": {
      "text/plain": [
       "[0, 10, 20, 30, 0, 10, 20, 30]"
      ]
     },
     "execution_count": 93,
     "metadata": {},
     "output_type": "execute_result"
    }
   ],
   "source": [
    "# [0, 10, 20, 30] 리스트와 [0, 10, 20, 30] 리스트 붙이기\n"
   ]
  },
  {
   "cell_type": "code",
   "execution_count": 94,
   "metadata": {
    "ExecuteTime": {
     "end_time": "2021-10-14T11:39:20.191078Z",
     "start_time": "2021-10-14T11:39:20.177113Z"
    }
   },
   "outputs": [],
   "source": [
    "# 파이썬이 이해하는 형태가 아닌 함수모습으로 연산은 불가\n"
   ]
  },
  {
   "cell_type": "code",
   "execution_count": 95,
   "metadata": {
    "ExecuteTime": {
     "end_time": "2021-10-14T11:39:20.206063Z",
     "start_time": "2021-10-14T11:39:20.192074Z"
    }
   },
   "outputs": [
    {
     "data": {
      "text/plain": [
       "[0, 1, 2, 3, 4, 5, 6, 7, 8, 9, 10, 11, 12, 13, 14, 15, 16, 17, 18, 19]"
      ]
     },
     "execution_count": 95,
     "metadata": {},
     "output_type": "execute_result"
    }
   ],
   "source": [
    "# 0이상 10미만 시퀀스 리스트와 10이상 20미만 시퀀스 리스트 붙이기\n"
   ]
  },
  {
   "cell_type": "code",
   "execution_count": 96,
   "metadata": {
    "ExecuteTime": {
     "end_time": "2021-10-14T11:39:20.221005Z",
     "start_time": "2021-10-14T11:39:20.207033Z"
    }
   },
   "outputs": [
    {
     "data": {
      "text/plain": [
       "(0, 1, 2, 3, 4, 5, 6, 7, 8, 9, 10, 11, 12, 13, 14, 15, 16, 17, 18, 19)"
      ]
     },
     "execution_count": 96,
     "metadata": {},
     "output_type": "execute_result"
    }
   ],
   "source": [
    "# 0이상 10미만 시퀀스 튜플과 10이상 20미만 시퀀스 튜플 붙이기\n"
   ]
  },
  {
   "cell_type": "code",
   "execution_count": 97,
   "metadata": {
    "ExecuteTime": {
     "end_time": "2021-10-14T11:39:20.235983Z",
     "start_time": "2021-10-14T11:39:20.221993Z"
    }
   },
   "outputs": [
    {
     "data": {
      "text/plain": [
       "'Hello, world!'"
      ]
     },
     "execution_count": 97,
     "metadata": {},
     "output_type": "execute_result"
    }
   ],
   "source": [
    "'Hello, ' + 'world!'"
   ]
  },
  {
   "cell_type": "code",
   "execution_count": 98,
   "metadata": {
    "ExecuteTime": {
     "end_time": "2021-10-14T11:39:20.250947Z",
     "start_time": "2021-10-14T11:39:20.236953Z"
    }
   },
   "outputs": [],
   "source": [
    "# 문자열과 숫자의 연산 불가\n"
   ]
  },
  {
   "cell_type": "code",
   "execution_count": 99,
   "metadata": {
    "ExecuteTime": {
     "end_time": "2021-10-14T11:39:20.265907Z",
     "start_time": "2021-10-14T11:39:20.251913Z"
    }
   },
   "outputs": [
    {
     "data": {
      "text/plain": [
       "'Hello, 10'"
      ]
     },
     "execution_count": 99,
     "metadata": {},
     "output_type": "execute_result"
    }
   ],
   "source": [
    "# 형태를 통일하면 연산 가능\n"
   ]
  },
  {
   "cell_type": "code",
   "execution_count": 100,
   "metadata": {
    "ExecuteTime": {
     "end_time": "2021-10-14T11:39:20.280864Z",
     "start_time": "2021-10-14T11:39:20.266873Z"
    }
   },
   "outputs": [
    {
     "data": {
      "text/plain": [
       "'Hello, 1.5'"
      ]
     },
     "execution_count": 100,
     "metadata": {},
     "output_type": "execute_result"
    }
   ],
   "source": []
  },
  {
   "cell_type": "code",
   "execution_count": 101,
   "metadata": {
    "ExecuteTime": {
     "end_time": "2021-10-14T11:39:20.295820Z",
     "start_time": "2021-10-14T11:39:20.281833Z"
    }
   },
   "outputs": [
    {
     "data": {
      "text/plain": [
       "[0, 10, 20, 30, 0, 10, 20, 30, 0, 10, 20, 30]"
      ]
     },
     "execution_count": 101,
     "metadata": {},
     "output_type": "execute_result"
    }
   ],
   "source": [
    "# [0, 10, 20, 30] 리스트 3번 반복하기\n"
   ]
  },
  {
   "cell_type": "code",
   "execution_count": 102,
   "metadata": {
    "ExecuteTime": {
     "end_time": "2021-10-14T11:39:20.310784Z",
     "start_time": "2021-10-14T11:39:20.296793Z"
    }
   },
   "outputs": [
    {
     "data": {
      "text/plain": [
       "[0, 2, 4, 0, 2, 4, 0, 2, 4]"
      ]
     },
     "execution_count": 102,
     "metadata": {},
     "output_type": "execute_result"
    }
   ],
   "source": [
    "# 0이상 5미만 2간격 시퀀스 리스트 3번 반복하기\n"
   ]
  },
  {
   "cell_type": "code",
   "execution_count": 103,
   "metadata": {
    "ExecuteTime": {
     "end_time": "2021-10-14T11:39:20.325718Z",
     "start_time": "2021-10-14T11:39:20.311753Z"
    }
   },
   "outputs": [
    {
     "data": {
      "text/plain": [
       "(0, 2, 4, 0, 2, 4, 0, 2, 4)"
      ]
     },
     "execution_count": 103,
     "metadata": {},
     "output_type": "execute_result"
    }
   ],
   "source": [
    "# 0이상 5미만 2간격 시퀀스 튜플 3번 반복하기\n"
   ]
  },
  {
   "cell_type": "code",
   "execution_count": 104,
   "metadata": {
    "ExecuteTime": {
     "end_time": "2021-10-14T11:39:20.340675Z",
     "start_time": "2021-10-14T11:39:20.326714Z"
    }
   },
   "outputs": [
    {
     "data": {
      "text/plain": [
       "'Hello, Hello, Hello, '"
      ]
     },
     "execution_count": 104,
     "metadata": {},
     "output_type": "execute_result"
    }
   ],
   "source": [
    "# 문자열 3번 반복하기\n"
   ]
  },
  {
   "cell_type": "code",
   "execution_count": 105,
   "metadata": {
    "ExecuteTime": {
     "end_time": "2021-10-14T11:39:20.355636Z",
     "start_time": "2021-10-14T11:39:20.341673Z"
    }
   },
   "outputs": [],
   "source": [
    "a = [0, 10, 20, 30, 40, 50, 60, 70, 80, 90]"
   ]
  },
  {
   "cell_type": "code",
   "execution_count": 106,
   "metadata": {
    "ExecuteTime": {
     "end_time": "2021-10-14T11:39:20.370595Z",
     "start_time": "2021-10-14T11:39:20.356634Z"
    }
   },
   "outputs": [
    {
     "data": {
      "text/plain": [
       "10"
      ]
     },
     "execution_count": 106,
     "metadata": {},
     "output_type": "execute_result"
    }
   ],
   "source": [
    "# 값의 갯수 측정\n"
   ]
  },
  {
   "cell_type": "code",
   "execution_count": 107,
   "metadata": {
    "ExecuteTime": {
     "end_time": "2021-10-14T11:39:20.385556Z",
     "start_time": "2021-10-14T11:39:20.371593Z"
    }
   },
   "outputs": [
    {
     "data": {
      "text/plain": [
       "5"
      ]
     },
     "execution_count": 107,
     "metadata": {},
     "output_type": "execute_result"
    }
   ],
   "source": []
  },
  {
   "cell_type": "code",
   "execution_count": 108,
   "metadata": {
    "ExecuteTime": {
     "end_time": "2021-10-14T11:39:20.400515Z",
     "start_time": "2021-10-14T11:39:20.387551Z"
    }
   },
   "outputs": [
    {
     "data": {
      "text/plain": [
       "5"
      ]
     },
     "execution_count": 108,
     "metadata": {},
     "output_type": "execute_result"
    }
   ],
   "source": [
    "# 0이상 10미만 2간격 시퀀스의 갯수\n"
   ]
  },
  {
   "cell_type": "code",
   "execution_count": 109,
   "metadata": {
    "ExecuteTime": {
     "end_time": "2021-10-14T11:39:20.415505Z",
     "start_time": "2021-10-14T11:39:20.401513Z"
    }
   },
   "outputs": [
    {
     "data": {
      "text/plain": [
       "13"
      ]
     },
     "execution_count": 109,
     "metadata": {},
     "output_type": "execute_result"
    }
   ],
   "source": [
    "# 문자열은 공백도 포함하여 갯수를 계산\n"
   ]
  },
  {
   "cell_type": "code",
   "execution_count": 110,
   "metadata": {
    "ExecuteTime": {
     "end_time": "2021-10-14T11:39:20.430467Z",
     "start_time": "2021-10-14T11:39:20.416473Z"
    }
   },
   "outputs": [
    {
     "data": {
      "text/plain": [
       "5"
      ]
     },
     "execution_count": 110,
     "metadata": {},
     "output_type": "execute_result"
    }
   ],
   "source": []
  },
  {
   "cell_type": "markdown",
   "metadata": {},
   "source": [
    "- **Question:** 다음 2개의 변수를 사용하여 최근 3년간의 연도 및 GDP를 출력하시오\n",
    "\n",
    "```python\n",
    "year = [2011, 2012, 2013, 2014, 2015, 2016, 2017, 2018]\n",
    "GDP = [10249679, 10195318, 10143645, 10103233, 10022181, 9930616, 9857426, 9838892]\n",
    "```"
   ]
  },
  {
   "cell_type": "code",
   "execution_count": null,
   "metadata": {
    "ExecuteTime": {
     "end_time": "2022-04-21T03:19:28.827791Z",
     "start_time": "2022-04-21T03:19:28.820787Z"
    }
   },
   "outputs": [],
   "source": [
    "\n"
   ]
  },
  {
   "cell_type": "markdown",
   "metadata": {},
   "source": [
    "- **Question:** 다음 튜플에서 인덱스가 홀수인 요소들을 출력하시오\n",
    "\n",
    "```python\n",
    "n = (-32, 75, 97, -10, 9, 32, 4, -15, 0, 76, 14, 2)\n",
    "```"
   ]
  },
  {
   "cell_type": "code",
   "execution_count": 15,
   "metadata": {
    "ExecuteTime": {
     "end_time": "2022-04-07T08:31:29.246304Z",
     "start_time": "2022-04-07T08:31:29.227307Z"
    }
   },
   "outputs": [
    {
     "data": {
      "text/plain": [
       "(75, -10, 32, -15, 76, 2)"
      ]
     },
     "execution_count": 15,
     "metadata": {},
     "output_type": "execute_result"
    }
   ],
   "source": [
    "\n"
   ]
  },
  {
   "cell_type": "markdown",
   "metadata": {},
   "source": [
    "- **Question:** 아래와 같이 3층의 $*$ 문자로 이루어진 별자리를 `star`라는 변수로 만들어 변수에 저장된 별자리를 출력하시오\n",
    "\n",
    "```python\n",
    "*\n",
    "**\n",
    "***\n",
    "```"
   ]
  },
  {
   "cell_type": "code",
   "execution_count": 17,
   "metadata": {
    "ExecuteTime": {
     "end_time": "2022-04-07T08:32:34.925756Z",
     "start_time": "2022-04-07T08:32:34.917754Z"
    }
   },
   "outputs": [
    {
     "name": "stdout",
     "output_type": "stream",
     "text": [
      "\n",
      "*\n",
      "**\n",
      "***\n",
      "\n"
     ]
    }
   ],
   "source": [
    "\n"
   ]
  },
  {
   "cell_type": "markdown",
   "metadata": {},
   "source": [
    "- **Question:** 우리나라는 섭씨 온도표시를 사용하지만, 미국은 화시 온도표시를 사용합니다.    \n",
    "0도의 섭씨는 화씨로 32도 입니다. 만약 18도의 섭씨는 화씨로 얼마가 될지 출력하시오.    \n",
    "이때 사용할 변수명 섭씨는 `C` 화씨는 `F`로 하시오.\n"
   ]
  },
  {
   "cell_type": "code",
   "execution_count": null,
   "metadata": {
    "ExecuteTime": {
     "end_time": "2022-04-21T03:22:49.617060Z",
     "start_time": "2022-04-21T03:22:49.613060Z"
    }
   },
   "outputs": [],
   "source": [
    "\n"
   ]
  },
  {
   "cell_type": "markdown",
   "metadata": {},
   "source": [
    "- **Question:** `range` 함수를 사용해 9부터 0(포함)까지의 거꾸로 나열되 있는 리스트를 출력하시오"
   ]
  },
  {
   "cell_type": "code",
   "execution_count": 30,
   "metadata": {
    "ExecuteTime": {
     "end_time": "2022-04-26T14:34:17.704663Z",
     "start_time": "2022-04-26T14:34:17.691632Z"
    }
   },
   "outputs": [
    {
     "data": {
      "text/plain": [
       "[0, 1, 2, 3, 4, 5, 6, 7, 8, 9]"
      ]
     },
     "execution_count": 30,
     "metadata": {},
     "output_type": "execute_result"
    }
   ],
   "source": [
    "list(range(0,10))"
   ]
  },
  {
   "cell_type": "code",
   "execution_count": 24,
   "metadata": {
    "ExecuteTime": {
     "end_time": "2022-04-07T08:34:52.984094Z",
     "start_time": "2022-04-07T08:34:52.962061Z"
    }
   },
   "outputs": [
    {
     "data": {
      "text/plain": [
       "[9, 8, 7, 6, 5, 4, 3, 2, 1, 0]"
      ]
     },
     "execution_count": 24,
     "metadata": {},
     "output_type": "execute_result"
    }
   ],
   "source": [
    "\n"
   ]
  },
  {
   "cell_type": "markdown",
   "metadata": {},
   "source": [
    "- **Question:** `range` 함수를 사용하여 0이상 10000 미만인 모든 짝수의 합계를 `sum` 내장함수를 사용하여 `summation` 이란 변수에 저장하고, 갯수를 `count`라는 변수에 저장한 후 평균을 출력하시오"
   ]
  },
  {
   "cell_type": "code",
   "execution_count": 24,
   "metadata": {
    "ExecuteTime": {
     "end_time": "2022-04-21T03:24:51.569380Z",
     "start_time": "2022-04-21T03:24:51.556349Z"
    }
   },
   "outputs": [
    {
     "data": {
      "text/plain": [
       "4999.0"
      ]
     },
     "execution_count": 24,
     "metadata": {},
     "output_type": "execute_result"
    }
   ],
   "source": [
    "summation = sum(range(0, 10000, 2))\n",
    "count = len(range(0, 10000, 2))\n",
    "summation/count"
   ]
  },
  {
   "cell_type": "code",
   "execution_count": 25,
   "metadata": {
    "ExecuteTime": {
     "end_time": "2022-04-07T08:35:51.547826Z",
     "start_time": "2022-04-07T08:35:51.539828Z"
    }
   },
   "outputs": [
    {
     "data": {
      "text/plain": [
       "4999.5"
      ]
     },
     "execution_count": 25,
     "metadata": {},
     "output_type": "execute_result"
    }
   ],
   "source": [
    "\n"
   ]
  },
  {
   "cell_type": "code",
   "execution_count": 2,
   "metadata": {
    "ExecuteTime": {
     "end_time": "2022-03-30T07:23:20.658768Z",
     "start_time": "2022-03-30T07:23:20.638742Z"
    }
   },
   "outputs": [
    {
     "name": "stdout",
     "output_type": "stream",
     "text": [
      "Intel64 Family 6 Model 158 Stepping 10, GenuineIntel\n",
      "48(GB)\n",
      "Windows\n",
      "10.0.22000\n",
      "C:\\DataScience\\Lecture\\[DataScience]\n",
      "2022-03-21 01:44:14.436007\n",
      "2022-03-30 16:22:28.459866\n",
      "2022-03-30 16:22:28.459866\n",
      "2022-03-30 16:23:20.643737\n",
      "다음 출력을 파일명으로 설정하고 제출하시오: 김경원_20211011_비즈니스혁신을위한데이터사이언스응용_1반_InputVariable\n"
     ]
    }
   ],
   "source": [
    "# 반드시 이 cell을 실행하시오\n",
    "# 실행하지 않을 시 직접 하지 않은 것으로 간주\n",
    "# 마지막 줄 출력으로 파일명을 설정하고 제출 필수\n",
    "import platform, psutil, os, datetime\n",
    "print(platform.processor())\n",
    "print(str(round(psutil.virtual_memory().total / (1024.0 **3)))+\"(GB)\")\n",
    "print(platform.system())\n",
    "print(platform.version())\n",
    "print(os.getcwd())\n",
    "print(datetime.datetime.fromtimestamp(os.path.getctime(os.getcwd())))\n",
    "print(datetime.datetime.fromtimestamp(os.path.getmtime(os.getcwd())))\n",
    "print(datetime.datetime.fromtimestamp(os.path.getatime(os.getcwd())))\n",
    "print(datetime.datetime.now())\n",
    "title = 'InputVariable'    # 고정값\n",
    "name = '김경원'    # 본인 이름을 작성\n",
    "studentid = '20211011'    # 본인 학번을 작성\n",
    "course = '비즈니스혁신을위한데이터사이언스응용'    # 'E정보시스템', 'E데이터베이스', '빅데이터', \n",
    "                          # '비즈니스혁신을위한데이터사이언스응용', '인공지능활용디지털경제플랫폼연구'\n",
    "course_number = '1반'    #  학수번호 끝자리\n",
    "                         # E데이터베이스 (0003854001) => 1반\n",
    "                         # E데이터베이스 (0003854002) => 2반\n",
    "                         # 빅데이터 (0006718001) => 1반\n",
    "                         # 비즈니스혁신을위한데이터사이언스응용 (1002667001) => 1반\n",
    "print('다음 출력을 파일명으로 설정하고 제출하시오:', name + '_' + studentid + '_' + course + '_' + course_number + '_' + title)"
   ]
  }
 ],
 "metadata": {
  "hide_input": false,
  "kernelspec": {
   "display_name": "Python 3 (ipykernel)",
   "language": "python",
   "name": "python3"
  },
  "language_info": {
   "codemirror_mode": {
    "name": "ipython",
    "version": 3
   },
   "file_extension": ".py",
   "mimetype": "text/x-python",
   "name": "python",
   "nbconvert_exporter": "python",
   "pygments_lexer": "ipython3",
   "version": "3.9.7"
  },
  "toc": {
   "base_numbering": 1,
   "nav_menu": {},
   "number_sections": true,
   "sideBar": true,
   "skip_h1_title": false,
   "title_cell": "Table of Contents",
   "title_sidebar": "Contents",
   "toc_cell": false,
   "toc_position": {
    "height": "calc(100% - 180px)",
    "left": "10px",
    "top": "150px",
    "width": "308.833px"
   },
   "toc_section_display": true,
   "toc_window_display": true
  },
  "varInspector": {
   "cols": {
    "lenName": 16,
    "lenType": 16,
    "lenVar": 40
   },
   "kernels_config": {
    "python": {
     "delete_cmd_postfix": "",
     "delete_cmd_prefix": "del ",
     "library": "var_list.py",
     "varRefreshCmd": "print(var_dic_list())"
    },
    "r": {
     "delete_cmd_postfix": ") ",
     "delete_cmd_prefix": "rm(",
     "library": "var_list.r",
     "varRefreshCmd": "cat(var_dic_list()) "
    }
   },
   "position": {
    "height": "388.4px",
    "left": "850.92px",
    "right": "20px",
    "top": "120px",
    "width": "347px"
   },
   "types_to_exclude": [
    "module",
    "function",
    "builtin_function_or_method",
    "instance",
    "_Feature"
   ],
   "window_display": false
  }
 },
 "nbformat": 4,
 "nbformat_minor": 4
}
